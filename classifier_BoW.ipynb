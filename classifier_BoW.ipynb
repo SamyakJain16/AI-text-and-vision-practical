{
  "cells": [
    {
      "cell_type": "markdown",
      "id": "7f3a5444",
      "metadata": {
        "id": "7f3a5444"
      },
      "source": [
        "# Week 8 Practical"
      ]
    },
    {
      "cell_type": "code",
      "execution_count": null,
      "id": "8cfa4d40",
      "metadata": {
        "id": "8cfa4d40"
      },
      "outputs": [],
      "source": [
        "import numpy as np\n",
        "import nltk\n",
        "from nltk.corpus import gutenberg\n",
        "from keras.models import Model\n",
        "from keras.layers import Input, Lambda, Dense, Concatenate, Flatten\n",
        "from keras.callbacks import EarlyStopping\n",
        "from sklearn.model_selection import train_test_split\n",
        "from keras.utils import plot_model, set_random_seed\n",
        "import tensorflow as tf\n",
        "import pandas as pd\n",
        "import functools\n",
        "import collections\n",
        "import math"
      ]
    },
    {
      "cell_type": "markdown",
      "id": "a0ab6919",
      "metadata": {
        "id": "a0ab6919"
      },
      "source": [
        "## A simple classifier using a bag of words\n",
        "\n",
        "In this practical we will be looking at a dataset called \"Symptom2Disease\"\n",
        "from https://www.kaggle.com/datasets/niyarrbarman/symptom2disease\n",
        "\n",
        "Authors:\n",
        "\n",
        "- Niyar R Barman\n",
        "- Faizal Karim\n",
        "- Krish Sharma\n",
        "\n",
        "It's not quite real, but it is believable: their methodology was:\n",
        "\n",
        "> We collected disease symptoms for 24 common diseases. We then used LLMs to convert the\n",
        "> raw data into natural language description of symptoms."
      ]
    },
    {
      "cell_type": "markdown",
      "id": "3c43d282",
      "metadata": {
        "id": "3c43d282"
      },
      "source": [
        "### Data preparation\n",
        "\n",
        "The data set is in the same folder as this jupyter notebook, with the name Symptom2Disease.csv\n",
        "\n",
        "Load it up into a dataframe and view it"
      ]
    },
    {
      "cell_type": "code",
      "execution_count": null,
      "id": "d8316757",
      "metadata": {
        "id": "d8316757",
        "outputId": "e27f892e-b6e9-4171-cf71-cd20ecbebe0a"
      },
      "outputs": [
        {
          "data": {
            "text/html": [
              "<div>\n",
              "<style scoped>\n",
              "    .dataframe tbody tr th:only-of-type {\n",
              "        vertical-align: middle;\n",
              "    }\n",
              "\n",
              "    .dataframe tbody tr th {\n",
              "        vertical-align: top;\n",
              "    }\n",
              "\n",
              "    .dataframe thead th {\n",
              "        text-align: right;\n",
              "    }\n",
              "</style>\n",
              "<table border=\"1\" class=\"dataframe\">\n",
              "  <thead>\n",
              "    <tr style=\"text-align: right;\">\n",
              "      <th></th>\n",
              "      <th>Unnamed: 0</th>\n",
              "      <th>label</th>\n",
              "      <th>text</th>\n",
              "    </tr>\n",
              "  </thead>\n",
              "  <tbody>\n",
              "    <tr>\n",
              "      <th>1194</th>\n",
              "      <td>294</td>\n",
              "      <td>diabetes</td>\n",
              "      <td>My emotions fluctuate, and it's hard for me to...</td>\n",
              "    </tr>\n",
              "    <tr>\n",
              "      <th>122</th>\n",
              "      <td>122</td>\n",
              "      <td>Typhoid</td>\n",
              "      <td>There is a distinct pain in my abdominal part....</td>\n",
              "    </tr>\n",
              "    <tr>\n",
              "      <th>14</th>\n",
              "      <td>14</td>\n",
              "      <td>Psoriasis</td>\n",
              "      <td>My skin is prone to infections due to dry, fla...</td>\n",
              "    </tr>\n",
              "    <tr>\n",
              "      <th>517</th>\n",
              "      <td>217</td>\n",
              "      <td>Arthritis</td>\n",
              "      <td>My muscles have been really weak, and my neck ...</td>\n",
              "    </tr>\n",
              "    <tr>\n",
              "      <th>465</th>\n",
              "      <td>165</td>\n",
              "      <td>Dimorphic Hemorrhoids</td>\n",
              "      <td>I've been experiencing problems using the rest...</td>\n",
              "    </tr>\n",
              "  </tbody>\n",
              "</table>\n",
              "</div>"
            ],
            "text/plain": [
              "      Unnamed: 0                  label  \\\n",
              "1194         294               diabetes   \n",
              "122          122                Typhoid   \n",
              "14            14              Psoriasis   \n",
              "517          217              Arthritis   \n",
              "465          165  Dimorphic Hemorrhoids   \n",
              "\n",
              "                                                   text  \n",
              "1194  My emotions fluctuate, and it's hard for me to...  \n",
              "122   There is a distinct pain in my abdominal part....  \n",
              "14    My skin is prone to infections due to dry, fla...  \n",
              "517   My muscles have been really weak, and my neck ...  \n",
              "465   I've been experiencing problems using the rest...  "
            ]
          },
          "execution_count": 9,
          "metadata": {},
          "output_type": "execute_result"
        }
      ],
      "source": [
        "import pandas\n",
        "\n",
        "df = pandas.read_csv('Symptom2Disease.csv')\n",
        "df.sample(5)"
      ]
    },
    {
      "cell_type": "markdown",
      "id": "f1a01713",
      "metadata": {
        "id": "f1a01713"
      },
      "source": [
        "How many different diseases are listed (\"label\")? Is this a balanced data set?"
      ]
    },
    {
      "cell_type": "code",
      "execution_count": null,
      "id": "41c7db38",
      "metadata": {
        "id": "41c7db38",
        "outputId": "1b630e6b-ea73-456c-e593-528a352fcecc"
      },
      "outputs": [
        {
          "name": "stdout",
          "output_type": "stream",
          "text": [
            "['Psoriasis' 'Varicose Veins' 'Typhoid' 'Chicken pox' 'Impetigo' 'Dengue'\n",
            " 'Fungal infection' 'Common Cold' 'Pneumonia' 'Dimorphic Hemorrhoids'\n",
            " 'Arthritis' 'Acne' 'Bronchial Asthma' 'Hypertension' 'Migraine'\n",
            " 'Cervical spondylosis' 'Jaundice' 'Malaria' 'urinary tract infection'\n",
            " 'allergy' 'gastroesophageal reflux disease' 'drug reaction'\n",
            " 'peptic ulcer disease' 'diabetes']\n",
            "24\n",
            "Psoriasis                          50\n",
            "Varicose Veins                     50\n",
            "peptic ulcer disease               50\n",
            "drug reaction                      50\n",
            "gastroesophageal reflux disease    50\n",
            "allergy                            50\n",
            "urinary tract infection            50\n",
            "Malaria                            50\n",
            "Jaundice                           50\n",
            "Cervical spondylosis               50\n",
            "Migraine                           50\n",
            "Hypertension                       50\n",
            "Bronchial Asthma                   50\n",
            "Acne                               50\n",
            "Arthritis                          50\n",
            "Dimorphic Hemorrhoids              50\n",
            "Pneumonia                          50\n",
            "Common Cold                        50\n",
            "Fungal infection                   50\n",
            "Dengue                             50\n",
            "Impetigo                           50\n",
            "Chicken pox                        50\n",
            "Typhoid                            50\n",
            "diabetes                           50\n",
            "Name: label, dtype: int64\n"
          ]
        }
      ],
      "source": [
        "print(df.label.unique())\n",
        "print(df.label.nunique())\n",
        "print(df.label.value_counts())"
      ]
    },
    {
      "cell_type": "markdown",
      "id": "316c70aa",
      "metadata": {
        "id": "316c70aa"
      },
      "source": [
        "We'll start with a slightly easier problem: instead of predicting the disease specifically, let's\n",
        "just see whether someone with those symptoms should visit a general practitioner to be treated, or whether\n",
        "they will end up seeing a specialist.\n",
        "\n",
        "The diseases that are very common and general practitioner might be able to treat are:\n",
        "\n",
        "- Common Cold\n",
        "\n",
        "- Bronchial Asthma\n",
        "\n",
        "- Hypertension\n",
        "\n",
        "- Migraine\n",
        "\n",
        "- Allergy\n",
        "\n",
        "- Drug Reaction\n",
        "\n",
        "- Urinary Tract Infection\n",
        "\n",
        "Update your dataframe with a column \"requires_specialist\" for the diseases not in that list."
      ]
    },
    {
      "cell_type": "code",
      "execution_count": null,
      "id": "3031b284",
      "metadata": {
        "id": "3031b284"
      },
      "outputs": [],
      "source": [
        "dermatology_diseases = ['Psoriasis', 'Impetigo', 'Acne']\n",
        "general_practitioner_diseases = ['Common Cold', 'Bronchial Asthma', 'Hypertension', 'Migraine', 'Allergy',\n",
        "            'Drug Reaction',  'Urinary Tract Infection']\n",
        "gastroenterology_diseases = ['Gastroesophageal Reflux Disease (GERD)', 'Peptic Ulcer Disease']\n",
        "infectious_diseases = ['Typhoid', 'Chicken Pox', 'Dengue', 'Fungal Infection', 'Malaria', ]\n",
        "\n",
        "df['requires_specialist'] = ~df.label.isin(general_practitioner_diseases)"
      ]
    },
    {
      "cell_type": "markdown",
      "id": "0fabc1c1",
      "metadata": {
        "id": "0fabc1c1"
      },
      "source": [
        "Is it a balanced data set now?"
      ]
    },
    {
      "cell_type": "code",
      "execution_count": null,
      "id": "e9d7ed3e",
      "metadata": {
        "id": "e9d7ed3e",
        "outputId": "09129687-e570-4f20-b88f-01ac9c6718f6"
      },
      "outputs": [
        {
          "data": {
            "text/plain": [
              "True     1000\n",
              "False     200\n",
              "Name: requires_specialist, dtype: int64"
            ]
          },
          "execution_count": 12,
          "metadata": {},
          "output_type": "execute_result"
        }
      ],
      "source": [
        "df.requires_specialist.value_counts()"
      ]
    },
    {
      "cell_type": "markdown",
      "id": "d97d9f1c",
      "metadata": {
        "id": "d97d9f1c"
      },
      "source": [
        "Split the data into training, validation and test data. You can do this by running\n",
        "`sklearn.model_selection.train_test_split` twice."
      ]
    },
    {
      "cell_type": "code",
      "execution_count": null,
      "id": "74c58650",
      "metadata": {
        "id": "74c58650"
      },
      "outputs": [],
      "source": [
        "import sklearn.model_selection\n",
        "\n",
        "pseudo_train, test_data = sklearn.model_selection.train_test_split(df, random_state=12345)\n",
        "train_data, validation_data = sklearn.model_selection.train_test_split(pseudo_train, random_state=1235)"
      ]
    },
    {
      "cell_type": "markdown",
      "id": "68087a65",
      "metadata": {
        "id": "68087a65"
      },
      "source": [
        "Create a `keras.layers.TextVectorization` object with `output_mode='tf_idf'`, and `.adapt()` it to\n",
        "the text of your training data."
      ]
    },
    {
      "cell_type": "code",
      "execution_count": null,
      "id": "0660a04d",
      "metadata": {
        "id": "0660a04d",
        "outputId": "7a02c06c-7aed-4470-d0bc-c214abdfb48b"
      },
      "outputs": [
        {
          "name": "stderr",
          "output_type": "stream",
          "text": [
            "2023-09-22 15:29:32.786093: I tensorflow/core/grappler/optimizers/custom_graph_optimizer_registry.cc:113] Plugin optimizer for device_type GPU is enabled.\n"
          ]
        }
      ],
      "source": [
        "import keras\n",
        "\n",
        "# In a later exercise students come back here to set max_tokens\n",
        "vectorizer = keras.layers.TextVectorization(output_mode='tf_idf',# max_tokens=715,\n",
        "                                            ngrams=2)\n",
        "vectorizer.adapt(train_data.text)"
      ]
    },
    {
      "cell_type": "markdown",
      "id": "26cca395",
      "metadata": {
        "id": "26cca395"
      },
      "source": [
        "Convert your training, validation and test data into TF-IDF vectors using your vectorizer."
      ]
    },
    {
      "cell_type": "code",
      "execution_count": null,
      "id": "4a645a7a",
      "metadata": {
        "id": "4a645a7a"
      },
      "outputs": [],
      "source": [
        "train_vectors = vectorizer(train_data.text)\n",
        "validation_vectors = vectorizer(validation_data.text)\n",
        "test_vectors = vectorizer(test_data.text)"
      ]
    },
    {
      "cell_type": "markdown",
      "id": "bbe23e07",
      "metadata": {
        "id": "bbe23e07"
      },
      "source": [
        "### A small logistic regression classifier using Keras\n",
        "\n",
        "Let's see if we can predict who is going to need a specialist.\n",
        "\n",
        "We'll use function notation (even though it isn't strictly necessary for this structure)."
      ]
    },
    {
      "cell_type": "markdown",
      "id": "b7dd1dbf",
      "metadata": {
        "id": "b7dd1dbf"
      },
      "source": [
        "Create a `keras.Input` object. Its shape should be the size of the vocabulary in your vectorizer."
      ]
    },
    {
      "cell_type": "code",
      "execution_count": null,
      "id": "56daa585",
      "metadata": {
        "id": "56daa585"
      },
      "outputs": [],
      "source": [
        "inputs = keras.Input(shape=(vectorizer.vocabulary_size()))"
      ]
    },
    {
      "cell_type": "markdown",
      "id": "8c5bd559",
      "metadata": {
        "id": "8c5bd559"
      },
      "source": [
        "Create a `keras.layers.Dense` object to be your output layer, and pass it your input object\n",
        "as a function argument.\n",
        "\n",
        "Because there is only one value (\"needs a specialist or not\"), it should have one neuron, and a sigmoid activation."
      ]
    },
    {
      "cell_type": "code",
      "execution_count": null,
      "id": "b6e506e7",
      "metadata": {
        "id": "b6e506e7"
      },
      "outputs": [],
      "source": [
        "output = keras.layers.Dense(1, activation='sigmoid')(inputs)"
      ]
    },
    {
      "cell_type": "markdown",
      "id": "af3d36df",
      "metadata": {
        "id": "af3d36df"
      },
      "source": [
        "Create a `keras.Model` object. `inputs=` the input object; `outputs=` the output layer"
      ]
    },
    {
      "cell_type": "code",
      "execution_count": null,
      "id": "8a83bd44",
      "metadata": {
        "id": "8a83bd44"
      },
      "outputs": [],
      "source": [
        "model = keras.Model(inputs=inputs, outputs=output)"
      ]
    },
    {
      "cell_type": "markdown",
      "id": "6d1f4619",
      "metadata": {
        "id": "6d1f4619"
      },
      "source": [
        "### Repeating what you have done in the first half of the course\n",
        "\n",
        "From here, everything is pretty much the same as every other classifier in the first half of the course.\n",
        "\n",
        "Compile the model. There are only two classes, so you can use `binary_crossentropy`.\n",
        "\n",
        "We want to know accuracy, recall, precision and F1 score. F1 score was added in TensorFlow 2.13.0 so if you have\n",
        "an older version, this might be unavailable to you."
      ]
    },
    {
      "cell_type": "code",
      "execution_count": null,
      "id": "e1930cde",
      "metadata": {
        "id": "e1930cde"
      },
      "outputs": [],
      "source": [
        "model.compile(loss='binary_crossentropy', metrics=[\"accuracy\",\n",
        "                                                   keras.metrics.Precision(),\n",
        "             keras.metrics.Recall()])"
      ]
    },
    {
      "cell_type": "markdown",
      "id": "a610014e",
      "metadata": {
        "id": "a610014e"
      },
      "source": [
        "Display a summary of your model."
      ]
    },
    {
      "cell_type": "code",
      "execution_count": null,
      "id": "fa4a383e",
      "metadata": {
        "id": "fa4a383e",
        "outputId": "e33573e2-78f5-4929-df09-e39547a6726f"
      },
      "outputs": [
        {
          "name": "stdout",
          "output_type": "stream",
          "text": [
            "Model: \"model_1\"\n",
            "_________________________________________________________________\n",
            " Layer (type)                Output Shape              Param #   \n",
            "=================================================================\n",
            " input_2 (InputLayer)        [(None, 7783)]            0         \n",
            "                                                                 \n",
            " dense_1 (Dense)             (None, 1)                 7784      \n",
            "                                                                 \n",
            "=================================================================\n",
            "Total params: 7,784\n",
            "Trainable params: 7,784\n",
            "Non-trainable params: 0\n",
            "_________________________________________________________________\n"
          ]
        }
      ],
      "source": [
        "model.summary()"
      ]
    },
    {
      "cell_type": "markdown",
      "id": "765e4193",
      "metadata": {
        "id": "765e4193"
      },
      "source": [
        "Fit the model.\n",
        "\n",
        "You will need:\n",
        "\n",
        "- `x` will be your training vectors\n",
        "\n",
        "- `y` will be the `requires_specialist` column\n",
        "\n",
        "- `validation_data` will be the same as for training, but using the validation data\n",
        "\n",
        "- You might want a callback to stop training when the validation loss stops improving.\n",
        "\n",
        "- You won't need many epochs: it should be less than 100, and they should be quick to run.\n",
        "\n",
        "Save the history into a variable so that we can look at it."
      ]
    },
    {
      "cell_type": "code",
      "execution_count": null,
      "id": "8892d4c9",
      "metadata": {
        "id": "8892d4c9",
        "outputId": "4a21976e-9cc9-4581-99bc-477bd0f03b5b"
      },
      "outputs": [
        {
          "name": "stdout",
          "output_type": "stream",
          "text": [
            "Epoch 1/500\n",
            " 1/22 [>.............................] - ETA: 10s - loss: 0.6997 - accuracy: 0.5312 - precision: 0.7647 - recall: 0.5417"
          ]
        },
        {
          "name": "stderr",
          "output_type": "stream",
          "text": [
            "2023-09-22 15:29:33.752567: I tensorflow/core/grappler/optimizers/custom_graph_optimizer_registry.cc:113] Plugin optimizer for device_type GPU is enabled.\n"
          ]
        },
        {
          "name": "stdout",
          "output_type": "stream",
          "text": [
            "22/22 [==============================] - ETA: 0s - loss: 0.4250 - accuracy: 0.8400 - precision: 0.8847 - recall: 0.9261"
          ]
        },
        {
          "name": "stderr",
          "output_type": "stream",
          "text": [
            "2023-09-22 15:29:34.309342: I tensorflow/core/grappler/optimizers/custom_graph_optimizer_registry.cc:113] Plugin optimizer for device_type GPU is enabled.\n"
          ]
        },
        {
          "name": "stdout",
          "output_type": "stream",
          "text": [
            "22/22 [==============================] - 1s 27ms/step - loss: 0.4250 - accuracy: 0.8400 - precision: 0.8847 - recall: 0.9261 - val_loss: 0.3542 - val_accuracy: 0.9111 - val_precision: 0.9082 - val_recall: 0.9889\n",
            "Epoch 2/500\n",
            "22/22 [==============================] - 0s 10ms/step - loss: 0.2038 - accuracy: 0.9526 - precision: 0.9470 - recall: 0.9982 - val_loss: 0.2423 - val_accuracy: 0.9511 - val_precision: 0.9424 - val_recall: 1.0000\n",
            "Epoch 3/500\n",
            "22/22 [==============================] - 0s 10ms/step - loss: 0.1188 - accuracy: 0.9852 - precision: 0.9823 - recall: 1.0000 - val_loss: 0.1760 - val_accuracy: 0.9733 - val_precision: 0.9677 - val_recall: 1.0000\n",
            "Epoch 4/500\n",
            "22/22 [==============================] - 0s 10ms/step - loss: 0.0718 - accuracy: 0.9985 - precision: 0.9982 - recall: 1.0000 - val_loss: 0.1333 - val_accuracy: 0.9822 - val_precision: 0.9783 - val_recall: 1.0000\n",
            "Epoch 5/500\n",
            "22/22 [==============================] - 0s 10ms/step - loss: 0.0446 - accuracy: 1.0000 - precision: 1.0000 - recall: 1.0000 - val_loss: 0.1050 - val_accuracy: 0.9911 - val_precision: 0.9890 - val_recall: 1.0000\n",
            "Epoch 6/500\n",
            "22/22 [==============================] - 0s 10ms/step - loss: 0.0286 - accuracy: 1.0000 - precision: 1.0000 - recall: 1.0000 - val_loss: 0.0860 - val_accuracy: 0.9956 - val_precision: 0.9945 - val_recall: 1.0000\n",
            "Epoch 7/500\n",
            "22/22 [==============================] - 0s 10ms/step - loss: 0.0188 - accuracy: 1.0000 - precision: 1.0000 - recall: 1.0000 - val_loss: 0.0712 - val_accuracy: 0.9956 - val_precision: 0.9945 - val_recall: 1.0000\n",
            "Epoch 8/500\n",
            "22/22 [==============================] - 0s 10ms/step - loss: 0.0125 - accuracy: 1.0000 - precision: 1.0000 - recall: 1.0000 - val_loss: 0.0611 - val_accuracy: 0.9956 - val_precision: 0.9945 - val_recall: 1.0000\n",
            "Epoch 9/500\n",
            "22/22 [==============================] - 0s 11ms/step - loss: 0.0084 - accuracy: 1.0000 - precision: 1.0000 - recall: 1.0000 - val_loss: 0.0531 - val_accuracy: 0.9956 - val_precision: 0.9945 - val_recall: 1.0000\n",
            "Epoch 10/500\n",
            "22/22 [==============================] - 0s 11ms/step - loss: 0.0058 - accuracy: 1.0000 - precision: 1.0000 - recall: 1.0000 - val_loss: 0.0482 - val_accuracy: 0.9956 - val_precision: 0.9945 - val_recall: 1.0000\n",
            "Epoch 11/500\n",
            "22/22 [==============================] - 0s 10ms/step - loss: 0.0040 - accuracy: 1.0000 - precision: 1.0000 - recall: 1.0000 - val_loss: 0.0443 - val_accuracy: 0.9911 - val_precision: 0.9890 - val_recall: 1.0000\n",
            "Epoch 12/500\n",
            "22/22 [==============================] - 0s 10ms/step - loss: 0.0028 - accuracy: 1.0000 - precision: 1.0000 - recall: 1.0000 - val_loss: 0.0413 - val_accuracy: 0.9911 - val_precision: 0.9890 - val_recall: 1.0000\n",
            "Epoch 13/500\n",
            "22/22 [==============================] - 0s 10ms/step - loss: 0.0020 - accuracy: 1.0000 - precision: 1.0000 - recall: 1.0000 - val_loss: 0.0386 - val_accuracy: 0.9911 - val_precision: 0.9890 - val_recall: 1.0000\n",
            "Epoch 14/500\n",
            "22/22 [==============================] - 0s 10ms/step - loss: 0.0014 - accuracy: 1.0000 - precision: 1.0000 - recall: 1.0000 - val_loss: 0.0365 - val_accuracy: 0.9911 - val_precision: 0.9890 - val_recall: 1.0000\n",
            "Epoch 15/500\n",
            "22/22 [==============================] - 0s 10ms/step - loss: 0.0010 - accuracy: 1.0000 - precision: 1.0000 - recall: 1.0000 - val_loss: 0.0361 - val_accuracy: 0.9911 - val_precision: 0.9890 - val_recall: 1.0000\n",
            "Epoch 16/500\n",
            "22/22 [==============================] - 0s 11ms/step - loss: 7.4907e-04 - accuracy: 1.0000 - precision: 1.0000 - recall: 1.0000 - val_loss: 0.0353 - val_accuracy: 0.9911 - val_precision: 0.9890 - val_recall: 1.0000\n",
            "Epoch 17/500\n",
            "22/22 [==============================] - 0s 11ms/step - loss: 5.4996e-04 - accuracy: 1.0000 - precision: 1.0000 - recall: 1.0000 - val_loss: 0.0351 - val_accuracy: 0.9867 - val_precision: 0.9836 - val_recall: 1.0000\n",
            "Epoch 18/500\n",
            "22/22 [==============================] - 0s 10ms/step - loss: 4.0368e-04 - accuracy: 1.0000 - precision: 1.0000 - recall: 1.0000 - val_loss: 0.0338 - val_accuracy: 0.9911 - val_precision: 0.9890 - val_recall: 1.0000\n",
            "Epoch 19/500\n",
            "22/22 [==============================] - 0s 10ms/step - loss: 2.9784e-04 - accuracy: 1.0000 - precision: 1.0000 - recall: 1.0000 - val_loss: 0.0339 - val_accuracy: 0.9867 - val_precision: 0.9836 - val_recall: 1.0000\n",
            "Epoch 20/500\n",
            "22/22 [==============================] - 0s 10ms/step - loss: 2.1910e-04 - accuracy: 1.0000 - precision: 1.0000 - recall: 1.0000 - val_loss: 0.0341 - val_accuracy: 0.9867 - val_precision: 0.9836 - val_recall: 1.0000\n",
            "Epoch 21/500\n",
            "22/22 [==============================] - 0s 11ms/step - loss: 1.6515e-04 - accuracy: 1.0000 - precision: 1.0000 - recall: 1.0000 - val_loss: 0.0340 - val_accuracy: 0.9867 - val_precision: 0.9836 - val_recall: 1.0000\n"
          ]
        }
      ],
      "source": [
        "history = model.fit(x=train_vectors, y=train_data.requires_specialist,\n",
        "          validation_data=(validation_vectors,\n",
        "                          validation_data.requires_specialist),\n",
        "          callbacks=[keras.callbacks.EarlyStopping(\n",
        "              monitor='val_loss',\n",
        "              patience=3\n",
        "          )],\n",
        "          epochs=500\n",
        "         )"
      ]
    },
    {
      "cell_type": "markdown",
      "id": "82cfd845",
      "metadata": {
        "id": "82cfd845"
      },
      "source": [
        "Make a matplotlib chart showing the accuracy and training loss over time."
      ]
    },
    {
      "cell_type": "code",
      "execution_count": null,
      "id": "d856403e",
      "metadata": {
        "id": "d856403e",
        "outputId": "5b38be41-cfc4-4425-ce86-1167f2023451"
      },
      "outputs": [
        {
          "data": {
            "image/png": "[encoded data removed]",
            "text/plain": [
              "<Figure size 1200x600 with 2 Axes>"
            ]
          },
          "metadata": {},
          "output_type": "display_data"
        }
      ],
      "source": [
        "import matplotlib.pyplot as plt\n",
        "fig, axes = plt.subplots(ncols=2, figsize=(12,6))\n",
        "axes[0].plot(history.history['accuracy'],\n",
        "        label='Training Accuracy')\n",
        "axes[0].plot(history.history['val_accuracy'],\n",
        "        label='Validation Accuracy')\n",
        "axes[0].set_title('Training and Validation Accuracy')\n",
        "axes[0].set_xlabel('Epochs')\n",
        "axes[0].set_ylabel('Accuracy (bigger is better)')\n",
        "axes[0].legend()\n",
        "\n",
        "\n",
        "axes[1].plot(history.history['loss'],\n",
        "        label='Training Loss')\n",
        "axes[1].plot(history.history['val_loss'],\n",
        "        label='Validation Loss')\n",
        "axes[1].set_title('Training and Validation Loss')\n",
        "axes[1].set_xlabel('Epochs')\n",
        "axes[1].set_ylabel('Loss (smaller is better)')\n",
        "axes[1].legend()\n",
        "axes[1].set_yscale('log')"
      ]
    },
    {
      "cell_type": "markdown",
      "id": "8febcc1d",
      "metadata": {
        "id": "8febcc1d"
      },
      "source": [
        "Calculate the corpus size, the vocabulary size and their ratio (i.e. the corpus size divided by the vocabulary size).\n",
        "Based on this and the previous charts, decide whether the model is likely to be overfitting."
      ]
    },
    {
      "cell_type": "code",
      "execution_count": null,
      "id": "e1a6bdbc",
      "metadata": {
        "id": "e1a6bdbc",
        "outputId": "ae800aa0-12ee-4380-9016-8a1fa8868da0"
      },
      "outputs": [
        {
          "name": "stdout",
          "output_type": "stream",
          "text": [
            "Corpus size =  675\n",
            "Vocabulary size = 7783\n",
            "Corpus : vocabulary ratio = 0.08672748297571631\n"
          ]
        }
      ],
      "source": [
        "print(\"Corpus size = \", train_data.shape[0])\n",
        "print(\"Vocabulary size =\", vectorizer.vocabulary_size())\n",
        "print(\"Corpus : vocabulary ratio =\",\n",
        "      train_data.shape[0] / vectorizer.vocabulary_size())"
      ]
    },
    {
      "cell_type": "markdown",
      "id": "132fb16f",
      "metadata": {
        "id": "132fb16f"
      },
      "source": [
        "Calculate an appropriate vocabulary size if you only wanted to include words that appeared in the\n",
        "training data at least 3 times. Go back to where you defined your TextVectorization object and\n",
        "set `max_tokens` to (this value + 1). It might give you a tiny improvement in your validation scores.\n",
        "\n",
        "Also try using bigrams. Does this help?"
      ]
    },
    {
      "cell_type": "code",
      "execution_count": null,
      "id": "240c7af3",
      "metadata": {
        "id": "240c7af3",
        "outputId": "19fb5b0a-d6ac-4a59-b6b6-5e22a6d51fad"
      },
      "outputs": [
        {
          "name": "stdout",
          "output_type": "stream",
          "text": [
            "714\n"
          ]
        }
      ],
      "source": [
        "import nltk\n",
        "import collections\n",
        "c = collections.Counter()\n",
        "for sentence in train_data.text:\n",
        "    for word in nltk.word_tokenize(sentence):\n",
        "        c[word.upper()] += 1\n",
        "vocab_size = sum([1 for x in c.values() if x > 2])\n",
        "print(vocab_size)"
      ]
    },
    {
      "cell_type": "markdown",
      "id": "f8e6db89",
      "metadata": {
        "id": "f8e6db89"
      },
      "source": [
        "Use `.evaluate` on your test data to confirm that your validation results are still close to the test results and\n",
        "our parameter tuning for validation hasn't altered the results too much."
      ]
    },
    {
      "cell_type": "code",
      "execution_count": null,
      "id": "5337d8f2",
      "metadata": {
        "id": "5337d8f2",
        "outputId": "6e88ba0a-f0e5-4ffe-fca5-83eddd745812"
      },
      "outputs": [
        {
          "name": "stdout",
          "output_type": "stream",
          "text": [
            "Test evaluation:\n",
            "{'loss': 0.012771002016961575, 'accuracy': 0.996666669845581, 'precision': 0.9962406158447266, 'recall': 1.0}\n"
          ]
        }
      ],
      "source": [
        "print(\"Test evaluation:\")\n",
        "print(model.evaluate(test_vectors,\n",
        "                     test_data.requires_specialist,\n",
        "                     return_dict=True,\n",
        "                     verbose=0))"
      ]
    },
    {
      "cell_type": "markdown",
      "id": "727be193",
      "metadata": {
        "id": "727be193"
      },
      "source": [
        "## Harder task: predicting the actual disease, not just who to go to"
      ]
    },
    {
      "cell_type": "markdown",
      "id": "bc74b0a4",
      "metadata": {
        "id": "bc74b0a4"
      },
      "source": [
        "Unlike (say) the sklearn classifiers, keras can't work with text labels for classes. Use\n",
        "`sklearn.preprocessing.LabelEncoder` (or anything else that works for you) to convert the disease labels into integer labels.\n",
        "\n",
        "You will need to do a train-test split again."
      ]
    },
    {
      "cell_type": "code",
      "execution_count": null,
      "id": "59c8e483",
      "metadata": {
        "id": "59c8e483",
        "outputId": "0efdc938-f268-4576-a8de-73ecb95ff158"
      },
      "outputs": [
        {
          "name": "stderr",
          "output_type": "stream",
          "text": [
            "2023-09-22 15:29:39.835099: I tensorflow/core/grappler/optimizers/custom_graph_optimizer_registry.cc:113] Plugin optimizer for device_type GPU is enabled.\n"
          ]
        }
      ],
      "source": [
        "import sklearn.preprocessing\n",
        "encoder = sklearn.preprocessing.LabelEncoder()\n",
        "df['integer_labels'] = encoder.fit_transform(df['label'])\n",
        "pseudo_train, test_data = sklearn.model_selection.train_test_split(df, random_state=12345)\n",
        "train_data, validation_data = sklearn.model_selection.train_test_split(pseudo_train, random_state=1235)\n",
        "vectorizer = keras.layers.TextVectorization(output_mode='tf_idf',# max_tokens=715,\n",
        "                                            ngrams=2)\n",
        "vectorizer.adapt(train_data.text)\n",
        "train_vectors = vectorizer(train_data.text)\n",
        "validation_vectors = vectorizer(validation_data.text)\n",
        "test_vectors = vectorizer(test_data.text)"
      ]
    },
    {
      "cell_type": "markdown",
      "id": "6ad968a2",
      "metadata": {
        "id": "6ad968a2"
      },
      "source": [
        "You can re-use the existing `keras.Input` since that hasn't changed, or define a new one.\n",
        "Then create an output layer:\n",
        "\n",
        "- It will need as many neurons as there are diseases\n",
        "\n",
        "- Use a 'softmax' activation to normalise the probabilities\n",
        "\n",
        "And then create a model using those inputs and outputs."
      ]
    },
    {
      "cell_type": "code",
      "execution_count": null,
      "id": "50a7cb1f",
      "metadata": {
        "id": "50a7cb1f"
      },
      "outputs": [],
      "source": [
        "inputs = keras.Input(shape=(vectorizer.vocabulary_size()))\n",
        "output = keras.layers.Dense(df.label.nunique(), activation='softmax')(inputs)\n",
        "model = keras.Model(inputs=inputs, outputs=output)"
      ]
    },
    {
      "cell_type": "markdown",
      "id": "2e18cd7f",
      "metadata": {
        "id": "2e18cd7f"
      },
      "source": [
        "To compile this model we will need to use `sparse_categorical_crossentropy` as the\n",
        "loss. Let's use accuracy as the only other metric (we know how to add more if we need to.)"
      ]
    },
    {
      "cell_type": "code",
      "execution_count": null,
      "id": "d3701810",
      "metadata": {
        "id": "d3701810",
        "outputId": "e2fc40c3-d907-4655-f415-695a30506b1f"
      },
      "outputs": [
        {
          "name": "stdout",
          "output_type": "stream",
          "text": [
            "Epoch 1/500\n",
            "10/22 [============>.................] - ETA: 0s - loss: 2.7868 - accuracy: 0.2781"
          ]
        },
        {
          "name": "stderr",
          "output_type": "stream",
          "text": [
            "2023-09-22 15:29:40.562414: I tensorflow/core/grappler/optimizers/custom_graph_optimizer_registry.cc:113] Plugin optimizer for device_type GPU is enabled.\n"
          ]
        },
        {
          "name": "stdout",
          "output_type": "stream",
          "text": [
            "22/22 [==============================] - 0s 13ms/step - loss: 2.3778 - accuracy: 0.4519 - val_loss: 1.7454 - val_accuracy: 0.6311\n",
            "Epoch 2/500\n",
            "11/22 [==============>...............] - ETA: 0s - loss: 0.9347 - accuracy: 0.9688"
          ]
        },
        {
          "name": "stderr",
          "output_type": "stream",
          "text": [
            "2023-09-22 15:29:40.860680: I tensorflow/core/grappler/optimizers/custom_graph_optimizer_registry.cc:113] Plugin optimizer for device_type GPU is enabled.\n"
          ]
        },
        {
          "name": "stdout",
          "output_type": "stream",
          "text": [
            "22/22 [==============================] - 0s 7ms/step - loss: 0.8290 - accuracy: 0.9778 - val_loss: 1.1302 - val_accuracy: 0.7467\n",
            "Epoch 3/500\n",
            "22/22 [==============================] - 0s 7ms/step - loss: 0.3198 - accuracy: 1.0000 - val_loss: 0.8245 - val_accuracy: 0.8267\n",
            "Epoch 4/500\n",
            "22/22 [==============================] - 0s 7ms/step - loss: 0.1333 - accuracy: 1.0000 - val_loss: 0.6437 - val_accuracy: 0.8578\n",
            "Epoch 5/500\n",
            "22/22 [==============================] - 0s 7ms/step - loss: 0.0598 - accuracy: 1.0000 - val_loss: 0.5160 - val_accuracy: 0.9022\n",
            "Epoch 6/500\n",
            "22/22 [==============================] - 0s 7ms/step - loss: 0.0279 - accuracy: 1.0000 - val_loss: 0.4279 - val_accuracy: 0.9067\n",
            "Epoch 7/500\n",
            "22/22 [==============================] - 0s 7ms/step - loss: 0.0132 - accuracy: 1.0000 - val_loss: 0.3589 - val_accuracy: 0.9111\n",
            "Epoch 8/500\n",
            "22/22 [==============================] - 0s 7ms/step - loss: 0.0064 - accuracy: 1.0000 - val_loss: 0.3092 - val_accuracy: 0.9244\n",
            "Epoch 9/500\n",
            "22/22 [==============================] - 0s 7ms/step - loss: 0.0032 - accuracy: 1.0000 - val_loss: 0.2695 - val_accuracy: 0.9289\n",
            "Epoch 10/500\n",
            "22/22 [==============================] - 0s 7ms/step - loss: 0.0017 - accuracy: 1.0000 - val_loss: 0.2371 - val_accuracy: 0.9333\n",
            "Epoch 11/500\n",
            "22/22 [==============================] - 0s 7ms/step - loss: 8.8785e-04 - accuracy: 1.0000 - val_loss: 0.2146 - val_accuracy: 0.9467\n",
            "Epoch 12/500\n",
            "22/22 [==============================] - 0s 7ms/step - loss: 4.7923e-04 - accuracy: 1.0000 - val_loss: 0.1954 - val_accuracy: 0.9556\n",
            "Epoch 13/500\n",
            "22/22 [==============================] - 0s 7ms/step - loss: 2.5618e-04 - accuracy: 1.0000 - val_loss: 0.1795 - val_accuracy: 0.9556\n",
            "Epoch 14/500\n",
            "22/22 [==============================] - 0s 6ms/step - loss: 1.4480e-04 - accuracy: 1.0000 - val_loss: 0.1684 - val_accuracy: 0.9644\n",
            "Epoch 15/500\n",
            "22/22 [==============================] - 0s 7ms/step - loss: 8.0175e-05 - accuracy: 1.0000 - val_loss: 0.1595 - val_accuracy: 0.9644\n",
            "Epoch 16/500\n",
            "22/22 [==============================] - 0s 7ms/step - loss: 4.5764e-05 - accuracy: 1.0000 - val_loss: 0.1524 - val_accuracy: 0.9689\n",
            "Epoch 17/500\n",
            "22/22 [==============================] - 0s 7ms/step - loss: 2.8037e-05 - accuracy: 1.0000 - val_loss: 0.1466 - val_accuracy: 0.9689\n",
            "Epoch 18/500\n",
            "22/22 [==============================] - 0s 7ms/step - loss: 1.6679e-05 - accuracy: 1.0000 - val_loss: 0.1406 - val_accuracy: 0.9689\n",
            "Epoch 19/500\n",
            "22/22 [==============================] - 0s 7ms/step - loss: 1.0316e-05 - accuracy: 1.0000 - val_loss: 0.1387 - val_accuracy: 0.9644\n",
            "Epoch 20/500\n",
            "22/22 [==============================] - 0s 7ms/step - loss: 6.3099e-06 - accuracy: 1.0000 - val_loss: 0.1343 - val_accuracy: 0.9644\n",
            "Epoch 21/500\n",
            "22/22 [==============================] - 0s 7ms/step - loss: 3.9741e-06 - accuracy: 1.0000 - val_loss: 0.1319 - val_accuracy: 0.9644\n",
            "Epoch 22/500\n",
            "22/22 [==============================] - 0s 7ms/step - loss: 2.5354e-06 - accuracy: 1.0000 - val_loss: 0.1312 - val_accuracy: 0.9644\n",
            "Epoch 23/500\n",
            "22/22 [==============================] - 0s 7ms/step - loss: 1.7015e-06 - accuracy: 1.0000 - val_loss: 0.1295 - val_accuracy: 0.9644\n",
            "Epoch 24/500\n",
            "22/22 [==============================] - 0s 7ms/step - loss: 1.1882e-06 - accuracy: 1.0000 - val_loss: 0.1277 - val_accuracy: 0.9644\n",
            "Epoch 25/500\n",
            "22/22 [==============================] - 0s 7ms/step - loss: 8.4293e-07 - accuracy: 1.0000 - val_loss: 0.1262 - val_accuracy: 0.9644\n",
            "Epoch 26/500\n",
            "22/22 [==============================] - 0s 7ms/step - loss: 6.2006e-07 - accuracy: 1.0000 - val_loss: 0.1256 - val_accuracy: 0.9644\n",
            "Epoch 27/500\n",
            "22/22 [==============================] - 0s 7ms/step - loss: 4.8408e-07 - accuracy: 1.0000 - val_loss: 0.1247 - val_accuracy: 0.9644\n",
            "Epoch 28/500\n",
            "22/22 [==============================] - 0s 7ms/step - loss: 3.8218e-07 - accuracy: 1.0000 - val_loss: 0.1242 - val_accuracy: 0.9644\n",
            "Epoch 29/500\n",
            "22/22 [==============================] - 0s 6ms/step - loss: 3.0729e-07 - accuracy: 1.0000 - val_loss: 0.1237 - val_accuracy: 0.9644\n",
            "Epoch 30/500\n",
            "22/22 [==============================] - 0s 7ms/step - loss: 2.5590e-07 - accuracy: 1.0000 - val_loss: 0.1232 - val_accuracy: 0.9644\n",
            "Epoch 31/500\n",
            "22/22 [==============================] - 0s 7ms/step - loss: 2.1970e-07 - accuracy: 1.0000 - val_loss: 0.1227 - val_accuracy: 0.9644\n",
            "Epoch 32/500\n",
            "22/22 [==============================] - 0s 7ms/step - loss: 1.9268e-07 - accuracy: 1.0000 - val_loss: 0.1225 - val_accuracy: 0.9644\n",
            "Epoch 33/500\n",
            "22/22 [==============================] - 0s 7ms/step - loss: 1.6689e-07 - accuracy: 1.0000 - val_loss: 0.1219 - val_accuracy: 0.9644\n",
            "Epoch 34/500\n",
            "22/22 [==============================] - 0s 6ms/step - loss: 1.4764e-07 - accuracy: 1.0000 - val_loss: 0.1215 - val_accuracy: 0.9644\n",
            "Epoch 35/500\n",
            "22/22 [==============================] - 0s 6ms/step - loss: 1.3175e-07 - accuracy: 1.0000 - val_loss: 0.1210 - val_accuracy: 0.9644\n",
            "Epoch 36/500\n",
            "22/22 [==============================] - 0s 6ms/step - loss: 1.1868e-07 - accuracy: 1.0000 - val_loss: 0.1207 - val_accuracy: 0.9644\n",
            "Epoch 37/500\n",
            "22/22 [==============================] - 0s 6ms/step - loss: 1.0738e-07 - accuracy: 1.0000 - val_loss: 0.1204 - val_accuracy: 0.9644\n",
            "Epoch 38/500\n",
            "22/22 [==============================] - 0s 7ms/step - loss: 9.5014e-08 - accuracy: 1.0000 - val_loss: 0.1203 - val_accuracy: 0.9644\n",
            "Epoch 39/500\n",
            "22/22 [==============================] - 0s 6ms/step - loss: 8.8127e-08 - accuracy: 1.0000 - val_loss: 0.1198 - val_accuracy: 0.9644\n",
            "Epoch 40/500\n",
            "22/22 [==============================] - 0s 6ms/step - loss: 8.0886e-08 - accuracy: 1.0000 - val_loss: 0.1198 - val_accuracy: 0.9644\n",
            "Epoch 41/500\n",
            "22/22 [==============================] - 0s 6ms/step - loss: 7.5058e-08 - accuracy: 1.0000 - val_loss: 0.1196 - val_accuracy: 0.9644\n",
            "Epoch 42/500\n",
            "22/22 [==============================] - 0s 6ms/step - loss: 6.7993e-08 - accuracy: 1.0000 - val_loss: 0.1193 - val_accuracy: 0.9644\n",
            "Epoch 43/500\n",
            "22/22 [==============================] - 0s 7ms/step - loss: 6.2695e-08 - accuracy: 1.0000 - val_loss: 0.1192 - val_accuracy: 0.9644\n",
            "Epoch 44/500\n",
            "22/22 [==============================] - 0s 6ms/step - loss: 5.7574e-08 - accuracy: 1.0000 - val_loss: 0.1189 - val_accuracy: 0.9644\n",
            "Epoch 45/500\n",
            "22/22 [==============================] - 0s 7ms/step - loss: 5.4218e-08 - accuracy: 1.0000 - val_loss: 0.1187 - val_accuracy: 0.9644\n",
            "Epoch 46/500\n",
            "22/22 [==============================] - 0s 6ms/step - loss: 4.9980e-08 - accuracy: 1.0000 - val_loss: 0.1186 - val_accuracy: 0.9644\n",
            "Epoch 47/500\n",
            "22/22 [==============================] - 0s 6ms/step - loss: 4.7507e-08 - accuracy: 1.0000 - val_loss: 0.1186 - val_accuracy: 0.9644\n",
            "Epoch 48/500\n",
            "22/22 [==============================] - 0s 6ms/step - loss: 4.3975e-08 - accuracy: 1.0000 - val_loss: 0.1185 - val_accuracy: 0.9644\n",
            "Epoch 49/500\n",
            "22/22 [==============================] - 0s 6ms/step - loss: 4.1679e-08 - accuracy: 1.0000 - val_loss: 0.1185 - val_accuracy: 0.9644\n",
            "Epoch 50/500\n",
            "22/22 [==============================] - 0s 6ms/step - loss: 3.8853e-08 - accuracy: 1.0000 - val_loss: 0.1186 - val_accuracy: 0.9644\n",
            "Epoch 51/500\n",
            "22/22 [==============================] - 0s 6ms/step - loss: 3.6204e-08 - accuracy: 1.0000 - val_loss: 0.1185 - val_accuracy: 0.9644\n",
            "Epoch 52/500\n",
            "22/22 [==============================] - 0s 6ms/step - loss: 3.4085e-08 - accuracy: 1.0000 - val_loss: 0.1185 - val_accuracy: 0.9644\n",
            "Epoch 53/500\n",
            "22/22 [==============================] - 0s 7ms/step - loss: 3.0553e-08 - accuracy: 1.0000 - val_loss: 0.1185 - val_accuracy: 0.9644\n",
            "Epoch 54/500\n",
            "22/22 [==============================] - 0s 7ms/step - loss: 2.9140e-08 - accuracy: 1.0000 - val_loss: 0.1185 - val_accuracy: 0.9644\n",
            "Epoch 55/500\n",
            "22/22 [==============================] - 0s 7ms/step - loss: 2.6844e-08 - accuracy: 1.0000 - val_loss: 0.1185 - val_accuracy: 0.9644\n",
            "Epoch 56/500\n",
            "22/22 [==============================] - 0s 7ms/step - loss: 2.4901e-08 - accuracy: 1.0000 - val_loss: 0.1185 - val_accuracy: 0.9644\n",
            "Epoch 57/500\n",
            "22/22 [==============================] - 0s 7ms/step - loss: 2.3489e-08 - accuracy: 1.0000 - val_loss: 0.1184 - val_accuracy: 0.9644\n",
            "Epoch 58/500\n"
          ]
        },
        {
          "name": "stdout",
          "output_type": "stream",
          "text": [
            "22/22 [==============================] - 0s 7ms/step - loss: 2.2252e-08 - accuracy: 1.0000 - val_loss: 0.1184 - val_accuracy: 0.9644\n",
            "Epoch 59/500\n",
            "22/22 [==============================] - 0s 7ms/step - loss: 1.9780e-08 - accuracy: 1.0000 - val_loss: 0.1184 - val_accuracy: 0.9644\n",
            "Epoch 60/500\n",
            "22/22 [==============================] - 0s 6ms/step - loss: 1.9250e-08 - accuracy: 1.0000 - val_loss: 0.1183 - val_accuracy: 0.9644\n",
            "Epoch 61/500\n",
            "22/22 [==============================] - 0s 6ms/step - loss: 1.8367e-08 - accuracy: 1.0000 - val_loss: 0.1183 - val_accuracy: 0.9644\n",
            "Epoch 62/500\n",
            "22/22 [==============================] - 0s 6ms/step - loss: 1.6778e-08 - accuracy: 1.0000 - val_loss: 0.1183 - val_accuracy: 0.9644\n",
            "Epoch 63/500\n",
            "22/22 [==============================] - 0s 7ms/step - loss: 1.5718e-08 - accuracy: 1.0000 - val_loss: 0.1183 - val_accuracy: 0.9644\n",
            "Epoch 64/500\n",
            "22/22 [==============================] - 0s 7ms/step - loss: 1.4305e-08 - accuracy: 1.0000 - val_loss: 0.1183 - val_accuracy: 0.9644\n",
            "Epoch 65/500\n",
            "22/22 [==============================] - 0s 6ms/step - loss: 1.3245e-08 - accuracy: 1.0000 - val_loss: 0.1184 - val_accuracy: 0.9644\n",
            "Epoch 66/500\n",
            "22/22 [==============================] - 0s 7ms/step - loss: 1.2539e-08 - accuracy: 1.0000 - val_loss: 0.1183 - val_accuracy: 0.9644\n",
            "Epoch 67/500\n",
            "22/22 [==============================] - 0s 6ms/step - loss: 1.1479e-08 - accuracy: 1.0000 - val_loss: 0.1183 - val_accuracy: 0.9644\n",
            "Epoch 68/500\n",
            "22/22 [==============================] - 0s 7ms/step - loss: 1.2186e-08 - accuracy: 1.0000 - val_loss: 0.1183 - val_accuracy: 0.9644\n",
            "Epoch 69/500\n",
            "22/22 [==============================] - 0s 7ms/step - loss: 1.1303e-08 - accuracy: 1.0000 - val_loss: 0.1183 - val_accuracy: 0.9644\n",
            "Epoch 70/500\n",
            "22/22 [==============================] - 0s 7ms/step - loss: 1.0596e-08 - accuracy: 1.0000 - val_loss: 0.1183 - val_accuracy: 0.9644\n",
            "Epoch 71/500\n",
            "22/22 [==============================] - 0s 7ms/step - loss: 1.0067e-08 - accuracy: 1.0000 - val_loss: 0.1183 - val_accuracy: 0.9644\n",
            "Epoch 72/500\n",
            "22/22 [==============================] - 0s 7ms/step - loss: 9.5367e-09 - accuracy: 1.0000 - val_loss: 0.1183 - val_accuracy: 0.9644\n",
            "Epoch 73/500\n",
            "22/22 [==============================] - 0s 7ms/step - loss: 9.3601e-09 - accuracy: 1.0000 - val_loss: 0.1184 - val_accuracy: 0.9644\n",
            "Epoch 74/500\n",
            "22/22 [==============================] - 0s 7ms/step - loss: 7.9473e-09 - accuracy: 1.0000 - val_loss: 0.1184 - val_accuracy: 0.9644\n",
            "Epoch 75/500\n",
            "22/22 [==============================] - 0s 7ms/step - loss: 8.3005e-09 - accuracy: 1.0000 - val_loss: 0.1185 - val_accuracy: 0.9644\n",
            "Epoch 76/500\n",
            "22/22 [==============================] - 0s 8ms/step - loss: 7.2409e-09 - accuracy: 1.0000 - val_loss: 0.1185 - val_accuracy: 0.9644\n",
            "Epoch 77/500\n",
            "22/22 [==============================] - 0s 8ms/step - loss: 7.5941e-09 - accuracy: 1.0000 - val_loss: 0.1186 - val_accuracy: 0.9644\n",
            "Epoch 78/500\n",
            "22/22 [==============================] - 0s 7ms/step - loss: 6.8876e-09 - accuracy: 1.0000 - val_loss: 0.1186 - val_accuracy: 0.9644\n",
            "Epoch 79/500\n",
            "22/22 [==============================] - 0s 7ms/step - loss: 7.2409e-09 - accuracy: 1.0000 - val_loss: 0.1187 - val_accuracy: 0.9644\n",
            "Epoch 80/500\n",
            "22/22 [==============================] - 0s 8ms/step - loss: 7.5941e-09 - accuracy: 1.0000 - val_loss: 0.1188 - val_accuracy: 0.9644\n",
            "Epoch 81/500\n",
            "22/22 [==============================] - 0s 7ms/step - loss: 6.1812e-09 - accuracy: 1.0000 - val_loss: 0.1188 - val_accuracy: 0.9644\n",
            "Epoch 82/500\n",
            "22/22 [==============================] - 0s 7ms/step - loss: 6.3578e-09 - accuracy: 1.0000 - val_loss: 0.1189 - val_accuracy: 0.9600\n",
            "Epoch 83/500\n",
            "22/22 [==============================] - 0s 7ms/step - loss: 5.1216e-09 - accuracy: 1.0000 - val_loss: 0.1190 - val_accuracy: 0.9600\n",
            "Epoch 84/500\n",
            "22/22 [==============================] - 0s 7ms/step - loss: 5.8280e-09 - accuracy: 1.0000 - val_loss: 0.1190 - val_accuracy: 0.9600\n",
            "Epoch 85/500\n",
            "22/22 [==============================] - 0s 6ms/step - loss: 5.4748e-09 - accuracy: 1.0000 - val_loss: 0.1191 - val_accuracy: 0.9600\n",
            "Epoch 86/500\n",
            "22/22 [==============================] - 0s 6ms/step - loss: 4.9450e-09 - accuracy: 1.0000 - val_loss: 0.1192 - val_accuracy: 0.9600\n",
            "Epoch 87/500\n",
            "22/22 [==============================] - 0s 6ms/step - loss: 4.5918e-09 - accuracy: 1.0000 - val_loss: 0.1193 - val_accuracy: 0.9600\n",
            "Epoch 88/500\n",
            "22/22 [==============================] - 0s 6ms/step - loss: 4.5918e-09 - accuracy: 1.0000 - val_loss: 0.1193 - val_accuracy: 0.9600\n",
            "Epoch 89/500\n",
            "22/22 [==============================] - 0s 6ms/step - loss: 3.5321e-09 - accuracy: 1.0000 - val_loss: 0.1194 - val_accuracy: 0.9600\n",
            "Epoch 90/500\n",
            "22/22 [==============================] - 0s 7ms/step - loss: 4.5918e-09 - accuracy: 1.0000 - val_loss: 0.1194 - val_accuracy: 0.9600\n",
            "Epoch 91/500\n",
            "22/22 [==============================] - 0s 7ms/step - loss: 3.5321e-09 - accuracy: 1.0000 - val_loss: 0.1195 - val_accuracy: 0.9600\n",
            "Epoch 92/500\n",
            "22/22 [==============================] - 0s 7ms/step - loss: 5.1216e-09 - accuracy: 1.0000 - val_loss: 0.1195 - val_accuracy: 0.9600\n"
          ]
        }
      ],
      "source": [
        "model.compile(loss='sparse_categorical_crossentropy', metrics=[\"accuracy\"])\n",
        "history = model.fit(x=train_vectors, y=train_data.integer_labels,\n",
        "          validation_data=(validation_vectors,\n",
        "                          validation_data.integer_labels),\n",
        "          callbacks=[keras.callbacks.EarlyStopping(\n",
        "              monitor='val_loss',\n",
        "              patience=30\n",
        "          )],\n",
        "          epochs=500\n",
        "         )"
      ]
    },
    {
      "cell_type": "markdown",
      "id": "0b5af70c",
      "metadata": {
        "id": "0b5af70c"
      },
      "source": [
        "Plot the accuracy and loss for the training data and validation data"
      ]
    },
    {
      "cell_type": "code",
      "execution_count": null,
      "id": "06b117a3",
      "metadata": {
        "id": "06b117a3",
        "outputId": "3b9e79e2-8173-4302-d8c6-197a1b4ab48a"
      },
      "outputs": [
        {
          "data": {
            "image/png": "[encoded data removed]",
            "text/plain": [
              "<Figure size 1200x600 with 2 Axes>"
            ]
          },
          "metadata": {},
          "output_type": "display_data"
        }
      ],
      "source": [
        "fig, axes = plt.subplots(ncols=2, figsize=(12,6))\n",
        "axes[0].plot(history.history['accuracy'],\n",
        "        label='Training Accuracy')\n",
        "axes[0].plot(history.history['val_accuracy'],\n",
        "        label='Validation Accuracy')\n",
        "axes[0].set_title('Training and Validation Accuracy')\n",
        "axes[0].set_xlabel('Epochs')\n",
        "axes[0].set_ylabel('Accuracy (bigger is better)')\n",
        "axes[0].legend()\n",
        "\n",
        "\n",
        "axes[1].plot(history.history['loss'],\n",
        "        label='Training Loss')\n",
        "axes[1].plot(history.history['val_loss'],\n",
        "        label='Validation Loss')\n",
        "axes[1].set_title('Training and Validation Loss')\n",
        "axes[1].set_xlabel('Epochs')\n",
        "axes[1].set_ylabel('Loss (smaller is better)')\n",
        "axes[1].legend()\n",
        "axes[1].set_yscale('log')"
      ]
    },
    {
      "cell_type": "markdown",
      "id": "f474d3c1",
      "metadata": {
        "id": "f474d3c1"
      },
      "source": [
        "It's less obvious how to improve this model now, but we do have fairly good accuracy anyway.\n",
        "\n",
        "Confirm that the accuracy is also quite good on the test data."
      ]
    },
    {
      "cell_type": "code",
      "execution_count": null,
      "id": "78c9e374",
      "metadata": {
        "id": "78c9e374",
        "outputId": "8ffee509-a962-4082-9915-a2443bcd7fee"
      },
      "outputs": [
        {
          "name": "stdout",
          "output_type": "stream",
          "text": [
            "Test evaluation:\n",
            "{'loss': 0.15425623953342438, 'accuracy': 0.9466666579246521}\n"
          ]
        }
      ],
      "source": [
        "print(\"Test evaluation:\")\n",
        "print(model.evaluate(test_vectors,\n",
        "                     test_data.integer_labels,\n",
        "                     return_dict=True,\n",
        "                     verbose=0))"
      ]
    },
    {
      "cell_type": "markdown",
      "id": "53ed51e0",
      "metadata": {
        "id": "53ed51e0"
      },
      "source": [
        "## Free-form\n",
        "\n",
        "Try to optimise the model by adding extra layers, modifying the vocabulary or any other ideas you want to try out.\n",
        "\n",
        "Dropout often helps (try 0.9 or higher)."
      ]
    },
    {
      "cell_type": "code",
      "execution_count": null,
      "id": "2b598663",
      "metadata": {
        "id": "2b598663",
        "outputId": "20811a52-b2a9-40ac-f1a9-c3824ccbc15d"
      },
      "outputs": [
        {
          "name": "stderr",
          "output_type": "stream",
          "text": [
            "2023-09-22 15:29:54.764484: I tensorflow/core/grappler/optimizers/custom_graph_optimizer_registry.cc:113] Plugin optimizer for device_type GPU is enabled.\n"
          ]
        },
        {
          "name": "stdout",
          "output_type": "stream",
          "text": [
            "Epoch 1/500\n"
          ]
        },
        {
          "name": "stderr",
          "output_type": "stream",
          "text": [
            "2023-09-22 15:29:55.562825: I tensorflow/core/grappler/optimizers/custom_graph_optimizer_registry.cc:113] Plugin optimizer for device_type GPU is enabled.\n"
          ]
        },
        {
          "name": "stdout",
          "output_type": "stream",
          "text": [
            "22/22 [==============================] - 1s 18ms/step - loss: 3.1797 - accuracy: 0.0326 - val_loss: 3.1785 - val_accuracy: 0.0489\n",
            "Epoch 2/500\n",
            " 8/22 [=========>....................] - ETA: 0s - loss: 3.1772 - accuracy: 0.0312    "
          ]
        },
        {
          "name": "stderr",
          "output_type": "stream",
          "text": [
            "2023-09-22 15:29:56.068854: I tensorflow/core/grappler/optimizers/custom_graph_optimizer_registry.cc:113] Plugin optimizer for device_type GPU is enabled.\n"
          ]
        },
        {
          "name": "stdout",
          "output_type": "stream",
          "text": [
            "22/22 [==============================] - 0s 10ms/step - loss: 3.1779 - accuracy: 0.0563 - val_loss: 3.1788 - val_accuracy: 0.0267\n",
            "Epoch 3/500\n",
            "22/22 [==============================] - 0s 9ms/step - loss: 3.1770 - accuracy: 0.0578 - val_loss: 3.1790 - val_accuracy: 0.0267\n",
            "Epoch 4/500\n",
            "22/22 [==============================] - 0s 9ms/step - loss: 3.1753 - accuracy: 0.0563 - val_loss: 3.1792 - val_accuracy: 0.0267\n",
            "Epoch 5/500\n",
            "22/22 [==============================] - 0s 9ms/step - loss: 3.1739 - accuracy: 0.0637 - val_loss: 3.1791 - val_accuracy: 0.0267\n",
            "Epoch 6/500\n",
            "22/22 [==============================] - 0s 9ms/step - loss: 3.1721 - accuracy: 0.0578 - val_loss: 3.1791 - val_accuracy: 0.0267\n",
            "Epoch 7/500\n",
            "22/22 [==============================] - 0s 9ms/step - loss: 3.1698 - accuracy: 0.0681 - val_loss: 3.1792 - val_accuracy: 0.0267\n",
            "Epoch 8/500\n",
            "22/22 [==============================] - 0s 9ms/step - loss: 3.1702 - accuracy: 0.0578 - val_loss: 3.1792 - val_accuracy: 0.0267\n",
            "Epoch 9/500\n",
            "22/22 [==============================] - 0s 9ms/step - loss: 3.1668 - accuracy: 0.0741 - val_loss: 3.1791 - val_accuracy: 0.0267\n",
            "Epoch 10/500\n",
            "22/22 [==============================] - 0s 9ms/step - loss: 3.1668 - accuracy: 0.0667 - val_loss: 3.1791 - val_accuracy: 0.0267\n",
            "Epoch 11/500\n",
            "22/22 [==============================] - 0s 9ms/step - loss: 3.1644 - accuracy: 0.0681 - val_loss: 3.1790 - val_accuracy: 0.0267\n",
            "Epoch 12/500\n",
            "22/22 [==============================] - 0s 9ms/step - loss: 3.1622 - accuracy: 0.0681 - val_loss: 3.1791 - val_accuracy: 0.0267\n",
            "Epoch 13/500\n",
            "22/22 [==============================] - 0s 9ms/step - loss: 3.1600 - accuracy: 0.0815 - val_loss: 3.1791 - val_accuracy: 0.0267\n",
            "Epoch 14/500\n",
            "22/22 [==============================] - 0s 9ms/step - loss: 3.1597 - accuracy: 0.0667 - val_loss: 3.1791 - val_accuracy: 0.0267\n",
            "Epoch 15/500\n",
            "22/22 [==============================] - 0s 9ms/step - loss: 3.1567 - accuracy: 0.0681 - val_loss: 3.1791 - val_accuracy: 0.0267\n",
            "Epoch 16/500\n",
            "22/22 [==============================] - 0s 9ms/step - loss: 3.1560 - accuracy: 0.0741 - val_loss: 3.1793 - val_accuracy: 0.0267\n",
            "Epoch 17/500\n",
            "22/22 [==============================] - 0s 9ms/step - loss: 3.1536 - accuracy: 0.0726 - val_loss: 3.1794 - val_accuracy: 0.0267\n",
            "Epoch 18/500\n",
            "22/22 [==============================] - 0s 9ms/step - loss: 3.1521 - accuracy: 0.0667 - val_loss: 3.1794 - val_accuracy: 0.0267\n",
            "Epoch 19/500\n",
            "22/22 [==============================] - 0s 9ms/step - loss: 3.1477 - accuracy: 0.0756 - val_loss: 3.1796 - val_accuracy: 0.0267\n",
            "Epoch 20/500\n",
            "22/22 [==============================] - 0s 9ms/step - loss: 3.1512 - accuracy: 0.0637 - val_loss: 3.1797 - val_accuracy: 0.0267\n",
            "Epoch 21/500\n",
            "22/22 [==============================] - 0s 9ms/step - loss: 3.1476 - accuracy: 0.0711 - val_loss: 3.1798 - val_accuracy: 0.0267\n",
            "Epoch 22/500\n",
            "22/22 [==============================] - 0s 9ms/step - loss: 3.1463 - accuracy: 0.0756 - val_loss: 3.1797 - val_accuracy: 0.0267\n",
            "Epoch 23/500\n",
            "22/22 [==============================] - 0s 9ms/step - loss: 3.1433 - accuracy: 0.0770 - val_loss: 3.1795 - val_accuracy: 0.0267\n",
            "Epoch 24/500\n",
            "22/22 [==============================] - 0s 9ms/step - loss: 3.1421 - accuracy: 0.0756 - val_loss: 3.1796 - val_accuracy: 0.0267\n",
            "Epoch 25/500\n",
            "22/22 [==============================] - 0s 9ms/step - loss: 3.1376 - accuracy: 0.0726 - val_loss: 3.1794 - val_accuracy: 0.0267\n",
            "Epoch 26/500\n",
            "22/22 [==============================] - 0s 9ms/step - loss: 3.1425 - accuracy: 0.0770 - val_loss: 3.1795 - val_accuracy: 0.0267\n",
            "Epoch 27/500\n",
            "22/22 [==============================] - 0s 9ms/step - loss: 3.1293 - accuracy: 0.0948 - val_loss: 3.1792 - val_accuracy: 0.0267\n",
            "Epoch 28/500\n",
            "22/22 [==============================] - 0s 9ms/step - loss: 3.1327 - accuracy: 0.0815 - val_loss: 3.1793 - val_accuracy: 0.0267\n",
            "Epoch 29/500\n",
            "22/22 [==============================] - 0s 9ms/step - loss: 3.1317 - accuracy: 0.0785 - val_loss: 3.1791 - val_accuracy: 0.0267\n",
            "Epoch 30/500\n",
            "22/22 [==============================] - 0s 9ms/step - loss: 3.1297 - accuracy: 0.0904 - val_loss: 3.1790 - val_accuracy: 0.0267\n",
            "Epoch 31/500\n",
            "22/22 [==============================] - 0s 9ms/step - loss: 3.1381 - accuracy: 0.0785 - val_loss: 3.1787 - val_accuracy: 0.0267\n",
            "Epoch 32/500\n",
            "22/22 [==============================] - 0s 9ms/step - loss: 3.1297 - accuracy: 0.0741 - val_loss: 3.1784 - val_accuracy: 0.0267\n",
            "Epoch 33/500\n",
            "22/22 [==============================] - 0s 9ms/step - loss: 3.1313 - accuracy: 0.0741 - val_loss: 3.1781 - val_accuracy: 0.0311\n",
            "Epoch 34/500\n",
            "22/22 [==============================] - 0s 9ms/step - loss: 3.1268 - accuracy: 0.0904 - val_loss: 3.1781 - val_accuracy: 0.0267\n",
            "Epoch 35/500\n",
            "22/22 [==============================] - 0s 9ms/step - loss: 3.1269 - accuracy: 0.0830 - val_loss: 3.1783 - val_accuracy: 0.0267\n",
            "Epoch 36/500\n",
            "22/22 [==============================] - 0s 9ms/step - loss: 3.1284 - accuracy: 0.0785 - val_loss: 3.1777 - val_accuracy: 0.0267\n",
            "Epoch 37/500\n",
            "22/22 [==============================] - 0s 9ms/step - loss: 3.1185 - accuracy: 0.0889 - val_loss: 3.1774 - val_accuracy: 0.0267\n",
            "Epoch 38/500\n",
            "22/22 [==============================] - 0s 9ms/step - loss: 3.1264 - accuracy: 0.0859 - val_loss: 3.1773 - val_accuracy: 0.0267\n",
            "Epoch 39/500\n",
            "22/22 [==============================] - 0s 9ms/step - loss: 3.1117 - accuracy: 0.0830 - val_loss: 3.1772 - val_accuracy: 0.0267\n",
            "Epoch 40/500\n",
            "22/22 [==============================] - 0s 9ms/step - loss: 3.1180 - accuracy: 0.0874 - val_loss: 3.1772 - val_accuracy: 0.0267\n",
            "Epoch 41/500\n",
            "22/22 [==============================] - 0s 9ms/step - loss: 3.1253 - accuracy: 0.0756 - val_loss: 3.1772 - val_accuracy: 0.0267\n",
            "Epoch 42/500\n",
            "22/22 [==============================] - 0s 9ms/step - loss: 3.1154 - accuracy: 0.0815 - val_loss: 3.1770 - val_accuracy: 0.0267\n",
            "Epoch 43/500\n",
            "22/22 [==============================] - 0s 9ms/step - loss: 3.1168 - accuracy: 0.0667 - val_loss: 3.1765 - val_accuracy: 0.0267\n",
            "Epoch 44/500\n",
            "22/22 [==============================] - 0s 9ms/step - loss: 3.1055 - accuracy: 0.0978 - val_loss: 3.1766 - val_accuracy: 0.0267\n",
            "Epoch 45/500\n",
            "22/22 [==============================] - 0s 9ms/step - loss: 3.1188 - accuracy: 0.0726 - val_loss: 3.1765 - val_accuracy: 0.0267\n",
            "Epoch 46/500\n",
            "22/22 [==============================] - 0s 9ms/step - loss: 3.1185 - accuracy: 0.0978 - val_loss: 3.1765 - val_accuracy: 0.0267\n",
            "Epoch 47/500\n",
            "22/22 [==============================] - 0s 9ms/step - loss: 3.1114 - accuracy: 0.0800 - val_loss: 3.1764 - val_accuracy: 0.0267\n",
            "Epoch 48/500\n",
            "22/22 [==============================] - 0s 9ms/step - loss: 3.1158 - accuracy: 0.0859 - val_loss: 3.1761 - val_accuracy: 0.0267\n",
            "Epoch 49/500\n",
            "22/22 [==============================] - 0s 9ms/step - loss: 3.1128 - accuracy: 0.0859 - val_loss: 3.1760 - val_accuracy: 0.0311\n",
            "Epoch 50/500\n",
            "22/22 [==============================] - 0s 9ms/step - loss: 3.1138 - accuracy: 0.0785 - val_loss: 3.1756 - val_accuracy: 0.0267\n",
            "Epoch 51/500\n",
            "22/22 [==============================] - 0s 9ms/step - loss: 3.1059 - accuracy: 0.0844 - val_loss: 3.1750 - val_accuracy: 0.0311\n",
            "Epoch 52/500\n",
            "22/22 [==============================] - 0s 9ms/step - loss: 3.1080 - accuracy: 0.0830 - val_loss: 3.1747 - val_accuracy: 0.0400\n",
            "Epoch 53/500\n",
            "22/22 [==============================] - 0s 9ms/step - loss: 3.1059 - accuracy: 0.0800 - val_loss: 3.1748 - val_accuracy: 0.0267\n",
            "Epoch 54/500\n",
            "22/22 [==============================] - 0s 9ms/step - loss: 3.1055 - accuracy: 0.0859 - val_loss: 3.1741 - val_accuracy: 0.0311\n",
            "Epoch 55/500\n",
            "22/22 [==============================] - 0s 9ms/step - loss: 3.1046 - accuracy: 0.0919 - val_loss: 3.1739 - val_accuracy: 0.0267\n",
            "Epoch 56/500\n",
            "22/22 [==============================] - 0s 9ms/step - loss: 3.0993 - accuracy: 0.0874 - val_loss: 3.1734 - val_accuracy: 0.0267\n",
            "Epoch 57/500\n",
            "22/22 [==============================] - 0s 9ms/step - loss: 3.0937 - accuracy: 0.0874 - val_loss: 3.1728 - val_accuracy: 0.0267\n",
            "Epoch 58/500\n",
            "22/22 [==============================] - 0s 9ms/step - loss: 3.0904 - accuracy: 0.0904 - val_loss: 3.1730 - val_accuracy: 0.0267\n",
            "Epoch 59/500\n",
            "22/22 [==============================] - 0s 9ms/step - loss: 3.0832 - accuracy: 0.0889 - val_loss: 3.1724 - val_accuracy: 0.0267\n"
          ]
        },
        {
          "name": "stdout",
          "output_type": "stream",
          "text": [
            "Epoch 60/500\n",
            "22/22 [==============================] - 0s 9ms/step - loss: 3.0904 - accuracy: 0.0859 - val_loss: 3.1724 - val_accuracy: 0.0267\n",
            "Epoch 61/500\n",
            "22/22 [==============================] - 0s 9ms/step - loss: 3.0827 - accuracy: 0.0919 - val_loss: 3.1718 - val_accuracy: 0.0267\n",
            "Epoch 62/500\n",
            "22/22 [==============================] - 0s 9ms/step - loss: 3.0894 - accuracy: 0.0830 - val_loss: 3.1716 - val_accuracy: 0.0267\n",
            "Epoch 63/500\n",
            "22/22 [==============================] - 0s 9ms/step - loss: 3.0953 - accuracy: 0.0844 - val_loss: 3.1708 - val_accuracy: 0.0267\n",
            "Epoch 64/500\n",
            "22/22 [==============================] - 0s 9ms/step - loss: 3.0924 - accuracy: 0.0815 - val_loss: 3.1703 - val_accuracy: 0.0267\n",
            "Epoch 65/500\n",
            "22/22 [==============================] - 0s 9ms/step - loss: 3.0763 - accuracy: 0.0993 - val_loss: 3.1696 - val_accuracy: 0.0267\n",
            "Epoch 66/500\n",
            "22/22 [==============================] - 0s 9ms/step - loss: 3.0674 - accuracy: 0.0948 - val_loss: 3.1691 - val_accuracy: 0.0267\n",
            "Epoch 67/500\n",
            "22/22 [==============================] - 0s 9ms/step - loss: 3.0785 - accuracy: 0.0830 - val_loss: 3.1679 - val_accuracy: 0.0267\n",
            "Epoch 68/500\n",
            "22/22 [==============================] - 0s 9ms/step - loss: 3.0706 - accuracy: 0.0933 - val_loss: 3.1672 - val_accuracy: 0.0267\n",
            "Epoch 69/500\n",
            "22/22 [==============================] - 0s 9ms/step - loss: 3.0763 - accuracy: 0.0830 - val_loss: 3.1669 - val_accuracy: 0.0267\n",
            "Epoch 70/500\n",
            "22/22 [==============================] - 0s 9ms/step - loss: 3.0858 - accuracy: 0.0830 - val_loss: 3.1665 - val_accuracy: 0.0267\n",
            "Epoch 71/500\n",
            "22/22 [==============================] - 0s 9ms/step - loss: 3.0745 - accuracy: 0.0830 - val_loss: 3.1660 - val_accuracy: 0.0267\n",
            "Epoch 72/500\n",
            "22/22 [==============================] - 0s 9ms/step - loss: 3.0752 - accuracy: 0.1052 - val_loss: 3.1657 - val_accuracy: 0.0267\n",
            "Epoch 73/500\n",
            "22/22 [==============================] - 0s 9ms/step - loss: 3.0616 - accuracy: 0.0963 - val_loss: 3.1652 - val_accuracy: 0.0267\n",
            "Epoch 74/500\n",
            "22/22 [==============================] - 0s 9ms/step - loss: 3.0802 - accuracy: 0.0785 - val_loss: 3.1651 - val_accuracy: 0.0267\n",
            "Epoch 75/500\n",
            "22/22 [==============================] - 0s 9ms/step - loss: 3.0704 - accuracy: 0.0785 - val_loss: 3.1641 - val_accuracy: 0.0267\n",
            "Epoch 76/500\n",
            "22/22 [==============================] - 0s 9ms/step - loss: 3.0646 - accuracy: 0.0800 - val_loss: 3.1632 - val_accuracy: 0.0267\n",
            "Epoch 77/500\n",
            "22/22 [==============================] - 0s 9ms/step - loss: 3.0659 - accuracy: 0.0770 - val_loss: 3.1625 - val_accuracy: 0.0267\n",
            "Epoch 78/500\n",
            "22/22 [==============================] - 0s 9ms/step - loss: 3.0573 - accuracy: 0.0785 - val_loss: 3.1621 - val_accuracy: 0.0311\n",
            "Epoch 79/500\n",
            "22/22 [==============================] - 0s 9ms/step - loss: 3.0611 - accuracy: 0.0963 - val_loss: 3.1613 - val_accuracy: 0.0311\n",
            "Epoch 80/500\n",
            "22/22 [==============================] - 0s 9ms/step - loss: 3.0521 - accuracy: 0.0859 - val_loss: 3.1606 - val_accuracy: 0.0533\n",
            "Epoch 81/500\n",
            "22/22 [==============================] - 0s 9ms/step - loss: 3.0560 - accuracy: 0.0815 - val_loss: 3.1602 - val_accuracy: 0.0489\n",
            "Epoch 82/500\n",
            "22/22 [==============================] - 0s 9ms/step - loss: 3.0455 - accuracy: 0.0978 - val_loss: 3.1588 - val_accuracy: 0.0578\n",
            "Epoch 83/500\n",
            "22/22 [==============================] - 0s 9ms/step - loss: 3.0815 - accuracy: 0.0815 - val_loss: 3.1586 - val_accuracy: 0.0578\n",
            "Epoch 84/500\n",
            "22/22 [==============================] - 0s 9ms/step - loss: 3.0635 - accuracy: 0.0830 - val_loss: 3.1582 - val_accuracy: 0.0489\n",
            "Epoch 85/500\n",
            "22/22 [==============================] - 0s 9ms/step - loss: 3.0522 - accuracy: 0.0978 - val_loss: 3.1575 - val_accuracy: 0.0578\n",
            "Epoch 86/500\n",
            "22/22 [==============================] - 0s 9ms/step - loss: 3.0554 - accuracy: 0.0844 - val_loss: 3.1565 - val_accuracy: 0.0578\n",
            "Epoch 87/500\n",
            "22/22 [==============================] - 0s 9ms/step - loss: 3.0483 - accuracy: 0.0978 - val_loss: 3.1551 - val_accuracy: 0.0756\n",
            "Epoch 88/500\n",
            "22/22 [==============================] - 0s 9ms/step - loss: 3.0252 - accuracy: 0.0904 - val_loss: 3.1547 - val_accuracy: 0.0667\n",
            "Epoch 89/500\n",
            "22/22 [==============================] - 0s 9ms/step - loss: 3.0512 - accuracy: 0.0815 - val_loss: 3.1538 - val_accuracy: 0.0711\n",
            "Epoch 90/500\n",
            "22/22 [==============================] - 0s 9ms/step - loss: 3.0492 - accuracy: 0.0948 - val_loss: 3.1536 - val_accuracy: 0.0711\n",
            "Epoch 91/500\n",
            "22/22 [==============================] - 0s 9ms/step - loss: 3.0381 - accuracy: 0.0948 - val_loss: 3.1536 - val_accuracy: 0.0667\n",
            "Epoch 92/500\n",
            "22/22 [==============================] - 0s 9ms/step - loss: 3.0531 - accuracy: 0.0785 - val_loss: 3.1523 - val_accuracy: 0.0711\n",
            "Epoch 93/500\n",
            "22/22 [==============================] - 0s 9ms/step - loss: 3.0440 - accuracy: 0.0874 - val_loss: 3.1519 - val_accuracy: 0.0667\n",
            "Epoch 94/500\n",
            "22/22 [==============================] - 0s 9ms/step - loss: 3.0471 - accuracy: 0.0815 - val_loss: 3.1504 - val_accuracy: 0.0667\n",
            "Epoch 95/500\n",
            "22/22 [==============================] - 0s 9ms/step - loss: 3.0214 - accuracy: 0.0889 - val_loss: 3.1494 - val_accuracy: 0.0756\n",
            "Epoch 96/500\n",
            "22/22 [==============================] - 0s 9ms/step - loss: 3.0112 - accuracy: 0.1007 - val_loss: 3.1488 - val_accuracy: 0.0800\n",
            "Epoch 97/500\n",
            "22/22 [==============================] - 0s 9ms/step - loss: 3.0145 - accuracy: 0.0963 - val_loss: 3.1477 - val_accuracy: 0.0800\n",
            "Epoch 98/500\n",
            "22/22 [==============================] - 0s 9ms/step - loss: 3.0330 - accuracy: 0.0815 - val_loss: 3.1480 - val_accuracy: 0.0844\n",
            "Epoch 99/500\n",
            "22/22 [==============================] - 0s 9ms/step - loss: 3.0411 - accuracy: 0.0815 - val_loss: 3.1457 - val_accuracy: 0.0844\n",
            "Epoch 100/500\n",
            "22/22 [==============================] - 0s 9ms/step - loss: 3.0302 - accuracy: 0.0844 - val_loss: 3.1451 - val_accuracy: 0.0933\n",
            "Epoch 101/500\n",
            "22/22 [==============================] - 0s 9ms/step - loss: 3.0357 - accuracy: 0.1052 - val_loss: 3.1444 - val_accuracy: 0.0889\n",
            "Epoch 102/500\n",
            "22/22 [==============================] - 0s 9ms/step - loss: 3.0146 - accuracy: 0.1126 - val_loss: 3.1424 - val_accuracy: 0.0889\n",
            "Epoch 103/500\n",
            "22/22 [==============================] - 0s 9ms/step - loss: 3.0263 - accuracy: 0.0770 - val_loss: 3.1424 - val_accuracy: 0.0889\n",
            "Epoch 104/500\n",
            "22/22 [==============================] - 0s 9ms/step - loss: 3.0332 - accuracy: 0.0756 - val_loss: 3.1411 - val_accuracy: 0.0889\n",
            "Epoch 105/500\n",
            "22/22 [==============================] - 0s 9ms/step - loss: 3.0144 - accuracy: 0.0785 - val_loss: 3.1396 - val_accuracy: 0.0933\n",
            "Epoch 106/500\n",
            "22/22 [==============================] - 0s 9ms/step - loss: 3.0213 - accuracy: 0.0993 - val_loss: 3.1394 - val_accuracy: 0.0933\n",
            "Epoch 107/500\n",
            "22/22 [==============================] - 0s 9ms/step - loss: 3.0197 - accuracy: 0.0844 - val_loss: 3.1376 - val_accuracy: 0.0933\n",
            "Epoch 108/500\n",
            "22/22 [==============================] - 0s 9ms/step - loss: 3.0071 - accuracy: 0.0978 - val_loss: 3.1368 - val_accuracy: 0.0933\n",
            "Epoch 109/500\n",
            "22/22 [==============================] - 0s 9ms/step - loss: 3.0046 - accuracy: 0.0993 - val_loss: 3.1367 - val_accuracy: 0.0933\n",
            "Epoch 110/500\n",
            "22/22 [==============================] - 0s 9ms/step - loss: 3.0287 - accuracy: 0.0919 - val_loss: 3.1358 - val_accuracy: 0.0933\n",
            "Epoch 111/500\n",
            "22/22 [==============================] - 0s 9ms/step - loss: 3.0338 - accuracy: 0.0978 - val_loss: 3.1352 - val_accuracy: 0.0933\n",
            "Epoch 112/500\n",
            "22/22 [==============================] - 0s 9ms/step - loss: 2.9987 - accuracy: 0.0785 - val_loss: 3.1340 - val_accuracy: 0.0978\n",
            "Epoch 113/500\n",
            "22/22 [==============================] - 0s 9ms/step - loss: 2.9900 - accuracy: 0.0993 - val_loss: 3.1319 - val_accuracy: 0.0978\n",
            "Epoch 114/500\n",
            "22/22 [==============================] - 0s 9ms/step - loss: 3.0272 - accuracy: 0.0948 - val_loss: 3.1310 - val_accuracy: 0.0978\n",
            "Epoch 115/500\n",
            "22/22 [==============================] - 0s 9ms/step - loss: 3.0193 - accuracy: 0.0948 - val_loss: 3.1306 - val_accuracy: 0.0978\n",
            "Epoch 116/500\n",
            "22/22 [==============================] - 0s 9ms/step - loss: 2.9851 - accuracy: 0.0904 - val_loss: 3.1289 - val_accuracy: 0.0978\n",
            "Epoch 117/500\n"
          ]
        },
        {
          "name": "stdout",
          "output_type": "stream",
          "text": [
            "22/22 [==============================] - 0s 9ms/step - loss: 3.0055 - accuracy: 0.0919 - val_loss: 3.1270 - val_accuracy: 0.0978\n",
            "Epoch 118/500\n",
            "22/22 [==============================] - 0s 9ms/step - loss: 3.0056 - accuracy: 0.0933 - val_loss: 3.1268 - val_accuracy: 0.0978\n",
            "Epoch 119/500\n",
            "22/22 [==============================] - 0s 9ms/step - loss: 2.9879 - accuracy: 0.0904 - val_loss: 3.1256 - val_accuracy: 0.0978\n",
            "Epoch 120/500\n",
            "22/22 [==============================] - 0s 9ms/step - loss: 3.0050 - accuracy: 0.0785 - val_loss: 3.1253 - val_accuracy: 0.0978\n",
            "Epoch 121/500\n",
            "22/22 [==============================] - 0s 9ms/step - loss: 2.9995 - accuracy: 0.0948 - val_loss: 3.1239 - val_accuracy: 0.0978\n",
            "Epoch 122/500\n",
            "22/22 [==============================] - 0s 9ms/step - loss: 2.9986 - accuracy: 0.0815 - val_loss: 3.1226 - val_accuracy: 0.0978\n",
            "Epoch 123/500\n",
            "22/22 [==============================] - 0s 9ms/step - loss: 2.9906 - accuracy: 0.0948 - val_loss: 3.1202 - val_accuracy: 0.0978\n",
            "Epoch 124/500\n",
            "22/22 [==============================] - 0s 9ms/step - loss: 2.9487 - accuracy: 0.1170 - val_loss: 3.1202 - val_accuracy: 0.0978\n",
            "Epoch 125/500\n",
            "22/22 [==============================] - 0s 9ms/step - loss: 2.9802 - accuracy: 0.0993 - val_loss: 3.1169 - val_accuracy: 0.0978\n",
            "Epoch 126/500\n",
            "22/22 [==============================] - 0s 9ms/step - loss: 2.9956 - accuracy: 0.0874 - val_loss: 3.1156 - val_accuracy: 0.0978\n",
            "Epoch 127/500\n",
            "22/22 [==============================] - 0s 9ms/step - loss: 2.9817 - accuracy: 0.0948 - val_loss: 3.1163 - val_accuracy: 0.0978\n",
            "Epoch 128/500\n",
            "22/22 [==============================] - 0s 9ms/step - loss: 2.9735 - accuracy: 0.1007 - val_loss: 3.1156 - val_accuracy: 0.0978\n",
            "Epoch 129/500\n",
            "22/22 [==============================] - 0s 9ms/step - loss: 2.9692 - accuracy: 0.0933 - val_loss: 3.1140 - val_accuracy: 0.0978\n",
            "Epoch 130/500\n",
            "22/22 [==============================] - 0s 9ms/step - loss: 2.9842 - accuracy: 0.1052 - val_loss: 3.1137 - val_accuracy: 0.0978\n",
            "Epoch 131/500\n",
            "22/22 [==============================] - 0s 9ms/step - loss: 2.9913 - accuracy: 0.0844 - val_loss: 3.1125 - val_accuracy: 0.0978\n",
            "Epoch 132/500\n",
            "22/22 [==============================] - 0s 9ms/step - loss: 2.9852 - accuracy: 0.0859 - val_loss: 3.1134 - val_accuracy: 0.0978\n",
            "Epoch 133/500\n",
            "22/22 [==============================] - 0s 9ms/step - loss: 2.9842 - accuracy: 0.1022 - val_loss: 3.1128 - val_accuracy: 0.0978\n",
            "Epoch 134/500\n",
            "22/22 [==============================] - 0s 9ms/step - loss: 2.9576 - accuracy: 0.1052 - val_loss: 3.1106 - val_accuracy: 0.0978\n",
            "Epoch 135/500\n",
            "22/22 [==============================] - 0s 9ms/step - loss: 2.9712 - accuracy: 0.0859 - val_loss: 3.1102 - val_accuracy: 0.0978\n",
            "Epoch 136/500\n",
            "22/22 [==============================] - 0s 9ms/step - loss: 2.9927 - accuracy: 0.1067 - val_loss: 3.1099 - val_accuracy: 0.0978\n",
            "Epoch 137/500\n",
            "22/22 [==============================] - 0s 9ms/step - loss: 2.9699 - accuracy: 0.1037 - val_loss: 3.1098 - val_accuracy: 0.0978\n",
            "Epoch 138/500\n",
            "22/22 [==============================] - 0s 9ms/step - loss: 2.9660 - accuracy: 0.0978 - val_loss: 3.1074 - val_accuracy: 0.0978\n",
            "Epoch 139/500\n",
            "22/22 [==============================] - 0s 9ms/step - loss: 2.9671 - accuracy: 0.1111 - val_loss: 3.1064 - val_accuracy: 0.0978\n",
            "Epoch 140/500\n",
            "22/22 [==============================] - 0s 9ms/step - loss: 2.9530 - accuracy: 0.0978 - val_loss: 3.1056 - val_accuracy: 0.0978\n",
            "Epoch 141/500\n",
            "22/22 [==============================] - 0s 9ms/step - loss: 2.9570 - accuracy: 0.1037 - val_loss: 3.1065 - val_accuracy: 0.0978\n",
            "Epoch 142/500\n",
            "22/22 [==============================] - 0s 9ms/step - loss: 2.9685 - accuracy: 0.0978 - val_loss: 3.1003 - val_accuracy: 0.0978\n",
            "Epoch 143/500\n",
            "22/22 [==============================] - 0s 9ms/step - loss: 2.9696 - accuracy: 0.1022 - val_loss: 3.1034 - val_accuracy: 0.0978\n",
            "Epoch 144/500\n",
            "22/22 [==============================] - 0s 9ms/step - loss: 2.9334 - accuracy: 0.1081 - val_loss: 3.0993 - val_accuracy: 0.0978\n",
            "Epoch 145/500\n",
            "22/22 [==============================] - 0s 9ms/step - loss: 2.9524 - accuracy: 0.1007 - val_loss: 3.0989 - val_accuracy: 0.0978\n",
            "Epoch 146/500\n",
            "22/22 [==============================] - 0s 9ms/step - loss: 2.9559 - accuracy: 0.1037 - val_loss: 3.0990 - val_accuracy: 0.0978\n",
            "Epoch 147/500\n",
            "22/22 [==============================] - 0s 9ms/step - loss: 2.9503 - accuracy: 0.0993 - val_loss: 3.0983 - val_accuracy: 0.0978\n",
            "Epoch 148/500\n",
            "22/22 [==============================] - 0s 9ms/step - loss: 2.9455 - accuracy: 0.1244 - val_loss: 3.0954 - val_accuracy: 0.0978\n",
            "Epoch 149/500\n",
            "22/22 [==============================] - 0s 9ms/step - loss: 2.9379 - accuracy: 0.1052 - val_loss: 3.0925 - val_accuracy: 0.0978\n",
            "Epoch 150/500\n",
            "22/22 [==============================] - 0s 9ms/step - loss: 2.9635 - accuracy: 0.1156 - val_loss: 3.0936 - val_accuracy: 0.0978\n",
            "Epoch 151/500\n",
            "22/22 [==============================] - 0s 9ms/step - loss: 2.9623 - accuracy: 0.1141 - val_loss: 3.0897 - val_accuracy: 0.0978\n",
            "Epoch 152/500\n",
            "22/22 [==============================] - 0s 9ms/step - loss: 2.9574 - accuracy: 0.0963 - val_loss: 3.0884 - val_accuracy: 0.0978\n",
            "Epoch 153/500\n",
            "22/22 [==============================] - 0s 9ms/step - loss: 2.9527 - accuracy: 0.0993 - val_loss: 3.0879 - val_accuracy: 0.0978\n",
            "Epoch 154/500\n",
            "22/22 [==============================] - 0s 9ms/step - loss: 2.9412 - accuracy: 0.1126 - val_loss: 3.0860 - val_accuracy: 0.0978\n",
            "Epoch 155/500\n",
            "22/22 [==============================] - 0s 9ms/step - loss: 2.9551 - accuracy: 0.1156 - val_loss: 3.0865 - val_accuracy: 0.0978\n",
            "Epoch 156/500\n",
            "22/22 [==============================] - 0s 9ms/step - loss: 2.9304 - accuracy: 0.1170 - val_loss: 3.0862 - val_accuracy: 0.0978\n",
            "Epoch 157/500\n",
            "22/22 [==============================] - 0s 9ms/step - loss: 2.9147 - accuracy: 0.1185 - val_loss: 3.0834 - val_accuracy: 0.0978\n",
            "Epoch 158/500\n",
            "22/22 [==============================] - 0s 9ms/step - loss: 2.9456 - accuracy: 0.1037 - val_loss: 3.0859 - val_accuracy: 0.0978\n",
            "Epoch 159/500\n",
            "22/22 [==============================] - 0s 9ms/step - loss: 2.9258 - accuracy: 0.1200 - val_loss: 3.0823 - val_accuracy: 0.0978\n",
            "Epoch 160/500\n",
            "22/22 [==============================] - 0s 10ms/step - loss: 2.9448 - accuracy: 0.0978 - val_loss: 3.0818 - val_accuracy: 0.0978\n",
            "Epoch 161/500\n",
            "22/22 [==============================] - 0s 9ms/step - loss: 2.9315 - accuracy: 0.1052 - val_loss: 3.0826 - val_accuracy: 0.0978\n",
            "Epoch 162/500\n",
            "22/22 [==============================] - 0s 9ms/step - loss: 2.9404 - accuracy: 0.1022 - val_loss: 3.0787 - val_accuracy: 0.0978\n",
            "Epoch 163/500\n",
            "22/22 [==============================] - 0s 9ms/step - loss: 2.9254 - accuracy: 0.1185 - val_loss: 3.0764 - val_accuracy: 0.0978\n",
            "Epoch 164/500\n",
            "22/22 [==============================] - 0s 9ms/step - loss: 2.8999 - accuracy: 0.1170 - val_loss: 3.0749 - val_accuracy: 0.0978\n",
            "Epoch 165/500\n",
            "22/22 [==============================] - 0s 9ms/step - loss: 2.9035 - accuracy: 0.1230 - val_loss: 3.0763 - val_accuracy: 0.0978\n",
            "Epoch 166/500\n",
            "22/22 [==============================] - 0s 9ms/step - loss: 2.9021 - accuracy: 0.1170 - val_loss: 3.0728 - val_accuracy: 0.0978\n",
            "Epoch 167/500\n",
            "22/22 [==============================] - 0s 9ms/step - loss: 2.9065 - accuracy: 0.0948 - val_loss: 3.0709 - val_accuracy: 0.1022\n",
            "Epoch 168/500\n",
            "22/22 [==============================] - 0s 9ms/step - loss: 2.9282 - accuracy: 0.1007 - val_loss: 3.0728 - val_accuracy: 0.1022\n",
            "Epoch 169/500\n",
            "22/22 [==============================] - 0s 9ms/step - loss: 2.9160 - accuracy: 0.1052 - val_loss: 3.0645 - val_accuracy: 0.0978\n",
            "Epoch 170/500\n",
            "22/22 [==============================] - 0s 9ms/step - loss: 2.8925 - accuracy: 0.1319 - val_loss: 3.0664 - val_accuracy: 0.0978\n",
            "Epoch 171/500\n",
            "22/22 [==============================] - 0s 9ms/step - loss: 2.9444 - accuracy: 0.1022 - val_loss: 3.0632 - val_accuracy: 0.0978\n",
            "Epoch 172/500\n",
            "22/22 [==============================] - 0s 9ms/step - loss: 2.8984 - accuracy: 0.1126 - val_loss: 3.0644 - val_accuracy: 0.0978\n",
            "Epoch 173/500\n",
            "22/22 [==============================] - 0s 9ms/step - loss: 2.8936 - accuracy: 0.1052 - val_loss: 3.0637 - val_accuracy: 0.0978\n",
            "Epoch 174/500\n"
          ]
        },
        {
          "name": "stdout",
          "output_type": "stream",
          "text": [
            "22/22 [==============================] - 0s 9ms/step - loss: 2.9122 - accuracy: 0.0978 - val_loss: 3.0598 - val_accuracy: 0.0978\n",
            "Epoch 175/500\n",
            "22/22 [==============================] - 0s 9ms/step - loss: 2.8855 - accuracy: 0.1052 - val_loss: 3.0592 - val_accuracy: 0.0978\n",
            "Epoch 176/500\n",
            "22/22 [==============================] - 0s 9ms/step - loss: 2.9072 - accuracy: 0.1185 - val_loss: 3.0536 - val_accuracy: 0.0978\n",
            "Epoch 177/500\n",
            "22/22 [==============================] - 0s 9ms/step - loss: 2.8994 - accuracy: 0.1111 - val_loss: 3.0545 - val_accuracy: 0.0978\n",
            "Epoch 178/500\n",
            "22/22 [==============================] - 0s 9ms/step - loss: 2.8849 - accuracy: 0.1052 - val_loss: 3.0554 - val_accuracy: 0.0978\n",
            "Epoch 179/500\n",
            "22/22 [==============================] - 0s 9ms/step - loss: 2.8802 - accuracy: 0.1244 - val_loss: 3.0585 - val_accuracy: 0.0978\n",
            "Epoch 180/500\n",
            "22/22 [==============================] - 0s 9ms/step - loss: 2.9040 - accuracy: 0.1067 - val_loss: 3.0508 - val_accuracy: 0.0978\n",
            "Epoch 181/500\n",
            "22/22 [==============================] - 0s 9ms/step - loss: 2.8721 - accuracy: 0.1170 - val_loss: 3.0535 - val_accuracy: 0.1022\n",
            "Epoch 182/500\n",
            "22/22 [==============================] - 0s 9ms/step - loss: 2.8817 - accuracy: 0.1052 - val_loss: 3.0525 - val_accuracy: 0.0978\n",
            "Epoch 183/500\n",
            "22/22 [==============================] - 0s 9ms/step - loss: 2.8901 - accuracy: 0.1156 - val_loss: 3.0531 - val_accuracy: 0.1022\n",
            "Epoch 184/500\n",
            "22/22 [==============================] - 0s 9ms/step - loss: 2.8688 - accuracy: 0.1096 - val_loss: 3.0489 - val_accuracy: 0.1022\n",
            "Epoch 185/500\n",
            "22/22 [==============================] - 0s 9ms/step - loss: 2.8942 - accuracy: 0.1096 - val_loss: 3.0477 - val_accuracy: 0.1022\n",
            "Epoch 186/500\n",
            "22/22 [==============================] - 0s 9ms/step - loss: 2.8994 - accuracy: 0.0978 - val_loss: 3.0458 - val_accuracy: 0.1022\n",
            "Epoch 187/500\n",
            "22/22 [==============================] - 0s 9ms/step - loss: 2.8853 - accuracy: 0.1067 - val_loss: 3.0470 - val_accuracy: 0.1022\n",
            "Epoch 188/500\n",
            "22/22 [==============================] - 0s 9ms/step - loss: 2.8845 - accuracy: 0.1289 - val_loss: 3.0403 - val_accuracy: 0.0978\n",
            "Epoch 189/500\n",
            "22/22 [==============================] - 0s 9ms/step - loss: 2.8800 - accuracy: 0.1141 - val_loss: 3.0414 - val_accuracy: 0.0978\n",
            "Epoch 190/500\n",
            "22/22 [==============================] - 0s 9ms/step - loss: 2.8421 - accuracy: 0.1244 - val_loss: 3.0376 - val_accuracy: 0.0978\n",
            "Epoch 191/500\n",
            "22/22 [==============================] - 0s 9ms/step - loss: 2.8743 - accuracy: 0.1200 - val_loss: 3.0350 - val_accuracy: 0.1022\n",
            "Epoch 192/500\n",
            "22/22 [==============================] - 0s 9ms/step - loss: 2.8497 - accuracy: 0.1081 - val_loss: 3.0368 - val_accuracy: 0.1022\n",
            "Epoch 193/500\n",
            "22/22 [==============================] - 0s 9ms/step - loss: 2.8717 - accuracy: 0.1007 - val_loss: 3.0318 - val_accuracy: 0.1022\n",
            "Epoch 194/500\n",
            "22/22 [==============================] - 0s 9ms/step - loss: 2.8669 - accuracy: 0.0963 - val_loss: 3.0322 - val_accuracy: 0.1022\n",
            "Epoch 195/500\n",
            "22/22 [==============================] - 0s 9ms/step - loss: 2.8671 - accuracy: 0.1037 - val_loss: 3.0343 - val_accuracy: 0.1067\n",
            "Epoch 196/500\n",
            "22/22 [==============================] - 0s 9ms/step - loss: 2.8330 - accuracy: 0.1156 - val_loss: 3.0297 - val_accuracy: 0.1200\n",
            "Epoch 197/500\n",
            "22/22 [==============================] - 0s 9ms/step - loss: 2.8165 - accuracy: 0.1230 - val_loss: 3.0338 - val_accuracy: 0.1156\n",
            "Epoch 198/500\n",
            "22/22 [==============================] - 0s 9ms/step - loss: 2.8482 - accuracy: 0.1111 - val_loss: 3.0246 - val_accuracy: 0.1200\n",
            "Epoch 199/500\n",
            "22/22 [==============================] - 0s 9ms/step - loss: 2.8222 - accuracy: 0.1215 - val_loss: 3.0264 - val_accuracy: 0.1200\n",
            "Epoch 200/500\n",
            "22/22 [==============================] - 0s 9ms/step - loss: 2.8621 - accuracy: 0.1200 - val_loss: 3.0260 - val_accuracy: 0.1200\n",
            "Epoch 201/500\n",
            "22/22 [==============================] - 0s 9ms/step - loss: 2.8370 - accuracy: 0.1067 - val_loss: 3.0299 - val_accuracy: 0.1244\n",
            "Epoch 202/500\n",
            "22/22 [==============================] - 0s 9ms/step - loss: 2.8719 - accuracy: 0.1156 - val_loss: 3.0296 - val_accuracy: 0.1244\n",
            "Epoch 203/500\n",
            "22/22 [==============================] - 0s 9ms/step - loss: 2.8411 - accuracy: 0.0978 - val_loss: 3.0177 - val_accuracy: 0.1200\n",
            "Epoch 204/500\n",
            "22/22 [==============================] - 0s 9ms/step - loss: 2.8236 - accuracy: 0.1215 - val_loss: 3.0224 - val_accuracy: 0.1244\n",
            "Epoch 205/500\n",
            "22/22 [==============================] - 0s 9ms/step - loss: 2.8108 - accuracy: 0.1185 - val_loss: 3.0223 - val_accuracy: 0.1244\n",
            "Epoch 206/500\n",
            "22/22 [==============================] - 0s 9ms/step - loss: 2.8452 - accuracy: 0.0889 - val_loss: 3.0134 - val_accuracy: 0.1289\n",
            "Epoch 207/500\n",
            "22/22 [==============================] - 0s 9ms/step - loss: 2.8293 - accuracy: 0.1170 - val_loss: 3.0145 - val_accuracy: 0.1333\n",
            "Epoch 208/500\n",
            "22/22 [==============================] - 0s 9ms/step - loss: 2.8221 - accuracy: 0.1052 - val_loss: 3.0139 - val_accuracy: 0.1333\n",
            "Epoch 209/500\n",
            "22/22 [==============================] - 0s 9ms/step - loss: 2.8221 - accuracy: 0.1185 - val_loss: 3.0157 - val_accuracy: 0.1333\n",
            "Epoch 210/500\n",
            "22/22 [==============================] - 0s 9ms/step - loss: 2.8265 - accuracy: 0.1007 - val_loss: 3.0220 - val_accuracy: 0.1333\n",
            "Epoch 211/500\n",
            "22/22 [==============================] - 0s 9ms/step - loss: 2.8025 - accuracy: 0.1215 - val_loss: 3.0128 - val_accuracy: 0.1289\n",
            "Epoch 212/500\n",
            "22/22 [==============================] - 0s 9ms/step - loss: 2.7923 - accuracy: 0.1096 - val_loss: 3.0130 - val_accuracy: 0.1289\n",
            "Epoch 213/500\n",
            "22/22 [==============================] - 0s 9ms/step - loss: 2.7678 - accuracy: 0.1185 - val_loss: 3.0075 - val_accuracy: 0.1378\n",
            "Epoch 214/500\n",
            "22/22 [==============================] - 0s 9ms/step - loss: 2.8227 - accuracy: 0.1081 - val_loss: 3.0037 - val_accuracy: 0.1378\n",
            "Epoch 215/500\n",
            "22/22 [==============================] - 0s 9ms/step - loss: 2.8148 - accuracy: 0.1067 - val_loss: 3.0025 - val_accuracy: 0.1333\n",
            "Epoch 216/500\n",
            "22/22 [==============================] - 0s 9ms/step - loss: 2.8129 - accuracy: 0.1141 - val_loss: 2.9994 - val_accuracy: 0.1422\n",
            "Epoch 217/500\n",
            "22/22 [==============================] - 0s 9ms/step - loss: 2.7952 - accuracy: 0.1156 - val_loss: 3.0140 - val_accuracy: 0.1289\n",
            "Epoch 218/500\n",
            "22/22 [==============================] - 0s 9ms/step - loss: 2.8128 - accuracy: 0.1111 - val_loss: 3.0023 - val_accuracy: 0.1378\n",
            "Epoch 219/500\n",
            "22/22 [==============================] - 0s 9ms/step - loss: 2.7959 - accuracy: 0.1081 - val_loss: 3.0042 - val_accuracy: 0.1378\n",
            "Epoch 220/500\n",
            "22/22 [==============================] - 0s 9ms/step - loss: 2.8055 - accuracy: 0.1244 - val_loss: 2.9983 - val_accuracy: 0.1333\n",
            "Epoch 221/500\n",
            "22/22 [==============================] - 0s 9ms/step - loss: 2.8061 - accuracy: 0.1126 - val_loss: 2.9948 - val_accuracy: 0.1333\n",
            "Epoch 222/500\n",
            "22/22 [==============================] - 0s 9ms/step - loss: 2.8214 - accuracy: 0.1170 - val_loss: 2.9930 - val_accuracy: 0.1333\n",
            "Epoch 223/500\n",
            "22/22 [==============================] - 0s 9ms/step - loss: 2.7620 - accuracy: 0.1081 - val_loss: 2.9959 - val_accuracy: 0.1378\n",
            "Epoch 224/500\n",
            "22/22 [==============================] - 0s 9ms/step - loss: 2.7752 - accuracy: 0.1304 - val_loss: 2.9847 - val_accuracy: 0.1333\n",
            "Epoch 225/500\n",
            "22/22 [==============================] - 0s 9ms/step - loss: 2.7968 - accuracy: 0.1230 - val_loss: 2.9866 - val_accuracy: 0.1378\n",
            "Epoch 226/500\n",
            "22/22 [==============================] - 0s 9ms/step - loss: 2.7965 - accuracy: 0.1200 - val_loss: 2.9861 - val_accuracy: 0.1289\n",
            "Epoch 227/500\n",
            "22/22 [==============================] - 0s 9ms/step - loss: 2.7872 - accuracy: 0.1289 - val_loss: 2.9909 - val_accuracy: 0.1244\n",
            "Epoch 228/500\n",
            "22/22 [==============================] - 0s 9ms/step - loss: 2.7831 - accuracy: 0.1333 - val_loss: 2.9932 - val_accuracy: 0.1244\n",
            "Epoch 229/500\n",
            "22/22 [==============================] - 0s 9ms/step - loss: 2.7832 - accuracy: 0.1289 - val_loss: 2.9966 - val_accuracy: 0.1244\n",
            "Epoch 230/500\n",
            "22/22 [==============================] - 0s 9ms/step - loss: 2.7696 - accuracy: 0.1304 - val_loss: 2.9877 - val_accuracy: 0.1289\n",
            "Epoch 231/500\n"
          ]
        },
        {
          "name": "stdout",
          "output_type": "stream",
          "text": [
            "22/22 [==============================] - 0s 9ms/step - loss: 2.7753 - accuracy: 0.1348 - val_loss: 2.9864 - val_accuracy: 0.1333\n",
            "Epoch 232/500\n",
            "22/22 [==============================] - 0s 9ms/step - loss: 2.8038 - accuracy: 0.1111 - val_loss: 2.9849 - val_accuracy: 0.1333\n",
            "Epoch 233/500\n",
            "22/22 [==============================] - 0s 9ms/step - loss: 2.7813 - accuracy: 0.1244 - val_loss: 2.9813 - val_accuracy: 0.1333\n",
            "Epoch 234/500\n",
            "22/22 [==============================] - 0s 9ms/step - loss: 2.7789 - accuracy: 0.1141 - val_loss: 2.9787 - val_accuracy: 0.1333\n",
            "Epoch 235/500\n",
            "22/22 [==============================] - 0s 9ms/step - loss: 2.7579 - accuracy: 0.1526 - val_loss: 2.9801 - val_accuracy: 0.1378\n",
            "Epoch 236/500\n",
            "22/22 [==============================] - 0s 9ms/step - loss: 2.7788 - accuracy: 0.1511 - val_loss: 2.9741 - val_accuracy: 0.1422\n",
            "Epoch 237/500\n",
            "22/22 [==============================] - 0s 9ms/step - loss: 2.7712 - accuracy: 0.1230 - val_loss: 2.9780 - val_accuracy: 0.1422\n",
            "Epoch 238/500\n",
            "22/22 [==============================] - 0s 9ms/step - loss: 2.7456 - accuracy: 0.1289 - val_loss: 2.9773 - val_accuracy: 0.1422\n",
            "Epoch 239/500\n",
            "22/22 [==============================] - 0s 9ms/step - loss: 2.7744 - accuracy: 0.1022 - val_loss: 2.9743 - val_accuracy: 0.1378\n",
            "Epoch 240/500\n",
            "22/22 [==============================] - 0s 9ms/step - loss: 2.7846 - accuracy: 0.1126 - val_loss: 2.9663 - val_accuracy: 0.1422\n",
            "Epoch 241/500\n",
            "22/22 [==============================] - 0s 9ms/step - loss: 2.7618 - accuracy: 0.1333 - val_loss: 2.9597 - val_accuracy: 0.1289\n",
            "Epoch 242/500\n",
            "22/22 [==============================] - 0s 9ms/step - loss: 2.7506 - accuracy: 0.1156 - val_loss: 2.9559 - val_accuracy: 0.1422\n",
            "Epoch 243/500\n",
            "22/22 [==============================] - 0s 9ms/step - loss: 2.7513 - accuracy: 0.1200 - val_loss: 2.9614 - val_accuracy: 0.1422\n",
            "Epoch 244/500\n",
            "22/22 [==============================] - 0s 9ms/step - loss: 2.7705 - accuracy: 0.1393 - val_loss: 2.9575 - val_accuracy: 0.1333\n",
            "Epoch 245/500\n",
            "22/22 [==============================] - 0s 9ms/step - loss: 2.7468 - accuracy: 0.1244 - val_loss: 2.9540 - val_accuracy: 0.1378\n",
            "Epoch 246/500\n",
            "22/22 [==============================] - 0s 9ms/step - loss: 2.7619 - accuracy: 0.1348 - val_loss: 2.9575 - val_accuracy: 0.1378\n",
            "Epoch 247/500\n",
            "22/22 [==============================] - 0s 9ms/step - loss: 2.7283 - accuracy: 0.1481 - val_loss: 2.9580 - val_accuracy: 0.1422\n",
            "Epoch 248/500\n",
            "22/22 [==============================] - 0s 9ms/step - loss: 2.7621 - accuracy: 0.1096 - val_loss: 2.9603 - val_accuracy: 0.1333\n",
            "Epoch 249/500\n",
            "22/22 [==============================] - 0s 9ms/step - loss: 2.7227 - accuracy: 0.1437 - val_loss: 2.9615 - val_accuracy: 0.1422\n",
            "Epoch 250/500\n",
            "22/22 [==============================] - 0s 9ms/step - loss: 2.7314 - accuracy: 0.1230 - val_loss: 2.9629 - val_accuracy: 0.1378\n",
            "Epoch 251/500\n",
            "22/22 [==============================] - 0s 9ms/step - loss: 2.7228 - accuracy: 0.1259 - val_loss: 2.9585 - val_accuracy: 0.1378\n",
            "Epoch 252/500\n",
            "22/22 [==============================] - 0s 9ms/step - loss: 2.7381 - accuracy: 0.1185 - val_loss: 2.9547 - val_accuracy: 0.1422\n",
            "Epoch 253/500\n",
            "22/22 [==============================] - 0s 9ms/step - loss: 2.7597 - accuracy: 0.1289 - val_loss: 2.9471 - val_accuracy: 0.1422\n",
            "Epoch 254/500\n",
            "22/22 [==============================] - 0s 9ms/step - loss: 2.7480 - accuracy: 0.1259 - val_loss: 2.9429 - val_accuracy: 0.1467\n",
            "Epoch 255/500\n",
            "22/22 [==============================] - 0s 9ms/step - loss: 2.7650 - accuracy: 0.0933 - val_loss: 2.9509 - val_accuracy: 0.1556\n",
            "Epoch 256/500\n",
            "22/22 [==============================] - 0s 9ms/step - loss: 2.7288 - accuracy: 0.1259 - val_loss: 2.9602 - val_accuracy: 0.1511\n",
            "Epoch 257/500\n",
            "22/22 [==============================] - 0s 9ms/step - loss: 2.7109 - accuracy: 0.1363 - val_loss: 2.9502 - val_accuracy: 0.1378\n",
            "Epoch 258/500\n",
            "22/22 [==============================] - 0s 9ms/step - loss: 2.7088 - accuracy: 0.1081 - val_loss: 2.9490 - val_accuracy: 0.1511\n",
            "Epoch 259/500\n",
            "22/22 [==============================] - 0s 9ms/step - loss: 2.7378 - accuracy: 0.1230 - val_loss: 2.9459 - val_accuracy: 0.1467\n",
            "Epoch 260/500\n",
            "22/22 [==============================] - 0s 9ms/step - loss: 2.7496 - accuracy: 0.1200 - val_loss: 2.9453 - val_accuracy: 0.1511\n",
            "Epoch 261/500\n",
            "22/22 [==============================] - 0s 9ms/step - loss: 2.7295 - accuracy: 0.1407 - val_loss: 2.9466 - val_accuracy: 0.1467\n",
            "Epoch 262/500\n",
            "22/22 [==============================] - 0s 9ms/step - loss: 2.7150 - accuracy: 0.1378 - val_loss: 2.9427 - val_accuracy: 0.1467\n",
            "Epoch 263/500\n",
            "22/22 [==============================] - 0s 9ms/step - loss: 2.7124 - accuracy: 0.1378 - val_loss: 2.9461 - val_accuracy: 0.1511\n",
            "Epoch 264/500\n",
            "22/22 [==============================] - 0s 9ms/step - loss: 2.7645 - accuracy: 0.1170 - val_loss: 2.9459 - val_accuracy: 0.1556\n",
            "Epoch 265/500\n",
            "22/22 [==============================] - 0s 9ms/step - loss: 2.7185 - accuracy: 0.1244 - val_loss: 2.9424 - val_accuracy: 0.1511\n",
            "Epoch 266/500\n",
            "22/22 [==============================] - 0s 9ms/step - loss: 2.7464 - accuracy: 0.1156 - val_loss: 2.9404 - val_accuracy: 0.1511\n",
            "Epoch 267/500\n",
            "22/22 [==============================] - 0s 9ms/step - loss: 2.7133 - accuracy: 0.1230 - val_loss: 2.9446 - val_accuracy: 0.1556\n",
            "Epoch 268/500\n",
            "22/22 [==============================] - 0s 9ms/step - loss: 2.7459 - accuracy: 0.1274 - val_loss: 2.9429 - val_accuracy: 0.1556\n",
            "Epoch 269/500\n",
            "22/22 [==============================] - 0s 9ms/step - loss: 2.7115 - accuracy: 0.1289 - val_loss: 2.9429 - val_accuracy: 0.1467\n",
            "Epoch 270/500\n",
            "22/22 [==============================] - 0s 9ms/step - loss: 2.7317 - accuracy: 0.1244 - val_loss: 2.9343 - val_accuracy: 0.1556\n",
            "Epoch 271/500\n",
            "22/22 [==============================] - 0s 9ms/step - loss: 2.6908 - accuracy: 0.1363 - val_loss: 2.9425 - val_accuracy: 0.1422\n",
            "Epoch 272/500\n",
            "22/22 [==============================] - 0s 9ms/step - loss: 2.7011 - accuracy: 0.1304 - val_loss: 2.9376 - val_accuracy: 0.1511\n",
            "Epoch 273/500\n",
            "22/22 [==============================] - 0s 9ms/step - loss: 2.7230 - accuracy: 0.1156 - val_loss: 2.9374 - val_accuracy: 0.1511\n",
            "Epoch 274/500\n",
            "22/22 [==============================] - 0s 9ms/step - loss: 2.7378 - accuracy: 0.1304 - val_loss: 2.9324 - val_accuracy: 0.1511\n",
            "Epoch 275/500\n",
            "22/22 [==============================] - 0s 9ms/step - loss: 2.7131 - accuracy: 0.1289 - val_loss: 2.9390 - val_accuracy: 0.1378\n",
            "Epoch 276/500\n",
            "22/22 [==============================] - 0s 9ms/step - loss: 2.7203 - accuracy: 0.1244 - val_loss: 2.9367 - val_accuracy: 0.1333\n",
            "Epoch 277/500\n",
            "22/22 [==============================] - 0s 9ms/step - loss: 2.6888 - accuracy: 0.1333 - val_loss: 2.9351 - val_accuracy: 0.1422\n",
            "Epoch 278/500\n",
            "22/22 [==============================] - 0s 9ms/step - loss: 2.6968 - accuracy: 0.1185 - val_loss: 2.9297 - val_accuracy: 0.1511\n",
            "Epoch 279/500\n",
            "22/22 [==============================] - 0s 9ms/step - loss: 2.7117 - accuracy: 0.1289 - val_loss: 2.9288 - val_accuracy: 0.1511\n",
            "Epoch 280/500\n",
            "22/22 [==============================] - 0s 9ms/step - loss: 2.6739 - accuracy: 0.1407 - val_loss: 2.9333 - val_accuracy: 0.1467\n",
            "Epoch 281/500\n",
            "22/22 [==============================] - 0s 9ms/step - loss: 2.6981 - accuracy: 0.1422 - val_loss: 2.9320 - val_accuracy: 0.1511\n",
            "Epoch 282/500\n",
            "22/22 [==============================] - 0s 9ms/step - loss: 2.7135 - accuracy: 0.1274 - val_loss: 2.9426 - val_accuracy: 0.1333\n",
            "Epoch 283/500\n",
            "22/22 [==============================] - 0s 9ms/step - loss: 2.6990 - accuracy: 0.1244 - val_loss: 2.9401 - val_accuracy: 0.1422\n",
            "Epoch 284/500\n",
            "22/22 [==============================] - 0s 9ms/step - loss: 2.7108 - accuracy: 0.1319 - val_loss: 2.9344 - val_accuracy: 0.1467\n",
            "Epoch 285/500\n",
            "22/22 [==============================] - 0s 9ms/step - loss: 2.7005 - accuracy: 0.1319 - val_loss: 2.9345 - val_accuracy: 0.1467\n",
            "Epoch 286/500\n",
            "22/22 [==============================] - 0s 9ms/step - loss: 2.6877 - accuracy: 0.1319 - val_loss: 2.9358 - val_accuracy: 0.1467\n",
            "Epoch 287/500\n",
            "22/22 [==============================] - 0s 9ms/step - loss: 2.7226 - accuracy: 0.1244 - val_loss: 2.9390 - val_accuracy: 0.1422\n",
            "Epoch 288/500\n"
          ]
        },
        {
          "name": "stdout",
          "output_type": "stream",
          "text": [
            "22/22 [==============================] - 0s 9ms/step - loss: 2.6609 - accuracy: 0.1348 - val_loss: 2.9357 - val_accuracy: 0.1511\n",
            "Epoch 289/500\n",
            "22/22 [==============================] - 0s 9ms/step - loss: 2.6977 - accuracy: 0.1215 - val_loss: 2.9342 - val_accuracy: 0.1422\n",
            "Epoch 290/500\n",
            "22/22 [==============================] - 0s 9ms/step - loss: 2.6612 - accuracy: 0.1452 - val_loss: 2.9387 - val_accuracy: 0.1467\n",
            "Epoch 291/500\n",
            "22/22 [==============================] - 0s 9ms/step - loss: 2.7079 - accuracy: 0.1230 - val_loss: 2.9380 - val_accuracy: 0.1511\n",
            "Epoch 292/500\n",
            "22/22 [==============================] - 0s 9ms/step - loss: 2.6658 - accuracy: 0.1304 - val_loss: 2.9505 - val_accuracy: 0.1289\n",
            "Epoch 293/500\n",
            "22/22 [==============================] - 0s 9ms/step - loss: 2.7123 - accuracy: 0.1319 - val_loss: 2.9454 - val_accuracy: 0.1333\n",
            "Epoch 294/500\n",
            "22/22 [==============================] - 0s 9ms/step - loss: 2.7379 - accuracy: 0.1215 - val_loss: 2.9477 - val_accuracy: 0.1600\n",
            "Epoch 295/500\n",
            "22/22 [==============================] - 0s 9ms/step - loss: 2.6843 - accuracy: 0.1348 - val_loss: 2.9375 - val_accuracy: 0.1511\n",
            "Epoch 296/500\n",
            "22/22 [==============================] - 0s 9ms/step - loss: 2.6687 - accuracy: 0.1378 - val_loss: 2.9448 - val_accuracy: 0.1378\n",
            "Epoch 297/500\n",
            "22/22 [==============================] - 0s 9ms/step - loss: 2.7149 - accuracy: 0.1259 - val_loss: 2.9446 - val_accuracy: 0.1467\n",
            "Epoch 298/500\n",
            "22/22 [==============================] - 0s 9ms/step - loss: 2.6710 - accuracy: 0.1407 - val_loss: 2.9434 - val_accuracy: 0.1556\n",
            "Epoch 299/500\n",
            "22/22 [==============================] - 0s 9ms/step - loss: 2.6732 - accuracy: 0.1378 - val_loss: 2.9439 - val_accuracy: 0.1422\n",
            "Epoch 300/500\n",
            "22/22 [==============================] - 0s 9ms/step - loss: 2.6618 - accuracy: 0.1378 - val_loss: 2.9463 - val_accuracy: 0.1378\n",
            "Epoch 301/500\n",
            "22/22 [==============================] - 0s 9ms/step - loss: 2.6953 - accuracy: 0.1319 - val_loss: 2.9414 - val_accuracy: 0.1467\n",
            "Epoch 302/500\n",
            "22/22 [==============================] - 0s 9ms/step - loss: 2.6631 - accuracy: 0.1348 - val_loss: 2.9485 - val_accuracy: 0.1467\n",
            "Epoch 303/500\n",
            "22/22 [==============================] - 0s 9ms/step - loss: 2.6853 - accuracy: 0.1363 - val_loss: 2.9501 - val_accuracy: 0.1467\n",
            "Epoch 304/500\n",
            "22/22 [==============================] - 0s 9ms/step - loss: 2.6607 - accuracy: 0.1378 - val_loss: 2.9583 - val_accuracy: 0.1333\n",
            "Epoch 305/500\n",
            "22/22 [==============================] - 0s 9ms/step - loss: 2.7099 - accuracy: 0.1407 - val_loss: 2.9488 - val_accuracy: 0.1511\n",
            "Epoch 306/500\n",
            "22/22 [==============================] - 0s 9ms/step - loss: 2.6876 - accuracy: 0.1259 - val_loss: 2.9532 - val_accuracy: 0.1422\n",
            "Epoch 307/500\n",
            "22/22 [==============================] - 0s 9ms/step - loss: 2.7130 - accuracy: 0.1333 - val_loss: 2.9577 - val_accuracy: 0.1422\n",
            "Epoch 308/500\n",
            "22/22 [==============================] - 0s 9ms/step - loss: 2.6798 - accuracy: 0.1378 - val_loss: 2.9533 - val_accuracy: 0.1422\n",
            "Epoch 309/500\n",
            "22/22 [==============================] - 0s 9ms/step - loss: 2.6649 - accuracy: 0.1393 - val_loss: 2.9486 - val_accuracy: 0.1378\n",
            "Epoch 310/500\n",
            "22/22 [==============================] - 0s 9ms/step - loss: 2.6851 - accuracy: 0.1437 - val_loss: 2.9571 - val_accuracy: 0.1467\n",
            "Epoch 311/500\n",
            "22/22 [==============================] - 0s 9ms/step - loss: 2.6847 - accuracy: 0.1363 - val_loss: 2.9522 - val_accuracy: 0.1422\n",
            "Epoch 312/500\n",
            "22/22 [==============================] - 0s 9ms/step - loss: 2.6944 - accuracy: 0.1200 - val_loss: 2.9498 - val_accuracy: 0.1378\n",
            "Epoch 313/500\n",
            "22/22 [==============================] - 0s 9ms/step - loss: 2.6431 - accuracy: 0.1304 - val_loss: 2.9523 - val_accuracy: 0.1422\n",
            "Epoch 314/500\n",
            "22/22 [==============================] - 0s 9ms/step - loss: 2.6934 - accuracy: 0.1333 - val_loss: 2.9598 - val_accuracy: 0.1333\n",
            "Epoch 315/500\n",
            "22/22 [==============================] - 0s 9ms/step - loss: 2.6690 - accuracy: 0.1274 - val_loss: 2.9553 - val_accuracy: 0.1289\n",
            "Epoch 316/500\n",
            "22/22 [==============================] - 0s 9ms/step - loss: 2.6582 - accuracy: 0.1215 - val_loss: 2.9570 - val_accuracy: 0.1378\n",
            "Epoch 317/500\n",
            "22/22 [==============================] - 0s 9ms/step - loss: 2.7021 - accuracy: 0.1481 - val_loss: 2.9490 - val_accuracy: 0.1422\n",
            "Epoch 318/500\n",
            "22/22 [==============================] - 0s 9ms/step - loss: 2.6357 - accuracy: 0.1289 - val_loss: 2.9466 - val_accuracy: 0.1556\n",
            "Epoch 319/500\n",
            "22/22 [==============================] - 0s 9ms/step - loss: 2.6703 - accuracy: 0.1467 - val_loss: 2.9585 - val_accuracy: 0.1378\n",
            "Epoch 320/500\n",
            "22/22 [==============================] - 0s 9ms/step - loss: 2.6438 - accuracy: 0.1348 - val_loss: 2.9527 - val_accuracy: 0.1378\n",
            "Epoch 321/500\n",
            "22/22 [==============================] - 0s 9ms/step - loss: 2.6670 - accuracy: 0.1185 - val_loss: 2.9511 - val_accuracy: 0.1244\n",
            "Epoch 322/500\n",
            "22/22 [==============================] - 0s 9ms/step - loss: 2.6657 - accuracy: 0.1452 - val_loss: 2.9513 - val_accuracy: 0.1156\n",
            "Epoch 323/500\n",
            "22/22 [==============================] - 0s 9ms/step - loss: 2.6638 - accuracy: 0.1304 - val_loss: 2.9514 - val_accuracy: 0.1289\n",
            "Epoch 324/500\n",
            "22/22 [==============================] - 0s 9ms/step - loss: 2.7027 - accuracy: 0.1200 - val_loss: 2.9547 - val_accuracy: 0.1333\n",
            "Epoch 325/500\n",
            "22/22 [==============================] - 0s 9ms/step - loss: 2.6641 - accuracy: 0.1422 - val_loss: 2.9520 - val_accuracy: 0.1556\n",
            "Epoch 326/500\n",
            "22/22 [==============================] - 0s 9ms/step - loss: 2.6636 - accuracy: 0.1363 - val_loss: 2.9579 - val_accuracy: 0.1289\n",
            "Epoch 327/500\n",
            "22/22 [==============================] - 0s 9ms/step - loss: 2.6874 - accuracy: 0.1244 - val_loss: 2.9516 - val_accuracy: 0.1511\n",
            "Epoch 328/500\n",
            "22/22 [==============================] - 0s 9ms/step - loss: 2.6698 - accuracy: 0.1304 - val_loss: 2.9553 - val_accuracy: 0.1333\n",
            "Epoch 329/500\n",
            "22/22 [==============================] - 0s 9ms/step - loss: 2.6905 - accuracy: 0.1259 - val_loss: 2.9600 - val_accuracy: 0.1289\n",
            "Epoch 330/500\n",
            "22/22 [==============================] - 0s 9ms/step - loss: 2.6743 - accuracy: 0.1437 - val_loss: 2.9599 - val_accuracy: 0.1422\n",
            "Epoch 331/500\n",
            "22/22 [==============================] - 0s 9ms/step - loss: 2.6338 - accuracy: 0.1437 - val_loss: 2.9482 - val_accuracy: 0.1733\n",
            "Epoch 332/500\n",
            "22/22 [==============================] - 0s 9ms/step - loss: 2.6386 - accuracy: 0.1511 - val_loss: 2.9543 - val_accuracy: 0.1556\n",
            "Epoch 333/500\n",
            "22/22 [==============================] - 0s 9ms/step - loss: 2.6412 - accuracy: 0.1407 - val_loss: 2.9521 - val_accuracy: 0.1689\n",
            "Epoch 334/500\n",
            "22/22 [==============================] - 0s 9ms/step - loss: 2.6463 - accuracy: 0.1378 - val_loss: 2.9528 - val_accuracy: 0.1467\n",
            "Epoch 335/500\n",
            "22/22 [==============================] - 0s 9ms/step - loss: 2.6268 - accuracy: 0.1600 - val_loss: 2.9523 - val_accuracy: 0.1467\n",
            "Epoch 336/500\n",
            "22/22 [==============================] - 0s 9ms/step - loss: 2.6316 - accuracy: 0.1422 - val_loss: 2.9513 - val_accuracy: 0.1644\n",
            "Epoch 337/500\n",
            "22/22 [==============================] - 0s 9ms/step - loss: 2.6557 - accuracy: 0.1289 - val_loss: 2.9576 - val_accuracy: 0.1556\n",
            "Epoch 338/500\n",
            "22/22 [==============================] - 0s 9ms/step - loss: 2.6513 - accuracy: 0.1363 - val_loss: 2.9536 - val_accuracy: 0.1733\n",
            "Epoch 339/500\n",
            "22/22 [==============================] - 0s 9ms/step - loss: 2.6574 - accuracy: 0.1600 - val_loss: 2.9486 - val_accuracy: 0.1644\n",
            "Epoch 340/500\n",
            "22/22 [==============================] - 0s 9ms/step - loss: 2.6690 - accuracy: 0.1244 - val_loss: 2.9531 - val_accuracy: 0.1644\n",
            "Epoch 341/500\n",
            "22/22 [==============================] - 0s 9ms/step - loss: 2.6405 - accuracy: 0.1437 - val_loss: 2.9564 - val_accuracy: 0.1600\n",
            "Epoch 342/500\n",
            "22/22 [==============================] - 0s 9ms/step - loss: 2.5896 - accuracy: 0.1541 - val_loss: 2.9524 - val_accuracy: 0.1556\n",
            "Epoch 343/500\n",
            "22/22 [==============================] - 0s 9ms/step - loss: 2.6022 - accuracy: 0.1511 - val_loss: 2.9521 - val_accuracy: 0.1467\n",
            "Epoch 344/500\n",
            "22/22 [==============================] - 0s 9ms/step - loss: 2.6825 - accuracy: 0.1304 - val_loss: 2.9609 - val_accuracy: 0.1467\n",
            "Epoch 345/500\n"
          ]
        },
        {
          "name": "stdout",
          "output_type": "stream",
          "text": [
            "22/22 [==============================] - 0s 9ms/step - loss: 2.6534 - accuracy: 0.1333 - val_loss: 2.9584 - val_accuracy: 0.1511\n",
            "Epoch 346/500\n",
            "22/22 [==============================] - 0s 9ms/step - loss: 2.6866 - accuracy: 0.1348 - val_loss: 2.9649 - val_accuracy: 0.1511\n",
            "Epoch 347/500\n",
            "22/22 [==============================] - 0s 9ms/step - loss: 2.6394 - accuracy: 0.1363 - val_loss: 2.9672 - val_accuracy: 0.1556\n",
            "Epoch 348/500\n",
            "22/22 [==============================] - 0s 9ms/step - loss: 2.6142 - accuracy: 0.1481 - val_loss: 2.9572 - val_accuracy: 0.1467\n",
            "Epoch 349/500\n",
            "22/22 [==============================] - 0s 9ms/step - loss: 2.6410 - accuracy: 0.1259 - val_loss: 2.9610 - val_accuracy: 0.1467\n",
            "Epoch 350/500\n",
            "22/22 [==============================] - 0s 9ms/step - loss: 2.6499 - accuracy: 0.1407 - val_loss: 2.9633 - val_accuracy: 0.1556\n",
            "Epoch 351/500\n",
            "22/22 [==============================] - 0s 9ms/step - loss: 2.6472 - accuracy: 0.1363 - val_loss: 2.9673 - val_accuracy: 0.1422\n",
            "Epoch 352/500\n",
            "22/22 [==============================] - 0s 9ms/step - loss: 2.5840 - accuracy: 0.1481 - val_loss: 2.9578 - val_accuracy: 0.1556\n",
            "Epoch 353/500\n",
            "22/22 [==============================] - 0s 9ms/step - loss: 2.6031 - accuracy: 0.1393 - val_loss: 2.9631 - val_accuracy: 0.1467\n",
            "Epoch 354/500\n",
            "22/22 [==============================] - 0s 9ms/step - loss: 2.6681 - accuracy: 0.1437 - val_loss: 2.9631 - val_accuracy: 0.1511\n",
            "Epoch 355/500\n",
            "22/22 [==============================] - 0s 9ms/step - loss: 2.6194 - accuracy: 0.1481 - val_loss: 2.9700 - val_accuracy: 0.1289\n",
            "Epoch 356/500\n",
            "22/22 [==============================] - 0s 9ms/step - loss: 2.6117 - accuracy: 0.1348 - val_loss: 2.9736 - val_accuracy: 0.1378\n",
            "Epoch 357/500\n",
            "22/22 [==============================] - 0s 9ms/step - loss: 2.6368 - accuracy: 0.1467 - val_loss: 2.9696 - val_accuracy: 0.1378\n",
            "Epoch 358/500\n",
            "22/22 [==============================] - 0s 9ms/step - loss: 2.6392 - accuracy: 0.1467 - val_loss: 2.9721 - val_accuracy: 0.1333\n",
            "Epoch 359/500\n",
            "22/22 [==============================] - 0s 9ms/step - loss: 2.6165 - accuracy: 0.1556 - val_loss: 2.9738 - val_accuracy: 0.1378\n",
            "Epoch 360/500\n",
            "22/22 [==============================] - 0s 9ms/step - loss: 2.6361 - accuracy: 0.1378 - val_loss: 2.9718 - val_accuracy: 0.1378\n",
            "Epoch 361/500\n",
            "22/22 [==============================] - 0s 9ms/step - loss: 2.6117 - accuracy: 0.1378 - val_loss: 2.9705 - val_accuracy: 0.1511\n",
            "Epoch 362/500\n",
            "22/22 [==============================] - 0s 9ms/step - loss: 2.6125 - accuracy: 0.1467 - val_loss: 2.9699 - val_accuracy: 0.1333\n",
            "Epoch 363/500\n",
            "22/22 [==============================] - 0s 9ms/step - loss: 2.6193 - accuracy: 0.1556 - val_loss: 2.9616 - val_accuracy: 0.1378\n",
            "Epoch 364/500\n",
            "22/22 [==============================] - 0s 9ms/step - loss: 2.6222 - accuracy: 0.1378 - val_loss: 2.9689 - val_accuracy: 0.1289\n",
            "Epoch 365/500\n",
            "22/22 [==============================] - 0s 9ms/step - loss: 2.6398 - accuracy: 0.1481 - val_loss: 2.9659 - val_accuracy: 0.1333\n",
            "Epoch 366/500\n",
            "22/22 [==============================] - 0s 9ms/step - loss: 2.6725 - accuracy: 0.1393 - val_loss: 2.9772 - val_accuracy: 0.1333\n",
            "Epoch 367/500\n",
            "22/22 [==============================] - 0s 9ms/step - loss: 2.6439 - accuracy: 0.1437 - val_loss: 2.9682 - val_accuracy: 0.1422\n",
            "Epoch 368/500\n",
            "22/22 [==============================] - 0s 9ms/step - loss: 2.6193 - accuracy: 0.1348 - val_loss: 2.9732 - val_accuracy: 0.1422\n",
            "Epoch 369/500\n",
            "22/22 [==============================] - 0s 9ms/step - loss: 2.5938 - accuracy: 0.1348 - val_loss: 2.9831 - val_accuracy: 0.1378\n",
            "Epoch 370/500\n",
            "22/22 [==============================] - 0s 9ms/step - loss: 2.6394 - accuracy: 0.1541 - val_loss: 2.9845 - val_accuracy: 0.1244\n",
            "Epoch 371/500\n",
            "22/22 [==============================] - 0s 9ms/step - loss: 2.6275 - accuracy: 0.1467 - val_loss: 2.9917 - val_accuracy: 0.1111\n",
            "Epoch 372/500\n",
            "22/22 [==============================] - 0s 9ms/step - loss: 2.6178 - accuracy: 0.1422 - val_loss: 2.9810 - val_accuracy: 0.1289\n",
            "Epoch 373/500\n",
            "22/22 [==============================] - 0s 9ms/step - loss: 2.6504 - accuracy: 0.1274 - val_loss: 2.9801 - val_accuracy: 0.1422\n",
            "Epoch 374/500\n",
            "22/22 [==============================] - 0s 9ms/step - loss: 2.6792 - accuracy: 0.1407 - val_loss: 2.9827 - val_accuracy: 0.1200\n",
            "Epoch 375/500\n",
            "22/22 [==============================] - 0s 9ms/step - loss: 2.6280 - accuracy: 0.1348 - val_loss: 2.9843 - val_accuracy: 0.1200\n",
            "Epoch 376/500\n",
            "22/22 [==============================] - 0s 9ms/step - loss: 2.5923 - accuracy: 0.1319 - val_loss: 2.9797 - val_accuracy: 0.1289\n",
            "Epoch 377/500\n",
            "22/22 [==============================] - 0s 9ms/step - loss: 2.6103 - accuracy: 0.1481 - val_loss: 2.9892 - val_accuracy: 0.1244\n",
            "Epoch 378/500\n",
            "22/22 [==============================] - 0s 9ms/step - loss: 2.6563 - accuracy: 0.1230 - val_loss: 2.9803 - val_accuracy: 0.1244\n",
            "Epoch 379/500\n",
            "22/22 [==============================] - 0s 9ms/step - loss: 2.6192 - accuracy: 0.1526 - val_loss: 3.0023 - val_accuracy: 0.1067\n",
            "Epoch 380/500\n",
            "22/22 [==============================] - 0s 9ms/step - loss: 2.6053 - accuracy: 0.1556 - val_loss: 2.9841 - val_accuracy: 0.1333\n",
            "Epoch 381/500\n",
            "22/22 [==============================] - 0s 9ms/step - loss: 2.6028 - accuracy: 0.1393 - val_loss: 2.9884 - val_accuracy: 0.1333\n",
            "Epoch 382/500\n",
            "22/22 [==============================] - 0s 9ms/step - loss: 2.6450 - accuracy: 0.1363 - val_loss: 2.9887 - val_accuracy: 0.1289\n",
            "Epoch 383/500\n",
            "22/22 [==============================] - 0s 9ms/step - loss: 2.6301 - accuracy: 0.1452 - val_loss: 2.9917 - val_accuracy: 0.1289\n",
            "Epoch 384/500\n",
            "22/22 [==============================] - 0s 9ms/step - loss: 2.6680 - accuracy: 0.1378 - val_loss: 2.9987 - val_accuracy: 0.1289\n",
            "Epoch 385/500\n",
            "22/22 [==============================] - 0s 9ms/step - loss: 2.6272 - accuracy: 0.1319 - val_loss: 3.0008 - val_accuracy: 0.1333\n",
            "Epoch 386/500\n",
            "22/22 [==============================] - 0s 9ms/step - loss: 2.6450 - accuracy: 0.1319 - val_loss: 2.9979 - val_accuracy: 0.1378\n",
            "Epoch 387/500\n",
            "22/22 [==============================] - 0s 9ms/step - loss: 2.6576 - accuracy: 0.1274 - val_loss: 2.9991 - val_accuracy: 0.1333\n",
            "Epoch 388/500\n",
            "22/22 [==============================] - 0s 9ms/step - loss: 2.6387 - accuracy: 0.1378 - val_loss: 3.0020 - val_accuracy: 0.1289\n",
            "Epoch 389/500\n",
            "22/22 [==============================] - 0s 9ms/step - loss: 2.6285 - accuracy: 0.1378 - val_loss: 3.0056 - val_accuracy: 0.1200\n",
            "Epoch 390/500\n",
            "22/22 [==============================] - 0s 9ms/step - loss: 2.5952 - accuracy: 0.1704 - val_loss: 3.0017 - val_accuracy: 0.1289\n",
            "Epoch 391/500\n",
            "22/22 [==============================] - 0s 9ms/step - loss: 2.6126 - accuracy: 0.1363 - val_loss: 3.0052 - val_accuracy: 0.1244\n",
            "Epoch 392/500\n",
            "22/22 [==============================] - 0s 9ms/step - loss: 2.6057 - accuracy: 0.1452 - val_loss: 2.9961 - val_accuracy: 0.1200\n",
            "Epoch 393/500\n",
            "22/22 [==============================] - 0s 9ms/step - loss: 2.6577 - accuracy: 0.1304 - val_loss: 3.0084 - val_accuracy: 0.1111\n",
            "Epoch 394/500\n",
            "22/22 [==============================] - 0s 10ms/step - loss: 2.5989 - accuracy: 0.1541 - val_loss: 3.0049 - val_accuracy: 0.1067\n",
            "Epoch 395/500\n",
            "22/22 [==============================] - 0s 9ms/step - loss: 2.6207 - accuracy: 0.1393 - val_loss: 3.0135 - val_accuracy: 0.1156\n",
            "Epoch 396/500\n",
            "22/22 [==============================] - 0s 11ms/step - loss: 2.5884 - accuracy: 0.1659 - val_loss: 2.9998 - val_accuracy: 0.1067\n",
            "Epoch 397/500\n",
            "22/22 [==============================] - 0s 12ms/step - loss: 2.6006 - accuracy: 0.1393 - val_loss: 3.0109 - val_accuracy: 0.1200\n",
            "Epoch 398/500\n",
            "22/22 [==============================] - 0s 11ms/step - loss: 2.6054 - accuracy: 0.1570 - val_loss: 3.0084 - val_accuracy: 0.1289\n",
            "Epoch 399/500\n",
            "22/22 [==============================] - 0s 10ms/step - loss: 2.6090 - accuracy: 0.1467 - val_loss: 3.0118 - val_accuracy: 0.1244\n",
            "Epoch 400/500\n",
            "22/22 [==============================] - 0s 9ms/step - loss: 2.6226 - accuracy: 0.1393 - val_loss: 3.0249 - val_accuracy: 0.1244\n",
            "Epoch 401/500\n",
            "22/22 [==============================] - 0s 9ms/step - loss: 2.6113 - accuracy: 0.1378 - val_loss: 3.0161 - val_accuracy: 0.1156\n",
            "Epoch 402/500\n"
          ]
        },
        {
          "name": "stdout",
          "output_type": "stream",
          "text": [
            "22/22 [==============================] - 0s 9ms/step - loss: 2.6250 - accuracy: 0.1511 - val_loss: 3.0163 - val_accuracy: 0.1067\n",
            "Epoch 403/500\n",
            "22/22 [==============================] - 0s 10ms/step - loss: 2.6035 - accuracy: 0.1481 - val_loss: 3.0195 - val_accuracy: 0.1156\n",
            "Epoch 404/500\n",
            "22/22 [==============================] - 0s 9ms/step - loss: 2.6147 - accuracy: 0.1511 - val_loss: 3.0276 - val_accuracy: 0.1200\n",
            "Epoch 405/500\n",
            "22/22 [==============================] - 0s 9ms/step - loss: 2.6170 - accuracy: 0.1585 - val_loss: 3.0198 - val_accuracy: 0.1111\n",
            "Epoch 406/500\n",
            "22/22 [==============================] - 0s 9ms/step - loss: 2.6217 - accuracy: 0.1585 - val_loss: 3.0209 - val_accuracy: 0.1111\n",
            "Epoch 407/500\n",
            "22/22 [==============================] - 0s 9ms/step - loss: 2.5583 - accuracy: 0.1570 - val_loss: 3.0188 - val_accuracy: 0.1244\n",
            "Epoch 408/500\n",
            "22/22 [==============================] - 0s 9ms/step - loss: 2.6046 - accuracy: 0.1333 - val_loss: 3.0304 - val_accuracy: 0.1156\n",
            "Epoch 409/500\n",
            "22/22 [==============================] - 0s 9ms/step - loss: 2.5863 - accuracy: 0.1437 - val_loss: 3.0323 - val_accuracy: 0.1111\n",
            "Epoch 410/500\n",
            "22/22 [==============================] - 0s 9ms/step - loss: 2.5934 - accuracy: 0.1393 - val_loss: 3.0274 - val_accuracy: 0.1244\n",
            "Epoch 411/500\n",
            "22/22 [==============================] - 0s 9ms/step - loss: 2.5945 - accuracy: 0.1585 - val_loss: 3.0315 - val_accuracy: 0.1156\n",
            "Epoch 412/500\n",
            "22/22 [==============================] - 0s 9ms/step - loss: 2.6175 - accuracy: 0.1452 - val_loss: 3.0196 - val_accuracy: 0.1111\n",
            "Epoch 413/500\n",
            "22/22 [==============================] - 0s 9ms/step - loss: 2.6211 - accuracy: 0.1674 - val_loss: 3.0215 - val_accuracy: 0.1156\n",
            "Epoch 414/500\n",
            "22/22 [==============================] - 0s 9ms/step - loss: 2.5532 - accuracy: 0.1674 - val_loss: 3.0290 - val_accuracy: 0.1200\n",
            "Epoch 415/500\n",
            "22/22 [==============================] - 0s 9ms/step - loss: 2.6311 - accuracy: 0.1674 - val_loss: 3.0329 - val_accuracy: 0.1200\n",
            "Epoch 416/500\n",
            "22/22 [==============================] - 0s 9ms/step - loss: 2.5925 - accuracy: 0.1526 - val_loss: 3.0246 - val_accuracy: 0.1244\n",
            "Epoch 417/500\n",
            "22/22 [==============================] - 0s 9ms/step - loss: 2.6186 - accuracy: 0.1600 - val_loss: 3.0219 - val_accuracy: 0.1156\n",
            "Epoch 418/500\n",
            "22/22 [==============================] - 0s 9ms/step - loss: 2.6049 - accuracy: 0.1570 - val_loss: 3.0266 - val_accuracy: 0.1200\n",
            "Epoch 419/500\n",
            "22/22 [==============================] - 0s 9ms/step - loss: 2.6143 - accuracy: 0.1615 - val_loss: 3.0423 - val_accuracy: 0.1244\n",
            "Epoch 420/500\n",
            "22/22 [==============================] - 0s 9ms/step - loss: 2.5932 - accuracy: 0.1526 - val_loss: 3.0335 - val_accuracy: 0.1289\n",
            "Epoch 421/500\n",
            "22/22 [==============================] - 0s 10ms/step - loss: 2.5897 - accuracy: 0.1541 - val_loss: 3.0382 - val_accuracy: 0.1244\n",
            "Epoch 422/500\n",
            "22/22 [==============================] - 0s 9ms/step - loss: 2.5510 - accuracy: 0.1541 - val_loss: 3.0367 - val_accuracy: 0.1244\n",
            "Epoch 423/500\n",
            "22/22 [==============================] - 0s 9ms/step - loss: 2.6117 - accuracy: 0.1585 - val_loss: 3.0364 - val_accuracy: 0.1378\n",
            "Epoch 424/500\n",
            "22/22 [==============================] - 0s 9ms/step - loss: 2.6269 - accuracy: 0.1556 - val_loss: 3.0392 - val_accuracy: 0.1244\n",
            "Epoch 425/500\n",
            "22/22 [==============================] - 0s 9ms/step - loss: 2.6151 - accuracy: 0.1422 - val_loss: 3.0411 - val_accuracy: 0.1156\n",
            "Epoch 426/500\n",
            "22/22 [==============================] - 0s 9ms/step - loss: 2.5949 - accuracy: 0.1393 - val_loss: 3.0445 - val_accuracy: 0.0933\n",
            "Epoch 427/500\n",
            "22/22 [==============================] - 0s 9ms/step - loss: 2.5804 - accuracy: 0.1689 - val_loss: 3.0399 - val_accuracy: 0.1111\n",
            "Epoch 428/500\n",
            "22/22 [==============================] - 0s 9ms/step - loss: 2.5871 - accuracy: 0.1511 - val_loss: 3.0437 - val_accuracy: 0.1022\n",
            "Epoch 429/500\n",
            "22/22 [==============================] - 0s 9ms/step - loss: 2.6154 - accuracy: 0.1600 - val_loss: 3.0408 - val_accuracy: 0.1200\n",
            "Epoch 430/500\n",
            "22/22 [==============================] - 0s 9ms/step - loss: 2.5943 - accuracy: 0.1674 - val_loss: 3.0445 - val_accuracy: 0.1067\n",
            "Epoch 431/500\n",
            "22/22 [==============================] - 0s 9ms/step - loss: 2.5677 - accuracy: 0.1496 - val_loss: 3.0479 - val_accuracy: 0.1067\n",
            "Epoch 432/500\n",
            "22/22 [==============================] - 0s 9ms/step - loss: 2.6286 - accuracy: 0.1378 - val_loss: 3.0521 - val_accuracy: 0.1244\n",
            "Epoch 433/500\n",
            "22/22 [==============================] - 0s 9ms/step - loss: 2.5750 - accuracy: 0.1704 - val_loss: 3.0503 - val_accuracy: 0.1200\n",
            "Epoch 434/500\n",
            "22/22 [==============================] - 0s 9ms/step - loss: 2.6417 - accuracy: 0.1378 - val_loss: 3.0551 - val_accuracy: 0.1067\n",
            "Epoch 435/500\n",
            "22/22 [==============================] - 0s 9ms/step - loss: 2.5855 - accuracy: 0.1452 - val_loss: 3.0597 - val_accuracy: 0.1200\n",
            "Epoch 436/500\n",
            "22/22 [==============================] - 0s 9ms/step - loss: 2.6011 - accuracy: 0.1481 - val_loss: 3.0587 - val_accuracy: 0.1244\n",
            "Epoch 437/500\n",
            "22/22 [==============================] - 0s 9ms/step - loss: 2.5635 - accuracy: 0.1556 - val_loss: 3.0553 - val_accuracy: 0.1333\n",
            "Epoch 438/500\n",
            "22/22 [==============================] - 0s 9ms/step - loss: 2.6070 - accuracy: 0.1526 - val_loss: 3.0670 - val_accuracy: 0.1200\n",
            "Epoch 439/500\n",
            "22/22 [==============================] - 0s 9ms/step - loss: 2.6435 - accuracy: 0.1407 - val_loss: 3.0672 - val_accuracy: 0.1244\n",
            "Epoch 440/500\n",
            "22/22 [==============================] - 0s 9ms/step - loss: 2.6037 - accuracy: 0.1511 - val_loss: 3.0740 - val_accuracy: 0.1200\n",
            "Epoch 441/500\n",
            "22/22 [==============================] - 0s 9ms/step - loss: 2.6141 - accuracy: 0.1496 - val_loss: 3.0736 - val_accuracy: 0.1200\n",
            "Epoch 442/500\n",
            "22/22 [==============================] - 0s 9ms/step - loss: 2.6051 - accuracy: 0.1496 - val_loss: 3.0755 - val_accuracy: 0.1156\n",
            "Epoch 443/500\n",
            "22/22 [==============================] - 0s 9ms/step - loss: 2.6160 - accuracy: 0.1437 - val_loss: 3.0712 - val_accuracy: 0.1333\n",
            "Epoch 444/500\n",
            "22/22 [==============================] - 0s 9ms/step - loss: 2.5832 - accuracy: 0.1704 - val_loss: 3.0802 - val_accuracy: 0.1200\n",
            "Epoch 445/500\n",
            "22/22 [==============================] - 0s 9ms/step - loss: 2.6152 - accuracy: 0.1481 - val_loss: 3.0759 - val_accuracy: 0.1244\n",
            "Epoch 446/500\n",
            "22/22 [==============================] - 0s 9ms/step - loss: 2.5974 - accuracy: 0.1526 - val_loss: 3.0752 - val_accuracy: 0.1244\n",
            "Epoch 447/500\n",
            "22/22 [==============================] - 0s 9ms/step - loss: 2.5972 - accuracy: 0.1556 - val_loss: 3.0796 - val_accuracy: 0.1200\n",
            "Epoch 448/500\n",
            "22/22 [==============================] - 0s 9ms/step - loss: 2.5836 - accuracy: 0.1556 - val_loss: 3.0859 - val_accuracy: 0.1200\n",
            "Epoch 449/500\n",
            "22/22 [==============================] - 0s 10ms/step - loss: 2.5795 - accuracy: 0.1467 - val_loss: 3.0758 - val_accuracy: 0.1378\n",
            "Epoch 450/500\n",
            "22/22 [==============================] - 0s 9ms/step - loss: 2.5802 - accuracy: 0.1481 - val_loss: 3.0821 - val_accuracy: 0.1111\n",
            "Epoch 451/500\n",
            "22/22 [==============================] - 0s 9ms/step - loss: 2.5776 - accuracy: 0.1467 - val_loss: 3.0841 - val_accuracy: 0.1067\n",
            "Epoch 452/500\n",
            "22/22 [==============================] - 0s 9ms/step - loss: 2.5908 - accuracy: 0.1585 - val_loss: 3.0839 - val_accuracy: 0.1244\n",
            "Epoch 453/500\n",
            "22/22 [==============================] - 0s 9ms/step - loss: 2.5790 - accuracy: 0.1556 - val_loss: 3.0848 - val_accuracy: 0.1289\n",
            "Epoch 454/500\n",
            "22/22 [==============================] - 0s 9ms/step - loss: 2.5819 - accuracy: 0.1763 - val_loss: 3.0799 - val_accuracy: 0.1156\n",
            "Epoch 455/500\n",
            "22/22 [==============================] - 0s 9ms/step - loss: 2.5754 - accuracy: 0.1437 - val_loss: 3.0893 - val_accuracy: 0.1111\n",
            "Epoch 456/500\n",
            "22/22 [==============================] - 0s 9ms/step - loss: 2.5672 - accuracy: 0.1526 - val_loss: 3.0845 - val_accuracy: 0.1067\n",
            "Epoch 457/500\n",
            "22/22 [==============================] - 0s 9ms/step - loss: 2.5858 - accuracy: 0.1393 - val_loss: 3.0918 - val_accuracy: 0.1067\n",
            "Epoch 458/500\n",
            "22/22 [==============================] - 0s 9ms/step - loss: 2.6075 - accuracy: 0.1452 - val_loss: 3.0968 - val_accuracy: 0.1156\n",
            "Epoch 459/500\n"
          ]
        },
        {
          "name": "stdout",
          "output_type": "stream",
          "text": [
            "22/22 [==============================] - 0s 9ms/step - loss: 2.5915 - accuracy: 0.1556 - val_loss: 3.0931 - val_accuracy: 0.1111\n",
            "Epoch 460/500\n",
            "22/22 [==============================] - 0s 9ms/step - loss: 2.5414 - accuracy: 0.1615 - val_loss: 3.1020 - val_accuracy: 0.1244\n",
            "Epoch 461/500\n",
            "22/22 [==============================] - 0s 9ms/step - loss: 2.5622 - accuracy: 0.1704 - val_loss: 3.1017 - val_accuracy: 0.1067\n",
            "Epoch 462/500\n",
            "22/22 [==============================] - 0s 9ms/step - loss: 2.6222 - accuracy: 0.1452 - val_loss: 3.0978 - val_accuracy: 0.1111\n",
            "Epoch 463/500\n",
            "22/22 [==============================] - 0s 9ms/step - loss: 2.5962 - accuracy: 0.1570 - val_loss: 3.0959 - val_accuracy: 0.1200\n",
            "Epoch 464/500\n",
            "22/22 [==============================] - 0s 9ms/step - loss: 2.5921 - accuracy: 0.1526 - val_loss: 3.0991 - val_accuracy: 0.1289\n",
            "Epoch 465/500\n",
            "22/22 [==============================] - 0s 9ms/step - loss: 2.6161 - accuracy: 0.1467 - val_loss: 3.1045 - val_accuracy: 0.1111\n",
            "Epoch 466/500\n",
            "22/22 [==============================] - 0s 9ms/step - loss: 2.5851 - accuracy: 0.1659 - val_loss: 3.1109 - val_accuracy: 0.1200\n",
            "Epoch 467/500\n",
            "22/22 [==============================] - 0s 9ms/step - loss: 2.5675 - accuracy: 0.1763 - val_loss: 3.1103 - val_accuracy: 0.1200\n",
            "Epoch 468/500\n",
            "22/22 [==============================] - 0s 9ms/step - loss: 2.5651 - accuracy: 0.1615 - val_loss: 3.1153 - val_accuracy: 0.1244\n",
            "Epoch 469/500\n",
            "22/22 [==============================] - 0s 9ms/step - loss: 2.5985 - accuracy: 0.1496 - val_loss: 3.1213 - val_accuracy: 0.1156\n",
            "Epoch 470/500\n",
            "22/22 [==============================] - 0s 9ms/step - loss: 2.5886 - accuracy: 0.1526 - val_loss: 3.1155 - val_accuracy: 0.1244\n",
            "Epoch 471/500\n",
            "22/22 [==============================] - 0s 9ms/step - loss: 2.5743 - accuracy: 0.1511 - val_loss: 3.1277 - val_accuracy: 0.1333\n",
            "Epoch 472/500\n",
            "22/22 [==============================] - 0s 9ms/step - loss: 2.5421 - accuracy: 0.1719 - val_loss: 3.1269 - val_accuracy: 0.1200\n",
            "Epoch 473/500\n",
            "22/22 [==============================] - 0s 9ms/step - loss: 2.5627 - accuracy: 0.1570 - val_loss: 3.1239 - val_accuracy: 0.1200\n",
            "Epoch 474/500\n",
            "22/22 [==============================] - 0s 9ms/step - loss: 2.5845 - accuracy: 0.1630 - val_loss: 3.1268 - val_accuracy: 0.1244\n",
            "Epoch 475/500\n",
            "22/22 [==============================] - 0s 9ms/step - loss: 2.5723 - accuracy: 0.1615 - val_loss: 3.1272 - val_accuracy: 0.1156\n",
            "Epoch 476/500\n",
            "22/22 [==============================] - 0s 9ms/step - loss: 2.5329 - accuracy: 0.1748 - val_loss: 3.1292 - val_accuracy: 0.1067\n",
            "Epoch 477/500\n",
            "22/22 [==============================] - 0s 9ms/step - loss: 2.5911 - accuracy: 0.1541 - val_loss: 3.1364 - val_accuracy: 0.1200\n",
            "Epoch 478/500\n",
            "22/22 [==============================] - 0s 9ms/step - loss: 2.5812 - accuracy: 0.1570 - val_loss: 3.1381 - val_accuracy: 0.1289\n",
            "Epoch 479/500\n",
            "22/22 [==============================] - 0s 9ms/step - loss: 2.5672 - accuracy: 0.1526 - val_loss: 3.1416 - val_accuracy: 0.1200\n",
            "Epoch 480/500\n",
            "22/22 [==============================] - 0s 9ms/step - loss: 2.5732 - accuracy: 0.1689 - val_loss: 3.1454 - val_accuracy: 0.1067\n",
            "Epoch 481/500\n",
            "22/22 [==============================] - 0s 9ms/step - loss: 2.5435 - accuracy: 0.1600 - val_loss: 3.1423 - val_accuracy: 0.1156\n",
            "Epoch 482/500\n",
            "22/22 [==============================] - 0s 9ms/step - loss: 2.6012 - accuracy: 0.1496 - val_loss: 3.1446 - val_accuracy: 0.1156\n",
            "Epoch 483/500\n",
            "22/22 [==============================] - 0s 9ms/step - loss: 2.5743 - accuracy: 0.1526 - val_loss: 3.1508 - val_accuracy: 0.1156\n",
            "Epoch 484/500\n",
            "22/22 [==============================] - 0s 9ms/step - loss: 2.5602 - accuracy: 0.1659 - val_loss: 3.1463 - val_accuracy: 0.1022\n",
            "Epoch 485/500\n",
            "22/22 [==============================] - 0s 9ms/step - loss: 2.5875 - accuracy: 0.1511 - val_loss: 3.1525 - val_accuracy: 0.1156\n",
            "Epoch 486/500\n",
            "22/22 [==============================] - 0s 9ms/step - loss: 2.5449 - accuracy: 0.1881 - val_loss: 3.1557 - val_accuracy: 0.1111\n",
            "Epoch 487/500\n",
            "22/22 [==============================] - 0s 9ms/step - loss: 2.5750 - accuracy: 0.1719 - val_loss: 3.1517 - val_accuracy: 0.1111\n",
            "Epoch 488/500\n",
            "22/22 [==============================] - 0s 9ms/step - loss: 2.5427 - accuracy: 0.1556 - val_loss: 3.1582 - val_accuracy: 0.1111\n",
            "Epoch 489/500\n",
            "22/22 [==============================] - 0s 9ms/step - loss: 2.5538 - accuracy: 0.1719 - val_loss: 3.1492 - val_accuracy: 0.1111\n",
            "Epoch 490/500\n",
            "22/22 [==============================] - 0s 9ms/step - loss: 2.5808 - accuracy: 0.1393 - val_loss: 3.1615 - val_accuracy: 0.1067\n",
            "Epoch 491/500\n",
            "22/22 [==============================] - 0s 9ms/step - loss: 2.5736 - accuracy: 0.1615 - val_loss: 3.1554 - val_accuracy: 0.1111\n",
            "Epoch 492/500\n",
            "22/22 [==============================] - 0s 9ms/step - loss: 2.5717 - accuracy: 0.1615 - val_loss: 3.1572 - val_accuracy: 0.1200\n",
            "Epoch 493/500\n",
            "22/22 [==============================] - 0s 9ms/step - loss: 2.5631 - accuracy: 0.1778 - val_loss: 3.1534 - val_accuracy: 0.1111\n",
            "Epoch 494/500\n",
            "22/22 [==============================] - 0s 9ms/step - loss: 2.5524 - accuracy: 0.1526 - val_loss: 3.1475 - val_accuracy: 0.1067\n",
            "Epoch 495/500\n",
            "22/22 [==============================] - 0s 9ms/step - loss: 2.5818 - accuracy: 0.1615 - val_loss: 3.1530 - val_accuracy: 0.1200\n",
            "Epoch 496/500\n",
            "22/22 [==============================] - 0s 9ms/step - loss: 2.5833 - accuracy: 0.1526 - val_loss: 3.1662 - val_accuracy: 0.1111\n",
            "Epoch 497/500\n",
            "22/22 [==============================] - 0s 9ms/step - loss: 2.5460 - accuracy: 0.1748 - val_loss: 3.1636 - val_accuracy: 0.1156\n",
            "Epoch 498/500\n",
            "22/22 [==============================] - 0s 9ms/step - loss: 2.5641 - accuracy: 0.1526 - val_loss: 3.1658 - val_accuracy: 0.1067\n",
            "Epoch 499/500\n",
            "22/22 [==============================] - 0s 9ms/step - loss: 2.5364 - accuracy: 0.1659 - val_loss: 3.1739 - val_accuracy: 0.1067\n",
            "Epoch 500/500\n",
            "22/22 [==============================] - 0s 9ms/step - loss: 2.5668 - accuracy: 0.1467 - val_loss: 3.1733 - val_accuracy: 0.1067\n"
          ]
        }
      ],
      "source": [
        "# Adding a few extra layers and some n-grams would help if we were underfitting...\n",
        "think_vectorizer = keras.layers.TextVectorization(output_mode='tf_idf', ngrams=2, max_tokens=vocab_size)\n",
        "think_vectorizer.adapt(train_data.text)\n",
        "think_inputs = keras.Input(shape=(think_vectorizer.vocabulary_size(),))\n",
        "train_vectors = think_vectorizer(train_data.text)\n",
        "validation_vectors = think_vectorizer(validation_data.text)\n",
        "test_vectors = think_vectorizer(test_data.text)\n",
        "think_layer = keras.layers.Dense(96, activation='softmax')(think_inputs)\n",
        "dropsies  = keras.layers.Dropout(0.95)(think_layer)\n",
        "second_thinking_layer = keras.layers.Dense(48, activation='softmax')(dropsies)\n",
        "think_output = keras.layers.Dense(df.label.nunique(), activation='softmax')(second_thinking_layer)\n",
        "model = keras.Model(inputs=think_inputs, outputs=think_output)\n",
        "model.compile(loss='sparse_categorical_crossentropy', metrics=[\"accuracy\"])\n",
        "history = model.fit(x=train_vectors, y=train_data.integer_labels,\n",
        "          validation_data=(validation_vectors,\n",
        "                          validation_data.integer_labels),\n",
        "          epochs=500\n",
        "         )"
      ]
    },
    {
      "cell_type": "code",
      "execution_count": null,
      "id": "9d70c5ea",
      "metadata": {
        "id": "9d70c5ea",
        "outputId": "70e33f17-f187-4795-99ff-f408db59c17f"
      },
      "outputs": [
        {
          "data": {
            "image/png": "[encoded data removed]",
            "text/plain": [
              "<Figure size 1200x600 with 2 Axes>"
            ]
          },
          "metadata": {},
          "output_type": "display_data"
        }
      ],
      "source": [
        "import matplotlib.pyplot as plt\n",
        "fig, axes = plt.subplots(ncols=2, figsize=(12,6))\n",
        "axes[0].plot(history.history['accuracy'],\n",
        "        label='Training Accuracy')\n",
        "axes[0].plot(history.history['val_accuracy'],\n",
        "        label='Validation Accuracy')\n",
        "axes[0].set_title('Training and Validation Accuracy')\n",
        "axes[0].set_xlabel('Epochs')\n",
        "axes[0].set_ylabel('Accuracy (bigger is better)')\n",
        "axes[0].legend()\n",
        "\n",
        "\n",
        "axes[1].plot(history.history['loss'],\n",
        "        label='Training Loss')\n",
        "axes[1].plot(history.history['val_loss'],\n",
        "        label='Validation Loss')\n",
        "axes[1].set_title('Training and Validation Loss')\n",
        "axes[1].set_xlabel('Epochs')\n",
        "axes[1].set_ylabel('Loss (smaller is better)')\n",
        "axes[1].legend()\n",
        "axes[1].set_yscale('log')"
      ]
    },
    {
      "cell_type": "code",
      "execution_count": null,
      "id": "b67fff15",
      "metadata": {
        "id": "b67fff15",
        "outputId": "150b5c1a-0c7f-481f-a051-ad25ec294255"
      },
      "outputs": [
        {
          "name": "stdout",
          "output_type": "stream",
          "text": [
            "{'loss': 3.185762405395508, 'accuracy': 0.11999999731779099}\n"
          ]
        }
      ],
      "source": [
        "print(model.evaluate(test_vectors,\n",
        "                     test_data.integer_labels,\n",
        "                     return_dict=True,\n",
        "                     verbose=0))"
      ]
    },
    {
      "cell_type": "code",
      "execution_count": null,
      "id": "ba1f0e75",
      "metadata": {
        "id": "ba1f0e75"
      },
      "outputs": [],
      "source": []
    },
    {
      "cell_type": "markdown",
      "id": "05bb9afc",
      "metadata": {
        "id": "05bb9afc"
      },
      "source": [
        "## Lexico-statistical analysis\n",
        "\n",
        "The following functions will be helpful in this exercise. The first two are taken from the `shakespeare.py`\n",
        "file from the lecture."
      ]
    },
    {
      "cell_type": "code",
      "execution_count": null,
      "id": "27294aa2",
      "metadata": {
        "id": "27294aa2"
      },
      "outputs": [],
      "source": [
        "@functools.lru_cache(100)\n",
        "def tokenize_document(doc):\n",
        "    return nltk.word_tokenize(doc.decode('utf-8'))\n",
        "\n",
        "@functools.lru_cache(100)\n",
        "def sentence_split_document(doc):\n",
        "    return nltk.sent_tokenize(doc.decode('utf-8'))\n",
        "\n",
        "\n",
        "@functools.lru_cache(1000)\n",
        "def herdan_coefficients(doc):\n",
        "    vocab_so_far = set()\n",
        "    vocab_sizes = []\n",
        "    word_counts = []\n",
        "    log_word_counts = []\n",
        "    log_vocab_sizes = []\n",
        "    for i,w in enumerate(tokenize_document(doc)):\n",
        "        vocab_so_far.update([w])\n",
        "        vocab_sizes.append(len(vocab_so_far))\n",
        "        word_counts.append(i+1)\n",
        "        log_word_counts.append(math.log10(i+1))\n",
        "        log_vocab_sizes.append(math.log10(len(vocab_so_far)))\n",
        "    beta, log_k = np.polyfit(log_word_counts, log_vocab_sizes, 1)\n",
        "    k = 10**log_k\n",
        "    return k"
      ]
    },
    {
      "cell_type": "markdown",
      "id": "7fbb548e",
      "metadata": {
        "id": "7fbb548e"
      },
      "source": [
        "There is a program `shakespeare.py` in the zip file of programs associated with this week's lecture. There's\n",
        "a copy of it in the practical folder too.\n",
        "\n",
        "Use that as base (feel free to copy it as-is) and make the following changes:"
      ]
    },
    {
      "cell_type": "markdown",
      "id": "2f8d5fa2",
      "metadata": {
        "id": "2f8d5fa2"
      },
      "source": [
        "1. An easy starter. Note that hapax_count is disconnected from the graph. The outputs don't depend on it in any way right now. Fix this, and see if that improves the accuracy and how quickly it learns.\n",
        "\n",
        "2. Replace all the `tf.int32` types with `tf.float32`. You will need to `tf.cast` in `count_letters`.\n",
        "\n",
        "3. Add Herdan's Law coefficients to the concatenated layers. The `herdan_coefficients` function above acts on\n",
        "actual values (it doesn't set up a computation graph) and has no meaningful derivative, so it will need to be\n",
        "wrapped in to function with EagerTensors, similarly to `count_words` or `count_distinct_words`.\n",
        "\n",
        "4. (Optional/extension) How would you modify this program to detect your writing (vs something written by someone else)."
      ]
    },
    {
      "cell_type": "code",
      "execution_count": null,
      "id": "450e650d",
      "metadata": {
        "id": "450e650d",
        "outputId": "5926d54e-b781-463c-8408-3b998dfd0c4c"
      },
      "outputs": [
        {
          "name": "stderr",
          "output_type": "stream",
          "text": [
            "[nltk_data] Downloading package gutenberg to /Users/gregb/nltk_data...\n",
            "[nltk_data]   Package gutenberg is already up-to-date!\n"
          ]
        },
        {
          "data": {
            "text/plain": [
              "True"
            ]
          },
          "execution_count": 3,
          "metadata": {},
          "output_type": "execute_result"
        }
      ],
      "source": [
        "nltk.download('gutenberg')"
      ]
    },
    {
      "cell_type": "code",
      "execution_count": null,
      "id": "c55f45a4",
      "metadata": {
        "id": "c55f45a4"
      },
      "outputs": [],
      "source": [
        "# Create a dataframe with the text of some Gutenberg documents,\n",
        "# and whether that document was written by Shakespeare or not\n",
        "documents = pd.DataFrame({'fileid': gutenberg.fileids()})\n",
        "documents['text'] = documents.fileid.map(gutenberg.raw)\n",
        "documents['shakespeare'] = documents.fileid.str.contains('shakespeare')\n",
        "documents.set_index('fileid', inplace=True)\n",
        "\n",
        "# The usual, train-test split. There aren't many documents\n",
        "# in the dataset that were written by Shakespeare, so let's\n",
        "# make sure that there are some in both the train and test sets.\n",
        "X_train, X_test, y_train, y_test = train_test_split(\n",
        "    documents[['text']], documents.shakespeare,\n",
        "    stratify=documents.shakespeare)\n",
        "\n",
        "\n",
        "# Tensorflow doesn't know that word counts won't change\n",
        "# over time. But we do, so we can cache this information\n",
        "# for major speed improvements.\n",
        "\n",
        "\n",
        "# These functions operate on an EagerTensor, which\n",
        "# exists in *eager* execution mode, which\n",
        "# means that there is no execution graph being\n",
        "# created.\n",
        "# These functions are very similar. I wrote it like\n",
        "# this to be easy to debug and understand. It's\n",
        "# not very efficient.\n",
        "def count_words(x):\n",
        "    n = x.numpy()\n",
        "    answer = np.zeros(np.shape(n))\n",
        "    for i in range(n.shape[0]):\n",
        "        document = n[i, 0]\n",
        "        tokens = tokenize_document(document)\n",
        "        word_count = len(tokens)\n",
        "        answer[i, 0] = word_count\n",
        "    return answer\n",
        "\n",
        "def count_distinct_words(x):\n",
        "    n = x.numpy()\n",
        "    answer = np.zeros(np.shape(n))\n",
        "    for i in range(n.shape[0]):\n",
        "        document = n[i, 0]\n",
        "        tokens = tokenize_document(document)\n",
        "        word_count = len(set(tokens))\n",
        "        answer[i, 0] = word_count\n",
        "    return answer\n",
        "\n",
        "def count_sentences(x):\n",
        "    n = x.numpy()\n",
        "    answer = np.zeros(np.shape(n))\n",
        "    for i in range(n.shape[0]):\n",
        "        document = n[i, 0]\n",
        "        tokens = sentence_split_document(document)\n",
        "        word_count = len(tokens)\n",
        "        answer[i, 0] = word_count\n",
        "    return answer\n",
        "\n",
        "def herdan(x):\n",
        "    n = x.numpy()\n",
        "    answer = np.zeros(np.shape(n))\n",
        "    for i in range(n.shape[0]):\n",
        "        document = n[i, 0]\n",
        "        answer[i, 0] = herdan_coefficients(document)\n",
        "    tf.print(answer)\n",
        "    return answer\n",
        "\n",
        "def count_hapax_legomena(x):\n",
        "    n = x.numpy()\n",
        "    answer = np.zeros(np.shape(n))\n",
        "    for i in range(n.shape[0]):\n",
        "        document = n[i, 0]\n",
        "        tokens = tokenize_document(document)\n",
        "        counter = collections.Counter(tokens)\n",
        "        hapax_legomena = [\n",
        "            word for word, count\n",
        "            in counter.items()\n",
        "            if count == 1]\n",
        "        answer[i, 0] = len(hapax_legomena)\n",
        "    return answer\n",
        "\n",
        "\n",
        "# The following functions can operate on\n",
        "# any kind of Tensor: either an EagerTensor\n",
        "# or a LazyTensor. LazyTensors can use\n",
        "# hardware backends for optimisations.\n",
        "def compute_number_of_words(x):\n",
        "    tt = tf.py_function(func=count_words,\n",
        "                        inp=[x],\n",
        "                        Tout=tf.float32)\n",
        "    tt.set_shape(x.get_shape().as_list())\n",
        "    return tt\n",
        "\n",
        "\n",
        "def compute_number_of_distinct_words(x):\n",
        "    tt = tf.py_function(func=count_distinct_words,\n",
        "                        inp=[x],\n",
        "                        Tout=tf.float32)\n",
        "    tt.set_shape(x.get_shape().as_list())\n",
        "    return tt\n",
        "\n",
        "def compute_number_of_sentences(x):\n",
        "    tt = tf.py_function(func=count_sentences,\n",
        "                        inp=[x],\n",
        "                        Tout=tf.float32)\n",
        "    tt.set_shape(x.get_shape().as_list())\n",
        "    return tt\n",
        "\n",
        "def compute_hapax_legomena(x):\n",
        "    tt = tf.py_function(func=count_hapax_legomena,\n",
        "                        inp=[x],\n",
        "                        Tout=tf.float32)\n",
        "    tt.set_shape(x.get_shape().as_list())\n",
        "    return tt\n",
        "\n",
        "def compute_herdan(x):\n",
        "    tt = tf.py_function(func=count_hapax_legomena,\n",
        "                        inp=[x],\n",
        "                        Tout=tf.float32)\n",
        "    tt.set_shape(x.get_shape().as_list())\n",
        "    return tt\n",
        "\n",
        "# Now let's do something a bit more complicated.\n",
        "# Notice that this function only uses tensorflow\n",
        "# functions. So this can operate on an EagerTensor\n",
        "# or a LazyTensor, and can be optimised on GPUs.\n",
        "def count_letters(tensor):\n",
        "    count = tf.strings.length(tensor, unit=\"UTF8_CHAR\")\n",
        "    return tf.cast(count, tf.float32)"
      ]
    },
    {
      "cell_type": "code",
      "execution_count": null,
      "id": "623762fc",
      "metadata": {
        "id": "623762fc",
        "outputId": "5efcb491-a9a3-48c0-b253-755a06064bd6"
      },
      "outputs": [
        {
          "name": "stdout",
          "output_type": "stream",
          "text": [
            "Metal device set to: Apple M1\n"
          ]
        },
        {
          "name": "stderr",
          "output_type": "stream",
          "text": [
            "2023-09-22 15:28:42.203399: I tensorflow/core/common_runtime/pluggable_device/pluggable_device_factory.cc:305] Could not identify NUMA node of platform GPU ID 0, defaulting to 0. Your kernel may not have been built with NUMA support.\n",
            "2023-09-22 15:28:42.203478: I tensorflow/core/common_runtime/pluggable_device/pluggable_device_factory.cc:271] Created TensorFlow device (/job:localhost/replica:0/task:0/device:GPU:0 with 0 MB memory) -> physical PluggableDevice (device: 0, name: METAL, pci bus id: <undefined>)\n"
          ]
        }
      ],
      "source": [
        "# First, there are the inputs. Those are strings (the\n",
        "# text of the document)\n",
        "inputs = Input(shape=(1,), dtype=tf.string)\n",
        "\n",
        "# Now we want to process those strings and extract\n",
        "# out interesting lexico-statistics. A Lambda layer\n",
        "# is something that calls a function; that function\n",
        "# must take a LazyTensor as an argument.\n",
        "\n",
        "sentence_count = Lambda(compute_number_of_sentences,\n",
        "    name=\"sentence_count\")(inputs)\n",
        "word_count = Lambda(compute_number_of_words,\n",
        "    name=\"word_count\")(inputs)\n",
        "\n",
        "distinct_word_count = Lambda(\n",
        "    compute_number_of_distinct_words,\n",
        "    name=\"distinct_word_count\")(inputs)\n",
        "\n",
        "hapax_count = Lambda(\n",
        "    compute_hapax_legomena,\n",
        "    name=\"hapax_legomena\")(inputs)\n",
        "\n",
        "letter_count_layer = Lambda(\n",
        "    count_letters,\n",
        "    name=\"letter_count\")(inputs)\n",
        "\n",
        "herdan_layer = Lambda(compute_herdan, name='herdan')(inputs)\n",
        "\n",
        "herdan_flattened = Flatten()(herdan_layer)\n",
        "\n",
        "concatenated = Concatenate(axis=1)(\n",
        "    [sentence_count,\n",
        "     word_count,\n",
        "     distinct_word_count,\n",
        "     hapax_count,\n",
        "     herdan_layer,\n",
        "     letter_count_layer])\n",
        "merged = Dense(32, activation='relu')(concatenated)\n",
        "outputs = Dense(1, activation='sigmoid', name=\"final_output\")(merged)\n",
        "model = Model(inputs=[inputs], outputs=[outputs])"
      ]
    },
    {
      "cell_type": "code",
      "execution_count": null,
      "id": "a2856415",
      "metadata": {
        "id": "a2856415",
        "outputId": "4532ca94-dd3a-47ff-f741-5e42a2fee66d"
      },
      "outputs": [
        {
          "name": "stdout",
          "output_type": "stream",
          "text": [
            "Model: \"model\"\n",
            "__________________________________________________________________________________________________\n",
            " Layer (type)                   Output Shape         Param #     Connected to                     \n",
            "==================================================================================================\n",
            " input_1 (InputLayer)           [(None, 1)]          0           []                               \n",
            "                                                                                                  \n",
            " sentence_count (Lambda)        (None, 1)            0           ['input_1[0][0]']                \n",
            "                                                                                                  \n",
            " word_count (Lambda)            (None, 1)            0           ['input_1[0][0]']                \n",
            "                                                                                                  \n",
            " distinct_word_count (Lambda)   (None, 1)            0           ['input_1[0][0]']                \n",
            "                                                                                                  \n",
            " hapax_legomena (Lambda)        (None, 1)            0           ['input_1[0][0]']                \n",
            "                                                                                                  \n",
            " herdan (Lambda)                (None, 1)            0           ['input_1[0][0]']                \n",
            "                                                                                                  \n",
            " letter_count (Lambda)          (None, 1)            0           ['input_1[0][0]']                \n",
            "                                                                                                  \n",
            " concatenate (Concatenate)      (None, 6)            0           ['sentence_count[0][0]',         \n",
            "                                                                  'word_count[0][0]',             \n",
            "                                                                  'distinct_word_count[0][0]',    \n",
            "                                                                  'hapax_legomena[0][0]',         \n",
            "                                                                  'herdan[0][0]',                 \n",
            "                                                                  'letter_count[0][0]']           \n",
            "                                                                                                  \n",
            " dense (Dense)                  (None, 32)           224         ['concatenate[0][0]']            \n",
            "                                                                                                  \n",
            " final_output (Dense)           (None, 1)            33          ['dense[0][0]']                  \n",
            "                                                                                                  \n",
            "==================================================================================================\n",
            "Total params: 257\n",
            "Trainable params: 257\n",
            "Non-trainable params: 0\n",
            "__________________________________________________________________________________________________\n"
          ]
        }
      ],
      "source": [
        "model.summary()"
      ]
    },
    {
      "cell_type": "code",
      "execution_count": null,
      "id": "f5a3f70b",
      "metadata": {
        "id": "f5a3f70b",
        "outputId": "25717a16-0440-46fb-bc2f-e85591af98f6"
      },
      "outputs": [
        {
          "name": "stdout",
          "output_type": "stream",
          "text": [
            "Epoch 1/1000\n"
          ]
        },
        {
          "name": "stderr",
          "output_type": "stream",
          "text": [
            "2023-09-22 15:28:42.344339: W tensorflow/core/platform/profile_utils/cpu_utils.cc:128] Failed to get CPU frequency: 0 Hz\n",
            "2023-09-22 15:28:42.506435: I tensorflow/core/grappler/optimizers/custom_graph_optimizer_registry.cc:113] Plugin optimizer for device_type GPU is enabled.\n"
          ]
        },
        {
          "name": "stdout",
          "output_type": "stream",
          "text": [
            "\r",
            "1/1 [==============================] - ETA: 0s - loss: 115319.2734 - accuracy: 0.0000e+00"
          ]
        },
        {
          "name": "stderr",
          "output_type": "stream",
          "text": [
            "2023-09-22 15:28:44.921137: I tensorflow/core/grappler/optimizers/custom_graph_optimizer_registry.cc:113] Plugin optimizer for device_type GPU is enabled.\n"
          ]
        },
        {
          "name": "stdout",
          "output_type": "stream",
          "text": [
            "1/1 [==============================] - 5s 5s/step - loss: 115319.2734 - accuracy: 0.0000e+00 - val_loss: 121961.4375 - val_accuracy: 0.2857\n",
            "Epoch 2/1000\n",
            "1/1 [==============================] - 0s 175ms/step - loss: 113372.2188 - accuracy: 0.0000e+00 - val_loss: 119870.9375 - val_accuracy: 0.2857\n",
            "Epoch 3/1000\n",
            "1/1 [==============================] - 0s 174ms/step - loss: 111427.0703 - accuracy: 0.0000e+00 - val_loss: 117782.5391 - val_accuracy: 0.2857\n",
            "Epoch 4/1000\n",
            "1/1 [==============================] - 0s 173ms/step - loss: 109483.8984 - accuracy: 0.0000e+00 - val_loss: 115696.3125 - val_accuracy: 0.2857\n",
            "Epoch 5/1000\n",
            "1/1 [==============================] - 0s 174ms/step - loss: 107542.7266 - accuracy: 0.0000e+00 - val_loss: 113612.2500 - val_accuracy: 0.2857\n",
            "Epoch 6/1000\n",
            "1/1 [==============================] - 0s 175ms/step - loss: 105603.5859 - accuracy: 0.0000e+00 - val_loss: 111530.3594 - val_accuracy: 0.2857\n",
            "Epoch 7/1000\n",
            "1/1 [==============================] - 0s 174ms/step - loss: 103666.4766 - accuracy: 0.0000e+00 - val_loss: 109450.6719 - val_accuracy: 0.2857\n",
            "Epoch 8/1000\n",
            "1/1 [==============================] - 0s 174ms/step - loss: 101731.4141 - accuracy: 0.0000e+00 - val_loss: 107373.1797 - val_accuracy: 0.2857\n",
            "Epoch 9/1000\n",
            "1/1 [==============================] - 0s 174ms/step - loss: 99798.4141 - accuracy: 0.0000e+00 - val_loss: 105297.9141 - val_accuracy: 0.2857\n",
            "Epoch 10/1000\n",
            "1/1 [==============================] - 0s 173ms/step - loss: 97867.4766 - accuracy: 0.0000e+00 - val_loss: 103224.8594 - val_accuracy: 0.2857\n",
            "Epoch 11/1000\n",
            "1/1 [==============================] - 0s 173ms/step - loss: 95938.6016 - accuracy: 0.0000e+00 - val_loss: 101154.0000 - val_accuracy: 0.2857\n",
            "Epoch 12/1000\n",
            "1/1 [==============================] - 0s 174ms/step - loss: 94011.8047 - accuracy: 0.0000e+00 - val_loss: 99085.3203 - val_accuracy: 0.2857\n",
            "Epoch 13/1000\n",
            "1/1 [==============================] - 0s 173ms/step - loss: 92087.0234 - accuracy: 0.0000e+00 - val_loss: 97018.8281 - val_accuracy: 0.2857\n",
            "Epoch 14/1000\n",
            "1/1 [==============================] - 0s 173ms/step - loss: 90164.2812 - accuracy: 0.0000e+00 - val_loss: 94954.4922 - val_accuracy: 0.2857\n",
            "Epoch 15/1000\n",
            "1/1 [==============================] - 0s 173ms/step - loss: 88243.5547 - accuracy: 0.0000e+00 - val_loss: 92892.2656 - val_accuracy: 0.2857\n",
            "Epoch 16/1000\n",
            "1/1 [==============================] - 0s 173ms/step - loss: 86324.7969 - accuracy: 0.0000e+00 - val_loss: 90832.1250 - val_accuracy: 0.2857\n",
            "Epoch 17/1000\n",
            "1/1 [==============================] - 0s 174ms/step - loss: 84407.9922 - accuracy: 0.0000e+00 - val_loss: 88774.0625 - val_accuracy: 0.2857\n",
            "Epoch 18/1000\n",
            "1/1 [==============================] - 0s 173ms/step - loss: 82493.1094 - accuracy: 0.0000e+00 - val_loss: 86718.0000 - val_accuracy: 0.2857\n",
            "Epoch 19/1000\n",
            "1/1 [==============================] - 0s 174ms/step - loss: 80580.1016 - accuracy: 0.0000e+00 - val_loss: 84663.8828 - val_accuracy: 0.2857\n",
            "Epoch 20/1000\n",
            "1/1 [==============================] - 0s 173ms/step - loss: 78668.9297 - accuracy: 0.0000e+00 - val_loss: 82611.6797 - val_accuracy: 0.2857\n",
            "Epoch 21/1000\n",
            "1/1 [==============================] - 0s 172ms/step - loss: 76759.5234 - accuracy: 0.0000e+00 - val_loss: 80561.3359 - val_accuracy: 0.2857\n",
            "Epoch 22/1000\n",
            "1/1 [==============================] - 0s 171ms/step - loss: 74851.8516 - accuracy: 0.0000e+00 - val_loss: 78512.7656 - val_accuracy: 0.2857\n",
            "Epoch 23/1000\n",
            "1/1 [==============================] - 0s 173ms/step - loss: 72945.8594 - accuracy: 0.0000e+00 - val_loss: 76465.9297 - val_accuracy: 0.2857\n",
            "Epoch 24/1000\n",
            "1/1 [==============================] - 0s 173ms/step - loss: 71041.4766 - accuracy: 0.0000e+00 - val_loss: 74420.7344 - val_accuracy: 0.2857\n",
            "Epoch 25/1000\n",
            "1/1 [==============================] - 0s 172ms/step - loss: 69138.6250 - accuracy: 0.0000e+00 - val_loss: 72377.1328 - val_accuracy: 0.2857\n",
            "Epoch 26/1000\n",
            "1/1 [==============================] - 0s 172ms/step - loss: 67237.2578 - accuracy: 0.0000e+00 - val_loss: 70335.0234 - val_accuracy: 0.2857\n",
            "Epoch 27/1000\n",
            "1/1 [==============================] - 0s 178ms/step - loss: 65337.2852 - accuracy: 0.0000e+00 - val_loss: 68294.3281 - val_accuracy: 0.2857\n",
            "Epoch 28/1000\n",
            "1/1 [==============================] - 0s 174ms/step - loss: 63438.6445 - accuracy: 0.0000e+00 - val_loss: 66254.9609 - val_accuracy: 0.2857\n",
            "Epoch 29/1000\n",
            "1/1 [==============================] - 0s 173ms/step - loss: 61541.2461 - accuracy: 0.0000e+00 - val_loss: 64216.8398 - val_accuracy: 0.2857\n",
            "Epoch 30/1000\n",
            "1/1 [==============================] - 0s 171ms/step - loss: 59644.9961 - accuracy: 0.0000e+00 - val_loss: 62179.8555 - val_accuracy: 0.2857\n",
            "Epoch 31/1000\n",
            "1/1 [==============================] - 0s 172ms/step - loss: 57749.8086 - accuracy: 0.0000e+00 - val_loss: 60143.9102 - val_accuracy: 0.2857\n",
            "Epoch 32/1000\n",
            "1/1 [==============================] - 0s 174ms/step - loss: 55855.6055 - accuracy: 0.0000e+00 - val_loss: 58108.9336 - val_accuracy: 0.2857\n",
            "Epoch 33/1000\n",
            "1/1 [==============================] - 0s 173ms/step - loss: 53962.2969 - accuracy: 0.0000e+00 - val_loss: 56074.7695 - val_accuracy: 0.2857\n",
            "Epoch 34/1000\n",
            "1/1 [==============================] - 0s 171ms/step - loss: 52069.7617 - accuracy: 0.0000e+00 - val_loss: 54041.3516 - val_accuracy: 0.2857\n",
            "Epoch 35/1000\n",
            "1/1 [==============================] - 0s 172ms/step - loss: 50177.9062 - accuracy: 0.0000e+00 - val_loss: 52008.5430 - val_accuracy: 0.2857\n",
            "Epoch 36/1000\n",
            "1/1 [==============================] - 0s 172ms/step - loss: 48286.6406 - accuracy: 0.0000e+00 - val_loss: 49976.2539 - val_accuracy: 0.2857\n",
            "Epoch 37/1000\n",
            "1/1 [==============================] - 0s 171ms/step - loss: 46395.8555 - accuracy: 0.0000e+00 - val_loss: 47944.3555 - val_accuracy: 0.2857\n",
            "Epoch 38/1000\n",
            "1/1 [==============================] - 0s 171ms/step - loss: 44505.4219 - accuracy: 0.0000e+00 - val_loss: 45912.7227 - val_accuracy: 0.2857\n",
            "Epoch 39/1000\n",
            "1/1 [==============================] - 0s 173ms/step - loss: 42615.2539 - accuracy: 0.0000e+00 - val_loss: 43881.2422 - val_accuracy: 0.2857\n",
            "Epoch 40/1000\n",
            "1/1 [==============================] - 0s 172ms/step - loss: 40725.2227 - accuracy: 0.0000e+00 - val_loss: 41849.7695 - val_accuracy: 0.2857\n",
            "Epoch 41/1000\n",
            "1/1 [==============================] - 0s 173ms/step - loss: 38835.2148 - accuracy: 0.0000e+00 - val_loss: 39818.2070 - val_accuracy: 0.2857\n",
            "Epoch 42/1000\n",
            "1/1 [==============================] - 0s 174ms/step - loss: 36945.1211 - accuracy: 0.0000e+00 - val_loss: 37786.4102 - val_accuracy: 0.2857\n",
            "Epoch 43/1000\n",
            "1/1 [==============================] - 0s 174ms/step - loss: 35054.8047 - accuracy: 0.0000e+00 - val_loss: 35754.2578 - val_accuracy: 0.2857\n",
            "Epoch 44/1000\n",
            "1/1 [==============================] - 0s 173ms/step - loss: 33164.1602 - accuracy: 0.0000e+00 - val_loss: 33721.5977 - val_accuracy: 0.2857\n",
            "Epoch 45/1000\n",
            "1/1 [==============================] - 0s 175ms/step - loss: 31273.0469 - accuracy: 0.0000e+00 - val_loss: 31688.3086 - val_accuracy: 0.2857\n",
            "Epoch 46/1000\n",
            "1/1 [==============================] - 0s 173ms/step - loss: 29381.3496 - accuracy: 0.0000e+00 - val_loss: 29654.2363 - val_accuracy: 0.2857\n",
            "Epoch 47/1000\n",
            "1/1 [==============================] - 0s 174ms/step - loss: 27488.9219 - accuracy: 0.0000e+00 - val_loss: 27619.2539 - val_accuracy: 0.2857\n",
            "Epoch 48/1000\n",
            "1/1 [==============================] - 0s 172ms/step - loss: 25595.6504 - accuracy: 0.0000e+00 - val_loss: 25583.2168 - val_accuracy: 0.2857\n",
            "Epoch 49/1000\n",
            "1/1 [==============================] - 0s 173ms/step - loss: 23701.3965 - accuracy: 0.0000e+00 - val_loss: 23545.9688 - val_accuracy: 0.2857\n",
            "Epoch 50/1000\n",
            "1/1 [==============================] - 0s 174ms/step - loss: 21806.0176 - accuracy: 0.0000e+00 - val_loss: 21507.3711 - val_accuracy: 0.2857\n",
            "Epoch 51/1000\n",
            "1/1 [==============================] - 0s 175ms/step - loss: 19909.3770 - accuracy: 0.0000e+00 - val_loss: 19467.2812 - val_accuracy: 0.2857\n",
            "Epoch 52/1000\n",
            "1/1 [==============================] - 0s 197ms/step - loss: 18011.3535 - accuracy: 0.0000e+00 - val_loss: 17425.5312 - val_accuracy: 0.2857\n",
            "Epoch 53/1000\n",
            "1/1 [==============================] - 0s 182ms/step - loss: 16111.7861 - accuracy: 0.0000e+00 - val_loss: 15381.9756 - val_accuracy: 0.2857\n"
          ]
        },
        {
          "name": "stdout",
          "output_type": "stream",
          "text": [
            "Epoch 54/1000\n",
            "1/1 [==============================] - 0s 183ms/step - loss: 14210.5430 - accuracy: 0.0000e+00 - val_loss: 13336.4736 - val_accuracy: 0.2857\n",
            "Epoch 55/1000\n",
            "1/1 [==============================] - 0s 176ms/step - loss: 12307.4766 - accuracy: 0.0000e+00 - val_loss: 11288.8457 - val_accuracy: 0.2857\n",
            "Epoch 56/1000\n",
            "1/1 [==============================] - 0s 174ms/step - loss: 10402.4385 - accuracy: 0.0000e+00 - val_loss: 9238.9346 - val_accuracy: 0.2857\n",
            "Epoch 57/1000\n",
            "1/1 [==============================] - 0s 174ms/step - loss: 8495.2783 - accuracy: 0.0000e+00 - val_loss: 7186.6064 - val_accuracy: 0.2857\n",
            "Epoch 58/1000\n",
            "1/1 [==============================] - 0s 173ms/step - loss: 6585.8613 - accuracy: 0.0000e+00 - val_loss: 5131.6753 - val_accuracy: 0.2857\n",
            "Epoch 59/1000\n",
            "1/1 [==============================] - 0s 173ms/step - loss: 4674.0229 - accuracy: 0.0000e+00 - val_loss: 3076.9910 - val_accuracy: 0.1429\n",
            "Epoch 60/1000\n",
            "1/1 [==============================] - 0s 174ms/step - loss: 2760.8857 - accuracy: 0.1667 - val_loss: 1179.5629 - val_accuracy: 0.0000e+00\n",
            "Epoch 61/1000\n",
            "1/1 [==============================] - 0s 174ms/step - loss: 879.3049 - accuracy: 0.1667 - val_loss: 358.3092 - val_accuracy: 0.7143\n",
            "Epoch 62/1000\n",
            "1/1 [==============================] - 0s 174ms/step - loss: 0.0000e+00 - accuracy: 1.0000 - val_loss: 535.5019 - val_accuracy: 0.7143\n",
            "Epoch 63/1000\n",
            "1/1 [==============================] - 0s 173ms/step - loss: 0.0000e+00 - accuracy: 1.0000 - val_loss: 696.4526 - val_accuracy: 0.7143\n",
            "Epoch 64/1000\n",
            "1/1 [==============================] - 0s 174ms/step - loss: 0.0000e+00 - accuracy: 1.0000 - val_loss: 842.6216 - val_accuracy: 0.7143\n",
            "Epoch 65/1000\n",
            "1/1 [==============================] - 0s 173ms/step - loss: 0.0000e+00 - accuracy: 1.0000 - val_loss: 975.3358 - val_accuracy: 0.7143\n",
            "Epoch 66/1000\n",
            "1/1 [==============================] - 0s 174ms/step - loss: 0.0000e+00 - accuracy: 1.0000 - val_loss: 1095.8129 - val_accuracy: 0.7143\n",
            "Epoch 67/1000\n",
            "1/1 [==============================] - 0s 173ms/step - loss: 0.0000e+00 - accuracy: 1.0000 - val_loss: 1205.1604 - val_accuracy: 0.7143\n",
            "Epoch 68/1000\n",
            "1/1 [==============================] - 0s 173ms/step - loss: 0.0000e+00 - accuracy: 1.0000 - val_loss: 1304.3903 - val_accuracy: 0.7143\n",
            "Epoch 69/1000\n",
            "1/1 [==============================] - 0s 175ms/step - loss: 0.0000e+00 - accuracy: 1.0000 - val_loss: 1394.4231 - val_accuracy: 0.7143\n",
            "Epoch 70/1000\n",
            "1/1 [==============================] - 0s 171ms/step - loss: 0.0000e+00 - accuracy: 1.0000 - val_loss: 1476.0979 - val_accuracy: 0.7143\n",
            "Epoch 71/1000\n",
            "1/1 [==============================] - 0s 169ms/step - loss: 0.0000e+00 - accuracy: 1.0000 - val_loss: 1550.1814 - val_accuracy: 0.7143\n",
            "Epoch 72/1000\n",
            "1/1 [==============================] - 0s 187ms/step - loss: 0.0000e+00 - accuracy: 1.0000 - val_loss: 1617.3679 - val_accuracy: 0.7143\n",
            "Epoch 73/1000\n",
            "1/1 [==============================] - 0s 171ms/step - loss: 0.0000e+00 - accuracy: 1.0000 - val_loss: 1678.2930 - val_accuracy: 0.7143\n",
            "Epoch 74/1000\n",
            "1/1 [==============================] - 0s 169ms/step - loss: 0.0000e+00 - accuracy: 1.0000 - val_loss: 1733.5321 - val_accuracy: 0.7143\n",
            "Epoch 75/1000\n",
            "1/1 [==============================] - 0s 169ms/step - loss: 0.0000e+00 - accuracy: 1.0000 - val_loss: 1783.6096 - val_accuracy: 0.7143\n",
            "Epoch 76/1000\n",
            "1/1 [==============================] - 0s 170ms/step - loss: 0.0000e+00 - accuracy: 1.0000 - val_loss: 1829.0031 - val_accuracy: 0.7143\n",
            "Epoch 77/1000\n",
            "1/1 [==============================] - 0s 169ms/step - loss: 0.0000e+00 - accuracy: 1.0000 - val_loss: 1870.1454 - val_accuracy: 0.7143\n",
            "Epoch 78/1000\n",
            "1/1 [==============================] - 0s 170ms/step - loss: 0.0000e+00 - accuracy: 1.0000 - val_loss: 1907.4319 - val_accuracy: 0.7143\n",
            "Epoch 79/1000\n",
            "1/1 [==============================] - 0s 170ms/step - loss: 0.0000e+00 - accuracy: 1.0000 - val_loss: 1941.2185 - val_accuracy: 0.7143\n",
            "Epoch 80/1000\n",
            "1/1 [==============================] - 0s 171ms/step - loss: 0.0000e+00 - accuracy: 1.0000 - val_loss: 1971.8329 - val_accuracy: 0.7143\n",
            "Epoch 81/1000\n",
            "1/1 [==============================] - 0s 171ms/step - loss: 0.0000e+00 - accuracy: 1.0000 - val_loss: 1999.5685 - val_accuracy: 0.7143\n",
            "Epoch 82/1000\n",
            "1/1 [==============================] - 0s 170ms/step - loss: 0.0000e+00 - accuracy: 1.0000 - val_loss: 2024.6943 - val_accuracy: 0.7143\n",
            "Epoch 83/1000\n",
            "1/1 [==============================] - 0s 171ms/step - loss: 0.0000e+00 - accuracy: 1.0000 - val_loss: 2047.4542 - val_accuracy: 0.7143\n",
            "Epoch 84/1000\n",
            "1/1 [==============================] - 0s 171ms/step - loss: 0.0000e+00 - accuracy: 1.0000 - val_loss: 2068.0681 - val_accuracy: 0.7143\n",
            "Epoch 85/1000\n",
            "1/1 [==============================] - 0s 170ms/step - loss: 0.0000e+00 - accuracy: 1.0000 - val_loss: 2086.7393 - val_accuracy: 0.7143\n",
            "Epoch 86/1000\n",
            "1/1 [==============================] - 0s 175ms/step - loss: 0.0000e+00 - accuracy: 1.0000 - val_loss: 2103.6467 - val_accuracy: 0.7143\n",
            "Epoch 87/1000\n",
            "1/1 [==============================] - 0s 170ms/step - loss: 0.0000e+00 - accuracy: 1.0000 - val_loss: 2118.9573 - val_accuracy: 0.7143\n",
            "Epoch 88/1000\n",
            "1/1 [==============================] - 0s 170ms/step - loss: 0.0000e+00 - accuracy: 1.0000 - val_loss: 2132.8201 - val_accuracy: 0.7143\n",
            "Epoch 89/1000\n",
            "1/1 [==============================] - 0s 171ms/step - loss: 0.0000e+00 - accuracy: 1.0000 - val_loss: 2145.3718 - val_accuracy: 0.7143\n",
            "Epoch 90/1000\n",
            "1/1 [==============================] - 0s 170ms/step - loss: 0.0000e+00 - accuracy: 1.0000 - val_loss: 2156.7349 - val_accuracy: 0.7143\n",
            "Epoch 91/1000\n",
            "1/1 [==============================] - 0s 170ms/step - loss: 0.0000e+00 - accuracy: 1.0000 - val_loss: 2167.0217 - val_accuracy: 0.7143\n",
            "Epoch 92/1000\n",
            "1/1 [==============================] - 0s 172ms/step - loss: 0.0000e+00 - accuracy: 1.0000 - val_loss: 2176.3337 - val_accuracy: 0.7143\n",
            "Epoch 93/1000\n",
            "1/1 [==============================] - 0s 172ms/step - loss: 0.0000e+00 - accuracy: 1.0000 - val_loss: 2184.7622 - val_accuracy: 0.7143\n",
            "Epoch 94/1000\n",
            "1/1 [==============================] - 0s 171ms/step - loss: 0.0000e+00 - accuracy: 1.0000 - val_loss: 2192.3909 - val_accuracy: 0.7143\n",
            "Epoch 95/1000\n",
            "1/1 [==============================] - 0s 172ms/step - loss: 0.0000e+00 - accuracy: 1.0000 - val_loss: 2199.2954 - val_accuracy: 0.7143\n",
            "Epoch 96/1000\n",
            "1/1 [==============================] - 0s 170ms/step - loss: 0.0000e+00 - accuracy: 1.0000 - val_loss: 2205.5437 - val_accuracy: 0.7143\n",
            "Epoch 97/1000\n",
            "1/1 [==============================] - 0s 172ms/step - loss: 0.0000e+00 - accuracy: 1.0000 - val_loss: 2211.1980 - val_accuracy: 0.7143\n",
            "Epoch 98/1000\n",
            "1/1 [==============================] - 0s 171ms/step - loss: 0.0000e+00 - accuracy: 1.0000 - val_loss: 2216.3147 - val_accuracy: 0.7143\n",
            "Epoch 99/1000\n",
            "1/1 [==============================] - 0s 171ms/step - loss: 0.0000e+00 - accuracy: 1.0000 - val_loss: 2220.9438 - val_accuracy: 0.7143\n",
            "Epoch 100/1000\n",
            "1/1 [==============================] - 0s 171ms/step - loss: 0.0000e+00 - accuracy: 1.0000 - val_loss: 2225.1326 - val_accuracy: 0.7143\n",
            "Epoch 101/1000\n",
            "1/1 [==============================] - 0s 171ms/step - loss: 0.0000e+00 - accuracy: 1.0000 - val_loss: 2228.9229 - val_accuracy: 0.7143\n",
            "Epoch 102/1000\n",
            "1/1 [==============================] - 0s 170ms/step - loss: 0.0000e+00 - accuracy: 1.0000 - val_loss: 2232.3516 - val_accuracy: 0.7143\n",
            "Epoch 103/1000\n",
            "1/1 [==============================] - 0s 171ms/step - loss: 0.0000e+00 - accuracy: 1.0000 - val_loss: 2235.4534 - val_accuracy: 0.7143\n",
            "Epoch 104/1000\n",
            "1/1 [==============================] - 0s 170ms/step - loss: 0.0000e+00 - accuracy: 1.0000 - val_loss: 2238.2593 - val_accuracy: 0.7143\n",
            "Epoch 105/1000\n",
            "1/1 [==============================] - 0s 170ms/step - loss: 0.0000e+00 - accuracy: 1.0000 - val_loss: 2240.7971 - val_accuracy: 0.7143\n",
            "Epoch 106/1000\n",
            "1/1 [==============================] - 0s 171ms/step - loss: 0.0000e+00 - accuracy: 1.0000 - val_loss: 2243.0933 - val_accuracy: 0.7143\n",
            "Epoch 107/1000\n",
            "1/1 [==============================] - 0s 170ms/step - loss: 0.0000e+00 - accuracy: 1.0000 - val_loss: 2245.1702 - val_accuracy: 0.7143\n",
            "Epoch 108/1000\n",
            "1/1 [==============================] - 0s 170ms/step - loss: 0.0000e+00 - accuracy: 1.0000 - val_loss: 2247.0481 - val_accuracy: 0.7143\n",
            "Epoch 109/1000\n",
            "1/1 [==============================] - 0s 170ms/step - loss: 0.0000e+00 - accuracy: 1.0000 - val_loss: 2248.7468 - val_accuracy: 0.7143\n",
            "Epoch 110/1000\n",
            "1/1 [==============================] - 0s 170ms/step - loss: 0.0000e+00 - accuracy: 1.0000 - val_loss: 2250.2830 - val_accuracy: 0.7143\n",
            "Epoch 111/1000\n",
            "1/1 [==============================] - 0s 170ms/step - loss: 0.0000e+00 - accuracy: 1.0000 - val_loss: 2251.6719 - val_accuracy: 0.7143\n",
            "Epoch 112/1000\n",
            "1/1 [==============================] - 0s 170ms/step - loss: 0.0000e+00 - accuracy: 1.0000 - val_loss: 2252.9287 - val_accuracy: 0.7143\n",
            "Epoch 113/1000\n",
            "1/1 [==============================] - 0s 170ms/step - loss: 0.0000e+00 - accuracy: 1.0000 - val_loss: 2254.0640 - val_accuracy: 0.7143\n",
            "Epoch 114/1000\n",
            "1/1 [==============================] - 0s 170ms/step - loss: 0.0000e+00 - accuracy: 1.0000 - val_loss: 2255.0911 - val_accuracy: 0.7143\n",
            "Epoch 115/1000\n",
            "1/1 [==============================] - 0s 170ms/step - loss: 0.0000e+00 - accuracy: 1.0000 - val_loss: 2256.0195 - val_accuracy: 0.7143\n",
            "Epoch 116/1000\n",
            "1/1 [==============================] - 0s 172ms/step - loss: 0.0000e+00 - accuracy: 1.0000 - val_loss: 2256.8589 - val_accuracy: 0.7143\n",
            "Epoch 117/1000\n",
            "1/1 [==============================] - 0s 171ms/step - loss: 0.0000e+00 - accuracy: 1.0000 - val_loss: 2257.6174 - val_accuracy: 0.7143\n",
            "Epoch 118/1000\n",
            "1/1 [==============================] - 0s 171ms/step - loss: 0.0000e+00 - accuracy: 1.0000 - val_loss: 2258.3042 - val_accuracy: 0.7143\n",
            "Epoch 119/1000\n",
            "1/1 [==============================] - 0s 173ms/step - loss: 0.0000e+00 - accuracy: 1.0000 - val_loss: 2258.9248 - val_accuracy: 0.7143\n",
            "Epoch 120/1000\n",
            "1/1 [==============================] - 0s 171ms/step - loss: 0.0000e+00 - accuracy: 1.0000 - val_loss: 2259.4856 - val_accuracy: 0.7143\n",
            "Epoch 121/1000\n",
            "1/1 [==============================] - 0s 172ms/step - loss: 0.0000e+00 - accuracy: 1.0000 - val_loss: 2259.9919 - val_accuracy: 0.7143\n",
            "Epoch 122/1000\n",
            "1/1 [==============================] - 0s 170ms/step - loss: 0.0000e+00 - accuracy: 1.0000 - val_loss: 2260.4500 - val_accuracy: 0.7143\n",
            "Epoch 123/1000\n",
            "1/1 [==============================] - 0s 170ms/step - loss: 0.0000e+00 - accuracy: 1.0000 - val_loss: 2260.8645 - val_accuracy: 0.7143\n",
            "Epoch 124/1000\n",
            "1/1 [==============================] - 0s 172ms/step - loss: 0.0000e+00 - accuracy: 1.0000 - val_loss: 2261.2397 - val_accuracy: 0.7143\n",
            "Epoch 125/1000\n",
            "1/1 [==============================] - 0s 170ms/step - loss: 0.0000e+00 - accuracy: 1.0000 - val_loss: 2261.5779 - val_accuracy: 0.7143\n",
            "Epoch 126/1000\n",
            "1/1 [==============================] - 0s 170ms/step - loss: 0.0000e+00 - accuracy: 1.0000 - val_loss: 2261.8838 - val_accuracy: 0.7143\n",
            "Epoch 127/1000\n",
            "1/1 [==============================] - 0s 170ms/step - loss: 0.0000e+00 - accuracy: 1.0000 - val_loss: 2262.1602 - val_accuracy: 0.7143\n",
            "Epoch 128/1000\n",
            "1/1 [==============================] - 0s 170ms/step - loss: 0.0000e+00 - accuracy: 1.0000 - val_loss: 2262.4097 - val_accuracy: 0.7143\n",
            "Epoch 129/1000\n",
            "1/1 [==============================] - 0s 171ms/step - loss: 0.0000e+00 - accuracy: 1.0000 - val_loss: 2262.6355 - val_accuracy: 0.7143\n",
            "Epoch 130/1000\n",
            "1/1 [==============================] - 0s 171ms/step - loss: 0.0000e+00 - accuracy: 1.0000 - val_loss: 2262.8394 - val_accuracy: 0.7143\n",
            "Epoch 131/1000\n",
            "1/1 [==============================] - 0s 171ms/step - loss: 0.0000e+00 - accuracy: 1.0000 - val_loss: 2263.0249 - val_accuracy: 0.7143\n",
            "Epoch 132/1000\n",
            "1/1 [==============================] - 0s 171ms/step - loss: 0.0000e+00 - accuracy: 1.0000 - val_loss: 2263.1912 - val_accuracy: 0.7143\n",
            "Epoch 133/1000\n",
            "1/1 [==============================] - 0s 172ms/step - loss: 0.0000e+00 - accuracy: 1.0000 - val_loss: 2263.3413 - val_accuracy: 0.7143\n",
            "Epoch 134/1000\n",
            "1/1 [==============================] - 0s 170ms/step - loss: 0.0000e+00 - accuracy: 1.0000 - val_loss: 2263.4780 - val_accuracy: 0.7143\n",
            "Epoch 135/1000\n",
            "1/1 [==============================] - 0s 170ms/step - loss: 0.0000e+00 - accuracy: 1.0000 - val_loss: 2263.6011 - val_accuracy: 0.7143\n",
            "Epoch 136/1000\n",
            "1/1 [==============================] - 0s 171ms/step - loss: 0.0000e+00 - accuracy: 1.0000 - val_loss: 2263.7124 - val_accuracy: 0.7143\n",
            "Epoch 137/1000\n",
            "1/1 [==============================] - 0s 171ms/step - loss: 0.0000e+00 - accuracy: 1.0000 - val_loss: 2263.8135 - val_accuracy: 0.7143\n",
            "Epoch 138/1000\n",
            "1/1 [==============================] - 0s 171ms/step - loss: 0.0000e+00 - accuracy: 1.0000 - val_loss: 2263.9041 - val_accuracy: 0.7143\n",
            "Epoch 139/1000\n",
            "1/1 [==============================] - 0s 170ms/step - loss: 0.0000e+00 - accuracy: 1.0000 - val_loss: 2263.9861 - val_accuracy: 0.7143\n",
            "Epoch 140/1000\n",
            "1/1 [==============================] - 0s 171ms/step - loss: 0.0000e+00 - accuracy: 1.0000 - val_loss: 2264.0601 - val_accuracy: 0.7143\n",
            "Epoch 141/1000\n",
            "1/1 [==============================] - 0s 173ms/step - loss: 0.0000e+00 - accuracy: 1.0000 - val_loss: 2264.1272 - val_accuracy: 0.7143\n",
            "Epoch 142/1000\n",
            "1/1 [==============================] - 0s 171ms/step - loss: 0.0000e+00 - accuracy: 1.0000 - val_loss: 2264.1877 - val_accuracy: 0.7143\n",
            "Epoch 143/1000\n",
            "1/1 [==============================] - 0s 171ms/step - loss: 0.0000e+00 - accuracy: 1.0000 - val_loss: 2264.2424 - val_accuracy: 0.7143\n",
            "Epoch 144/1000\n",
            "1/1 [==============================] - 0s 177ms/step - loss: 0.0000e+00 - accuracy: 1.0000 - val_loss: 2264.2925 - val_accuracy: 0.7143\n",
            "Epoch 145/1000\n",
            "1/1 [==============================] - 0s 172ms/step - loss: 0.0000e+00 - accuracy: 1.0000 - val_loss: 2264.3362 - val_accuracy: 0.7143\n",
            "Epoch 146/1000\n",
            "1/1 [==============================] - 0s 172ms/step - loss: 0.0000e+00 - accuracy: 1.0000 - val_loss: 2264.3770 - val_accuracy: 0.7143\n",
            "Epoch 147/1000\n",
            "1/1 [==============================] - 0s 172ms/step - loss: 0.0000e+00 - accuracy: 1.0000 - val_loss: 2264.4128 - val_accuracy: 0.7143\n",
            "Epoch 148/1000\n",
            "1/1 [==============================] - 0s 172ms/step - loss: 0.0000e+00 - accuracy: 1.0000 - val_loss: 2264.4456 - val_accuracy: 0.7143\n",
            "Epoch 149/1000\n",
            "1/1 [==============================] - 0s 171ms/step - loss: 0.0000e+00 - accuracy: 1.0000 - val_loss: 2264.4753 - val_accuracy: 0.7143\n",
            "Epoch 150/1000\n",
            "1/1 [==============================] - 0s 172ms/step - loss: 0.0000e+00 - accuracy: 1.0000 - val_loss: 2264.5024 - val_accuracy: 0.7143\n",
            "Epoch 151/1000\n",
            "1/1 [==============================] - 0s 172ms/step - loss: 0.0000e+00 - accuracy: 1.0000 - val_loss: 2264.5273 - val_accuracy: 0.7143\n",
            "Epoch 152/1000\n",
            "1/1 [==============================] - 0s 171ms/step - loss: 0.0000e+00 - accuracy: 1.0000 - val_loss: 2264.5491 - val_accuracy: 0.7143\n",
            "Epoch 153/1000\n",
            "1/1 [==============================] - 0s 171ms/step - loss: 0.0000e+00 - accuracy: 1.0000 - val_loss: 2264.5688 - val_accuracy: 0.7143\n",
            "Epoch 154/1000\n",
            "1/1 [==============================] - 0s 172ms/step - loss: 0.0000e+00 - accuracy: 1.0000 - val_loss: 2264.5864 - val_accuracy: 0.7143\n",
            "Epoch 155/1000\n",
            "1/1 [==============================] - 0s 173ms/step - loss: 0.0000e+00 - accuracy: 1.0000 - val_loss: 2264.6028 - val_accuracy: 0.7143\n",
            "Epoch 156/1000\n",
            "1/1 [==============================] - 0s 172ms/step - loss: 0.0000e+00 - accuracy: 1.0000 - val_loss: 2264.6169 - val_accuracy: 0.7143\n",
            "Epoch 157/1000\n",
            "1/1 [==============================] - 0s 172ms/step - loss: 0.0000e+00 - accuracy: 1.0000 - val_loss: 2264.6294 - val_accuracy: 0.7143\n",
            "Epoch 158/1000\n",
            "1/1 [==============================] - 0s 173ms/step - loss: 0.0000e+00 - accuracy: 1.0000 - val_loss: 2264.6418 - val_accuracy: 0.7143\n",
            "Epoch 159/1000\n",
            "1/1 [==============================] - 0s 173ms/step - loss: 0.0000e+00 - accuracy: 1.0000 - val_loss: 2264.6526 - val_accuracy: 0.7143\n",
            "Epoch 160/1000\n",
            "1/1 [==============================] - 0s 172ms/step - loss: 0.0000e+00 - accuracy: 1.0000 - val_loss: 2264.6633 - val_accuracy: 0.7143\n",
            "Epoch 161/1000\n",
            "1/1 [==============================] - ETA: 0s - loss: 0.0000e+00 - accuracy: 1.0000Restoring model weights from the end of the best epoch: 61.\n",
            "1/1 [==============================] - 0s 174ms/step - loss: 0.0000e+00 - accuracy: 1.0000 - val_loss: 2264.6716 - val_accuracy: 0.7143\n"
          ]
        },
        {
          "name": "stdout",
          "output_type": "stream",
          "text": [
            "Epoch 161: early stopping\n"
          ]
        },
        {
          "data": {
            "text/plain": [
              "<keras.callbacks.History at 0x15d8e7700>"
            ]
          },
          "execution_count": 7,
          "metadata": {},
          "output_type": "execute_result"
        }
      ],
      "source": [
        "model.compile(\n",
        "    optimizer='adam',\n",
        "    loss='binary_crossentropy',\n",
        "    metrics=['accuracy'])\n",
        "\n",
        "early_stopping = EarlyStopping(\n",
        "    monitor='val_loss',\n",
        "    patience=100,\n",
        "    verbose=1,\n",
        "    restore_best_weights=True)\n",
        "\n",
        "# I have a large split for validation so that I'm likely\n",
        "# to see some Shakespeare texts in the validation data too.\n",
        "# I could have ensured this in other ways, but I chose not to.\n",
        "# It's a small job, so I can afford to train for a lot of\n",
        "# epochs; and to get good accuracy, I need to.\n",
        "model.fit(\n",
        "    X_train,\n",
        "    y_train,\n",
        "    epochs=1000,\n",
        "    validation_split=0.5, callbacks=[early_stopping])"
      ]
    },
    {
      "cell_type": "code",
      "execution_count": null,
      "id": "da702435",
      "metadata": {
        "id": "da702435",
        "outputId": "2b1a398e-86e9-4c6e-d47c-7654bc2aa557"
      },
      "outputs": [
        {
          "name": "stderr",
          "output_type": "stream",
          "text": [
            "2023-09-22 15:29:15.355254: I tensorflow/core/grappler/optimizers/custom_graph_optimizer_registry.cc:113] Plugin optimizer for device_type GPU is enabled.\n"
          ]
        },
        {
          "name": "stdout",
          "output_type": "stream",
          "text": [
            "1/1 [==============================] - 17s 17s/step\n",
            "Predictions:\n",
            " fileid\n",
            "chesterton-thursday.txt    0.0\n",
            "bible-kjv.txt              1.0\n",
            "melville-moby_dick.txt     0.0\n",
            "shakespeare-caesar.txt     0.0\n",
            "chesterton-ball.txt        0.0\n",
            "dtype: float32\n",
            "1/1 [==============================] - 0s 229ms/step - loss: 209.9941 - accuracy: 0.6000\n",
            "Accuracy on held-out test data: 60.00%\n"
          ]
        }
      ],
      "source": [
        "# So how did we do?\n",
        "\n",
        "predictions = pd.Series(index=X_test.index,\n",
        "                        data=model.predict(X_test)[:,0])\n",
        "print(f\"Predictions:\\n\", predictions)\n",
        "loss, accuracy = model.evaluate(X_test, y_test)\n",
        "print(f\"Accuracy on held-out test data: {accuracy * 100:.2f}%\")"
      ]
    }
  ],
  "metadata": {
    "kernelspec": {
      "display_name": "Python 3 (ipykernel)",
      "language": "python",
      "name": "python3"
    },
    "language_info": {
      "codemirror_mode": {
        "name": "ipython",
        "version": 3
      },
      "file_extension": ".py",
      "mimetype": "text/x-python",
      "name": "python",
      "nbconvert_exporter": "python",
      "pygments_lexer": "ipython3",
      "version": "3.10.12"
    },
    "colab": {
      "provenance": []
    }
  },
  "nbformat": 4,
  "nbformat_minor": 5
}